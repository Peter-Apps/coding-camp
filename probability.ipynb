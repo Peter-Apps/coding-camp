{
 "cells": [
  {
   "cell_type": "markdown",
   "metadata": {
    "id": "52f2j4_f1dFr"
   },
   "source": [
    "# Step 1\n",
    "Consider an activity you might perform with students: flip a coin 10 times and record the number of heads, repeat for 8 trials (80 total flips), then make a histogram of the number of heads for each trial.  \n",
    "- Write out what a set of data might look like.  \n",
    "- Sketch a histogram of what that data might look like. \n",
    "- Write a list of steps a computer program might need to perform to simulate the investigation. This is called 'pseudocode'.   \n",
    "\n",
    "# Step 2\n",
    "Run the code below. Try editing it to more closely match the activity described in step 1.\n",
    "\n",
    "# Step 3\n",
    "How does your pseudocode compare with the Python code? "
   ]
  },
  {
   "cell_type": "code",
   "execution_count": null,
   "metadata": {
    "id": "hsGWCS1A0zq7"
   },
   "outputs": [],
   "source": [
    "# imports some software packages we'll use\n",
    "import pandas as pd\n",
    "import numpy as np\n",
    "import matplotlib as mpl\n",
    "import matplotlib.pyplot as plt\n",
    "from random import randint "
   ]
  },
  {
   "cell_type": "markdown",
   "metadata": {
    "id": "kVbi8iHyRGB8"
   },
   "source": [
    "We're going to use a function called randint. It may work a little differently than it appears. You can read about how it works at : https://numpy.org/doc/stable/reference/random/generated/numpy.random.randint.html"
   ]
  },
  {
   "cell_type": "code",
   "execution_count": null,
   "metadata": {
    "colab": {
     "base_uri": "https://localhost:8080/",
     "height": 52
    },
    "id": "pNym1yzm8ZX_",
    "outputId": "495e961e-2a5c-4ba6-ba3c-7def232f6199"
   },
   "outputs": [],
   "source": [
    "# Does this model random coin flips? What could you do to improve the model?\n",
    "flips = np.random.randint(low=0, high=6, size=25)\n",
    "flips"
   ]
  },
  {
   "cell_type": "code",
   "execution_count": null,
   "metadata": {
    "colab": {
     "base_uri": "https://localhost:8080/",
     "height": 265
    },
    "id": "iUTCIChc-5e_",
    "outputId": "0306ecdf-e6f4-455e-95dc-bf1099dce366"
   },
   "outputs": [],
   "source": [
    "# create a histogram\n",
    "plt.hist(flips, bins = [0,1,2,3,4], color='lightblue', edgecolor = 'black' );"
   ]
  },
  {
   "cell_type": "code",
   "execution_count": null,
   "metadata": {
    "id": "yazKKE36RgzZ"
   },
   "outputs": [],
   "source": [
    "# re-center the histogram bins \n",
    "bin_list = [0,1,2,3,4,5,6,7,8,9]\n",
    "plt.hist(flips, bins = np.subtract(bin_list,0.5), color='lightblue', edgecolor = 'black' );"
   ]
  },
  {
   "cell_type": "markdown",
   "metadata": {
    "id": "iaucazoPNHp3"
   },
   "source": [
    "# Step 4: Main Task\n",
    "Now that you know how to generate random numbers and create histograms, use these new skills to simulate the behavior of ***dice***. \n",
    "\n",
    "Model what will happen if a person throws a pair of dice many times by copying your code from above into the cell below and edit as needed."
   ]
  },
  {
   "cell_type": "code",
   "execution_count": null,
   "metadata": {
    "id": "wb-CjyqhAZK-"
   },
   "outputs": [],
   "source": [
    "# Use this block to write your new code for the dice."
   ]
  },
  {
   "cell_type": "markdown",
   "metadata": {
    "id": "z_B7KCSh_ZWd"
   },
   "source": [
    "# Step 5: Extension Tasks  \n",
    "Try modifying your code for these new scenarios:  \n",
    "- What happens to the shape of the histogram if you increase the number of throws to a very large number (perhaps one million throws)?\n",
    "- Rather than a pair of 6-sided dice (d6), instead simulate rolling a pair of **10-sided** (d10) dice!\n",
    "- How does the appearance of the histogram change if a person rolls **three** dice at once rather than two? What about **four** dice?\n",
    "- Pretend that one of the dice is damaged, and produces the number 5 slightly more often than the other numbers. How will the histogram shape change?"
   ]
  },
  {
   "cell_type": "code",
   "execution_count": null,
   "metadata": {
    "id": "YIXQ8ghfAkY3"
   },
   "outputs": [],
   "source": [
    "# Use this block for the step 5 extension tasks."
   ]
  }
 ],
 "metadata": {
  "colab": {
   "collapsed_sections": [],
   "name": "1_Probability",
   "provenance": []
  },
  "kernelspec": {
   "display_name": "Python 3",
   "language": "python",
   "name": "python3"
  },
  "language_info": {
   "codemirror_mode": {
    "name": "ipython",
    "version": 3
   },
   "file_extension": ".py",
   "mimetype": "text/x-python",
   "name": "python",
   "nbconvert_exporter": "python",
   "pygments_lexer": "ipython3",
   "version": "3.7.7"
  }
 },
 "nbformat": 4,
 "nbformat_minor": 1
}
