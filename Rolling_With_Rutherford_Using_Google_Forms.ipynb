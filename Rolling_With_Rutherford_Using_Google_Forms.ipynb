{
  "nbformat": 4,
  "nbformat_minor": 0,
  "metadata": {
    "colab": {
      "name": "RwR w/ Google Form",
      "private_outputs": true,
      "provenance": [],
      "authorship_tag": "ABX9TyNyBpcXUA5yzErIQnWXqYwa",
      "include_colab_link": true
    },
    "kernelspec": {
      "name": "python3",
      "display_name": "Python 3"
    },
    "language_info": {
      "name": "python"
    }
  },
  "cells": [
    {
      "cell_type": "markdown",
      "metadata": {
        "id": "view-in-github",
        "colab_type": "text"
      },
      "source": [
        "<a href=\"https://colab.research.google.com/github/Peter-Apps/coding-camp/blob/main/Rolling_With_Rutherford_Using_Google_Forms.ipynb\" target=\"_parent\"><img src=\"https://colab.research.google.com/assets/colab-badge.svg\" alt=\"Open In Colab\"/></a>"
      ]
    },
    {
      "cell_type": "markdown",
      "metadata": {
        "id": "8ImqtsdAg9Sw"
      },
      "source": [
        "#Rolling with Rutherford - Digital Edition\n"
      ]
    },
    {
      "cell_type": "markdown",
      "metadata": {
        "id": "VN1e9yGOmY7p"
      },
      "source": [
        "### Setup"
      ]
    },
    {
      "cell_type": "code",
      "metadata": {
        "id": "OFC7LTQwXpQK"
      },
      "source": [
        "# Importing useful libraries to create the histogram\n",
        "import numpy as np\n",
        "import pandas as pd\n",
        "from matplotlib import pyplot as plt"
      ],
      "execution_count": null,
      "outputs": []
    },
    {
      "cell_type": "code",
      "metadata": {
        "id": "RG5F5fdBhSo4"
      },
      "source": [
        "# Size of marble (used to grab the correct global data set)\n",
        "# Choices are Standard and Shooter, See the teacher guide for metric measurements\n",
        "size_of_marble = \"Standard\"\n",
        "\n",
        "# The width of your rolling area\n",
        "width = 0\n",
        "\n",
        "# The number of targets used\n",
        "num_targets = 0"
      ],
      "execution_count": null,
      "outputs": []
    },
    {
      "cell_type": "markdown",
      "metadata": {
        "id": "Hag1AGasYRCW"
      },
      "source": [
        "\n",
        "### Entering your locally measured data\n"
      ]
    },
    {
      "cell_type": "code",
      "metadata": {
        "id": "2wEALO3TYbhP"
      },
      "source": [
        "# Have each group please enter the number of hits they obtained in 10 rolls. \n",
        "# Separate each group's data with a comma\n",
        "\n",
        "hits = [5,10,2,3,4,6,7,10,2,5,6,7,2] #<-- Sample Data (please replace with your own)"
      ],
      "execution_count": null,
      "outputs": []
    },
    {
      "cell_type": "code",
      "metadata": {
        "id": "fdVwjWkxZCGI"
      },
      "source": [
        "# Creating a histogram of your local data\n",
        "num_trials = len(hits)\n",
        "num_rolls = 10 * num_trials\n",
        "\n",
        "local_plot = plt.hist(hits, range(num_trials), align='left')\n",
        "plt.xticks(range(num_trials - 1))\n",
        "plt.ylabel(\"Count\")\n",
        "plt.xlabel(\"Number of Hits\")\n",
        "plt.show()"
      ],
      "execution_count": null,
      "outputs": []
    },
    {
      "cell_type": "markdown",
      "metadata": {
        "id": "tmyukO7RuuIr"
      },
      "source": [
        "### Calculating the indirect diameter of the marble\n"
      ]
    },
    {
      "cell_type": "markdown",
      "metadata": {
        "id": "tM3rPAsEu7rb"
      },
      "source": [
        "The probability of a hit ($P$) is determined by the number of targets ($N$), the width of the rolling area ($W$), the diameter of the target ($D$). In our experiment $P = \\frac{n}{10}$ where $n$ is the number of hits.\n",
        "\n",
        "$P = \\frac{N(2D)}{W - D} \\rightarrow D = \\frac{Wn}{20N+n}$"
      ]
    },
    {
      "cell_type": "code",
      "metadata": {
        "id": "cMmmPClUu6C0"
      },
      "source": [
        "# Enter the most likely number of hits here:\n",
        "p_hit = \n",
        "\n",
        "# The units of width and diameter will be the same\n",
        "calc_diameter = (width * p_hit) / (20 * num_targets + p_hit)\n",
        "print(calc_diameter)"
      ],
      "execution_count": null,
      "outputs": []
    },
    {
      "cell_type": "markdown",
      "metadata": {
        "id": "EGJ1qDwSaARh"
      },
      "source": [
        "### Comparing your local data with a global dataset\n",
        "\n",
        "***Please add your data to the set by using the link [here](https://docs.google.com/forms/d/e/1FAIpQLScCgj1pTB8a8jZcOPvsmY8q6Or8eKT7gR3mMMcB6EAoAXu1NA/viewform)!***"
      ]
    },
    {
      "cell_type": "code",
      "metadata": {
        "id": "zCaTYsCMgufT"
      },
      "source": [
        "# Getting the data from the global spreadsheet\n",
        "if size_of_marble == \"Standard\":\n",
        "  data = pd.read_excel(\"https://docs.google.com/spreadsheets/d/1EJhtT4Ssbem1JkzcJplULYW-ojKwmg4DqQRNeElAmyw/export\", sheet_name = 1)\n",
        "else:\n",
        "  data = pd.read_excel(\"https://docs.google.com/spreadsheets/d/1EJhtT4Ssbem1JkzcJplULYW-ojKwmg4DqQRNeElAmyw/export\", sheet_name = 2)\n",
        "\n",
        "print(f'This data set has {data.shape[0]} data points')"
      ],
      "execution_count": null,
      "outputs": []
    },
    {
      "cell_type": "code",
      "metadata": {
        "id": "7r7IZyW0iAw-"
      },
      "source": [
        "# Create the global histogram\n",
        "global_hits = data['Number of Hits per 10 Rolls']\n",
        "num_global_trials = len(hits)\n",
        "num_global_rolls = 10 * num_trials\n",
        "\n",
        "global_plot = plt.hist(global_hits, range(num_global_trials), align='left')\n",
        "plt.xticks(range(num_global_trials - 1))\n",
        "plt.ylabel(\"Count\")\n",
        "plt.xlabel(\"Number of Hits\")\n",
        "plt.show()"
      ],
      "execution_count": null,
      "outputs": []
    },
    {
      "cell_type": "code",
      "metadata": {
        "id": "zNysVhUbitlN"
      },
      "source": [
        "# Overlay view with local data and global data\n",
        "\n",
        "plt.hist(global_hits, range(num_global_trials), align='left', alpha=0.5, label = \"Global Data\", edgecolor = 'k', color = 'green')\n",
        "plt.hist(hits, range(num_trials), align='left', alpha = 0.5, label = \"Local Data\", edgecolor = 'k', color = 'blue')\n",
        "plt.legend(loc='upper right')\n",
        "plt.show()"
      ],
      "execution_count": null,
      "outputs": []
    }
  ]
}