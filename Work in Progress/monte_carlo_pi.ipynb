{
 "cells": [
  {
   "cell_type": "markdown",
   "id": "de112e78",
   "metadata": {},
   "source": [
    "# Monte Carlo methods\n",
    "\n",
    "### Part 1: estimating pi"
   ]
  },
  {
   "cell_type": "code",
   "execution_count": 1,
   "id": "a8851c05",
   "metadata": {},
   "outputs": [],
   "source": [
    "import numpy as np\n",
    "from numpy.random import default_rng\n",
    "import matplotlib as mpl\n",
    "import matplotlib.pyplot as plt\n",
    "import pandas as pd"
   ]
  },
  {
   "cell_type": "code",
   "execution_count": 2,
   "id": "2550f14a",
   "metadata": {},
   "outputs": [
    {
     "data": {
      "text/html": [
       "<div>\n",
       "<style scoped>\n",
       "    .dataframe tbody tr th:only-of-type {\n",
       "        vertical-align: middle;\n",
       "    }\n",
       "\n",
       "    .dataframe tbody tr th {\n",
       "        vertical-align: top;\n",
       "    }\n",
       "\n",
       "    .dataframe thead th {\n",
       "        text-align: right;\n",
       "    }\n",
       "</style>\n",
       "<table border=\"1\" class=\"dataframe\">\n",
       "  <thead>\n",
       "    <tr style=\"text-align: right;\">\n",
       "      <th></th>\n",
       "      <th>x</th>\n",
       "      <th>y</th>\n",
       "    </tr>\n",
       "  </thead>\n",
       "  <tbody>\n",
       "    <tr>\n",
       "      <th>0</th>\n",
       "      <td>-0.979559</td>\n",
       "      <td>0.319192</td>\n",
       "    </tr>\n",
       "    <tr>\n",
       "      <th>1</th>\n",
       "      <td>0.075059</td>\n",
       "      <td>-0.447748</td>\n",
       "    </tr>\n",
       "    <tr>\n",
       "      <th>2</th>\n",
       "      <td>-0.375957</td>\n",
       "      <td>-0.235099</td>\n",
       "    </tr>\n",
       "    <tr>\n",
       "      <th>3</th>\n",
       "      <td>-0.726177</td>\n",
       "      <td>-0.023125</td>\n",
       "    </tr>\n",
       "    <tr>\n",
       "      <th>4</th>\n",
       "      <td>0.843913</td>\n",
       "      <td>-0.814316</td>\n",
       "    </tr>\n",
       "  </tbody>\n",
       "</table>\n",
       "</div>"
      ],
      "text/plain": [
       "          x         y\n",
       "0 -0.979559  0.319192\n",
       "1  0.075059 -0.447748\n",
       "2 -0.375957 -0.235099\n",
       "3 -0.726177 -0.023125\n",
       "4  0.843913 -0.814316"
      ]
     },
     "execution_count": 2,
     "metadata": {},
     "output_type": "execute_result"
    }
   ],
   "source": [
    "rng = default_rng()\n",
    "\n",
    "data = pd.DataFrame()\n",
    "data['x'] = rng.uniform(low=-1, high=1, size=100)\n",
    "data['y'] = rng.uniform(low=-1, high=1, size=100)\n",
    "\n",
    "data.head()"
   ]
  },
  {
   "cell_type": "code",
   "execution_count": 3,
   "id": "c1b3afb3",
   "metadata": {},
   "outputs": [
    {
     "data": {
      "image/png": "[encoded data removed]",
      "text/plain": [
       "<Figure size 432x288 with 1 Axes>"
      ]
     },
     "metadata": {
      "needs_background": "light"
     },
     "output_type": "display_data"
    }
   ],
   "source": [
    "fig, ax = plt.subplots()\n",
    "ax.scatter(data['x'], data['y'], s=1, color='purple')\n",
    "ax.add_patch(plt.Circle((0, 0), 1, color='k', alpha=.2))\n",
    "ax.set_aspect('equal')\n",
    "plt.show()"
   ]
  },
  {
   "cell_type": "code",
   "execution_count": 4,
   "id": "803aa244",
   "metadata": {},
   "outputs": [
    {
     "data": {
      "text/html": [
       "<div>\n",
       "<style scoped>\n",
       "    .dataframe tbody tr th:only-of-type {\n",
       "        vertical-align: middle;\n",
       "    }\n",
       "\n",
       "    .dataframe tbody tr th {\n",
       "        vertical-align: top;\n",
       "    }\n",
       "\n",
       "    .dataframe thead th {\n",
       "        text-align: right;\n",
       "    }\n",
       "</style>\n",
       "<table border=\"1\" class=\"dataframe\">\n",
       "  <thead>\n",
       "    <tr style=\"text-align: right;\">\n",
       "      <th></th>\n",
       "      <th>x</th>\n",
       "      <th>y</th>\n",
       "      <th>dist</th>\n",
       "    </tr>\n",
       "  </thead>\n",
       "  <tbody>\n",
       "    <tr>\n",
       "      <th>0</th>\n",
       "      <td>-0.979559</td>\n",
       "      <td>0.319192</td>\n",
       "      <td>1.030252</td>\n",
       "    </tr>\n",
       "    <tr>\n",
       "      <th>1</th>\n",
       "      <td>0.075059</td>\n",
       "      <td>-0.447748</td>\n",
       "      <td>0.453995</td>\n",
       "    </tr>\n",
       "    <tr>\n",
       "      <th>2</th>\n",
       "      <td>-0.375957</td>\n",
       "      <td>-0.235099</td>\n",
       "      <td>0.443413</td>\n",
       "    </tr>\n",
       "    <tr>\n",
       "      <th>3</th>\n",
       "      <td>-0.726177</td>\n",
       "      <td>-0.023125</td>\n",
       "      <td>0.726545</td>\n",
       "    </tr>\n",
       "    <tr>\n",
       "      <th>4</th>\n",
       "      <td>0.843913</td>\n",
       "      <td>-0.814316</td>\n",
       "      <td>1.172731</td>\n",
       "    </tr>\n",
       "  </tbody>\n",
       "</table>\n",
       "</div>"
      ],
      "text/plain": [
       "          x         y      dist\n",
       "0 -0.979559  0.319192  1.030252\n",
       "1  0.075059 -0.447748  0.453995\n",
       "2 -0.375957 -0.235099  0.443413\n",
       "3 -0.726177 -0.023125  0.726545\n",
       "4  0.843913 -0.814316  1.172731"
      ]
     },
     "execution_count": 4,
     "metadata": {},
     "output_type": "execute_result"
    }
   ],
   "source": [
    "data['dist'] = np.abs(np.sqrt(data['x']**2 + data['y']**2))\n",
    "data.head()"
   ]
  },
  {
   "cell_type": "code",
   "execution_count": 5,
   "id": "b8be4f53",
   "metadata": {},
   "outputs": [
    {
     "data": {
      "text/plain": [
       "0.79"
      ]
     },
     "execution_count": 5,
     "metadata": {},
     "output_type": "execute_result"
    }
   ],
   "source": [
    "points_inside = data.query('dist < 1').shape[0]\n",
    "num_points = data.shape[0]\n",
    "\n",
    "points_inside / num_points"
   ]
  },
  {
   "cell_type": "code",
   "execution_count": 6,
   "id": "4bdc9f7a",
   "metadata": {},
   "outputs": [
    {
     "data": {
      "text/plain": [
       "3.16"
      ]
     },
     "execution_count": 6,
     "metadata": {},
     "output_type": "execute_result"
    }
   ],
   "source": [
    "# circle area = pi * r ^2 = pi\n",
    "# square area = 4\n",
    "# so pi = 4 * (points in circle / all points)\n",
    "\n",
    "4 * points_inside / num_points"
   ]
  },
  {
   "cell_type": "markdown",
   "id": "22052170",
   "metadata": {},
   "source": [
    "### Part 2: estimating distance traveled\n",
    "What sorts of functions would need MC to evaluate **and** be relevant to the course?"
   ]
  },
  {
   "cell_type": "code",
   "execution_count": 7,
   "id": "5e90c640",
   "metadata": {},
   "outputs": [],
   "source": [
    "# plot velocity function with np.linspace"
   ]
  },
  {
   "cell_type": "code",
   "execution_count": 8,
   "id": "ad62af0d",
   "metadata": {},
   "outputs": [],
   "source": [
    "# plot random points"
   ]
  },
  {
   "cell_type": "code",
   "execution_count": 9,
   "id": "82cc6f85",
   "metadata": {},
   "outputs": [],
   "source": [
    "# count fraction of points below function"
   ]
  },
  {
   "cell_type": "code",
   "execution_count": null,
   "id": "f1bae6ab",
   "metadata": {},
   "outputs": [],
   "source": [
    "# use fraction to determine area below curve"
   ]
  }
 ],
 "metadata": {
  "kernelspec": {
   "display_name": "Python 3 (ipykernel)",
   "language": "python",
   "name": "python3"
  },
  "language_info": {
   "codemirror_mode": {
    "name": "ipython",
    "version": 3
   },
   "file_extension": ".py",
   "mimetype": "text/x-python",
   "name": "python",
   "nbconvert_exporter": "python",
   "pygments_lexer": "ipython3",
   "version": "3.9.7"
  }
 },
 "nbformat": 4,
 "nbformat_minor": 5
}
