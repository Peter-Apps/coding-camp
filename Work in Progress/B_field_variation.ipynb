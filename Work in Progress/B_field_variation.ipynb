{
 "cells": [
  {
   "cell_type": "markdown",
   "metadata": {},
   "source": [
    "# B-Field Variation\n",
    "Does the magnetic field around your workspace have the same magnitude as outside of the building? Perform an investigation to answer that and replace the pseudocode below with your own analysis of data you collect."
   ]
  },
  {
   "cell_type": "code",
   "execution_count": null,
   "metadata": {},
   "outputs": [],
   "source": [
    "# import modules needed"
   ]
  },
  {
   "cell_type": "code",
   "execution_count": null,
   "metadata": {},
   "outputs": [],
   "source": [
    "# read in data files"
   ]
  },
  {
   "cell_type": "code",
   "execution_count": null,
   "metadata": {},
   "outputs": [],
   "source": [
    "# caluclate a Holmes t' to compare the two samples"
   ]
  },
  {
   "cell_type": "code",
   "execution_count": null,
   "metadata": {},
   "outputs": [],
   "source": [
    "# vizualize data to highlight relvant pattern"
   ]
  },
  {
   "cell_type": "code",
   "execution_count": null,
   "metadata": {},
   "outputs": [],
   "source": [
    "# answer the research question in claim-evidence-reasoning style"
   ]
  },
  {
   "cell_type": "markdown",
   "metadata": {},
   "source": [
    "# Resources  \n",
    "Here are some additional resources which may be useful in this investigation.  "
   ]
  },
  {
   "cell_type": "code",
   "execution_count": null,
   "metadata": {},
   "outputs": [],
   "source": [
    "# reads in public data file from the web (doesn't apply to files in Google Drive)\n",
    "pd.read_csv('http://URL/of/file.csv')\n",
    "pd.read_excel('http://URL/of/file.xls') # reads .xls and .xlsx"
   ]
  },
  {
   "cell_type": "markdown",
   "metadata": {},
   "source": [
    "### To read a file stored in your own Google Drive:\n",
    "\n",
    "*Note: this only reads from your own Drive, not between users*  \n",
    "\n",
    "- In Colab, click folder icon in left menu. It's below the {x}\n",
    "- Then click Google Drive folder icon at top of that window. It'll ask you for permission.\n",
    "- Wait until you see \"drive\" appear in the directory on the left. Then, \n",
    "- Navigate to the file you want to read in\n",
    "- Right-click on the filename or click the 3 vertical dots at the end of the filename to \"copy path\"\n",
    "- Paste that path as the URL in your read function with single quotes around it.\n",
    "\n",
    "See the following code examples."
   ]
  },
  {
   "cell_type": "markdown",
   "metadata": {},
   "source": [
    "### To upload a file directly:  \n",
    "\n",
    "*Note: this only lasts for the duration of running this notebook. You'll need to repeat this if you close the notebook and come back to it later.*\n",
    "\n",
    "- in Colab, click folder icon in left menu. It's below the {x}\n",
    "- then click the upload icon at top of that window\n",
    "- Wait until you see the filename appear in the directory on the left. Then, \n",
    "- Right-click on the filename or click the 3 vertical dots at the end of the filename to \"copy path\"\n",
    "- Paste that path as the URL in your read fucntion with single quotes around it.\n",
    "\n",
    "See the following code examples."
   ]
  },
  {
   "cell_type": "code",
   "execution_count": null,
   "metadata": {},
   "outputs": [],
   "source": [
    "# Colab doesn't currently like the older .xls format.\n",
    "pd.read_csv('URL/path/you/copied.csv')\n",
    "pd.read_excel('URL/path/you/copied.xlsx')\n",
    "\n",
    "# or an image (which requires double quotes)\n",
    "\n",
    "image = plt.imread(\"URL/path/you/copied.png\")\n",
    "plt.imshow(image)"
   ]
  },
  {
   "cell_type": "markdown",
   "metadata": {},
   "source": [
    "### Uncertainty analysis\n",
    "Dr. Natasha Holmes (Physicist at Cornell) has developed a method of comparing measurements and accounting for uncertainty for use in her undergraduate physics lab courses. Here's a [spreasheet](https://docs.google.com/spreadsheets/d/1P3z1_KIZEW_NNx0FxZ2LPc_qS9f2-1P5Gt-9G8nYeZM/edit?usp=sharing) of an example calculation. You can read more in this [annotated version of her Statistics Summary](https://drive.google.com/file/d/1hIjk8wtpjZ5ZDllwFkWIcyV7dJvXzR0G/view?usp=sharing)."
   ]
  },
  {
   "cell_type": "markdown",
   "metadata": {},
   "source": [
    "### Ploting to show uncertainties"
   ]
  },
  {
   "cell_type": "code",
   "execution_count": null,
   "metadata": {},
   "outputs": [],
   "source": [
    "# A scatterplot is good for when your test \n",
    "# variable (independent) has levels that are\n",
    "# numeric, like distances or lengths. \n",
    "\n",
    "# the values that get plotted\n",
    "x_values = [a_level, b_level]\n",
    "y_values = [a_mean, b_mean]\n",
    "errorbars = [a_unc, b_unc]\n",
    "\n",
    "# make the plot\n",
    "fig, ax = plt.subplots()\n",
    "ax.scatter(x_values, y_values)\n",
    "ax.errorbar(x_values, y_values, yerr=errorbars, ecolor='black', capsize=10, fmt='o')\n",
    "plt.show()"
   ]
  },
  {
   "cell_type": "code",
   "execution_count": null,
   "metadata": {},
   "outputs": [],
   "source": [
    "# A barplot is good for when your test\n",
    "# variable (independent) has levels that \n",
    "# aren't numeric, like \"facing left\" and \"facing right\". \n",
    "\n",
    "# set up the values that get plotted\n",
    "bar_labels = [\"a_level\", \"b_level\"]\n",
    "bar_heights = [a_mean, b_mean]\n",
    "errorbars = [a_unc, b_unc]\n",
    "\n",
    "# make the plot\n",
    "fig, ax = plt.subplots()\n",
    "ax.bar(bar_labels, bar_heights, yerr=errorbars, align='center', alpha=0.5, color='green', ecolor='black', capsize=10)\n",
    "plt.show()"
   ]
  },
  {
   "cell_type": "markdown",
   "metadata": {},
   "source": [
    "# When you're ready ...\n",
    "Check in with a facilitator and share with them a link to an interactive version of this notebook. Be sure it doesn't give edit priviledges to your original notebook."
   ]
  }
 ],
 "metadata": {
  "kernelspec": {
   "display_name": "Python 3 (ipykernel)",
   "language": "python",
   "name": "python3"
  },
  "language_info": {
   "codemirror_mode": {
    "name": "ipython",
    "version": 3
   },
   "file_extension": ".py",
   "mimetype": "text/x-python",
   "name": "python",
   "nbconvert_exporter": "python",
   "pygments_lexer": "ipython3",
   "version": "3.9.7"
  }
 },
 "nbformat": 4,
 "nbformat_minor": 4
}
