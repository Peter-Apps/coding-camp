{
 "cells": [
  {
   "cell_type": "markdown",
   "id": "d45d0f22",
   "metadata": {},
   "source": [
    "# Data Visualization in Python"
   ]
  },
  {
   "cell_type": "code",
   "execution_count": null,
   "id": "08b00437",
   "metadata": {},
   "outputs": [],
   "source": [
    "# importing some libraries of functions\n",
    "import matplotlib as mpl\n",
    "import matplotlib.pyplot as plt\n",
    "import numpy as np"
   ]
  },
  {
   "cell_type": "markdown",
   "id": "f026d723",
   "metadata": {},
   "source": [
    "## Part 1: linspace\n",
    "Numpy has a useful function called **linspace** shown below. What can you determine about it by running and editing the example below?"
   ]
  },
  {
   "cell_type": "code",
   "execution_count": null,
   "id": "924faf71",
   "metadata": {},
   "outputs": [],
   "source": [
    "np.linspace(0, 10, num=5, endpoint=True)"
   ]
  },
  {
   "cell_type": "markdown",
   "id": "83bd19d6",
   "metadata": {},
   "source": [
    "Now, check what you've inferred by looking at the [numpy documentation](https://numpy.org/doc/stable/reference/generated/numpy.linspace.html) for linspace. Any surprises?\n",
    "## Part 2: defining your own function\n",
    "The code below lets you plot a function. Try running it, then editing it to plot a different function."
   ]
  },
  {
   "cell_type": "code",
   "execution_count": null,
   "id": "bf9ccb01",
   "metadata": {},
   "outputs": [],
   "source": [
    "# this calculates y-values given x-values\n",
    "\n",
    "def model_function(x):      # you can name this whatever you'd like\n",
    "    a = 2\n",
    "    b = -7\n",
    "    y = a * (x**2) + b         # this would make a quadratic model\n",
    "    return y\n",
    "\n",
    "# we can use the function above to generate x- and y-values to plot\n",
    "xvals = np.linspace(0, 5, num=20)\n",
    "yvals = model_function(xvals) # uses the function defined above with x-values to make model y-values\n",
    "\n",
    "# pyplot  is the quick, easy way to plot ... if you don't need much styling\n",
    "plt.plot(xvals, yvals)"
   ]
  },
  {
   "cell_type": "code",
   "execution_count": null,
   "id": "1a5fad42",
   "metadata": {},
   "outputs": [],
   "source": [
    "# some plot formatting\n",
    "plt.plot(xvals, yvals, color='k', marker='o', markerfacecolor='red')"
   ]
  },
  {
   "cell_type": "markdown",
   "id": "82004eca",
   "metadata": {},
   "source": [
    "Discuss with your group:\n",
    "- Did you edit the function in the code above to plot a different equation? What are some challenges your students might face with that task?\n",
    "- When defining the function above, what might be an advantage of defining the coefficients a and b on separate lines from the equation they're used in?\n",
    "- Can you format the plot with colors relevant to you or your school?\n",
    "## Part 3: Advanced plotting with Matplotlib\n",
    "Run the code below, then take a few minutes looking through the code to see what you can infer from how it made the plots."
   ]
  },
  {
   "cell_type": "code",
   "execution_count": null,
   "id": "d52f7485",
   "metadata": {},
   "outputs": [],
   "source": [
    "# use matplotlib's object-oriented interface for lots of complex styling\n",
    "fig, ax = plt.subplots(2, 2, figsize=(10,5))        # that's (2 rows, 2 cols) ... four subplots\n",
    "fig.subplots_adjust(hspace=0.5)     # make a little extra space between the subplots\n",
    "\n",
    "# draw in the subplot in row 0, col 0\n",
    "# if you only had one column or row, you'd use ax[0], ax[1], ...\n",
    "ax[0,0].plot(xvals, yvals, color= 'chartreuse', label='one', linestyle=\"--\")   # makes a linepolt of the model\n",
    "ax[0,0].plot(xvals, xvals*2+4, color= 'skyblue', label='two', linestyle=\"--\")   # makes a linepolt of the model\n",
    "ax[0,0].legend()\n",
    "\n",
    "# format another subplot\n",
    "ax[1,0].set_title(\"this is a title\") # set an individual parameter\n",
    "ax[1,0].annotate('there is nothing here', xy=(.5, .5), xytext=(.2, .7), arrowprops=dict(facecolor='black', arrowstyle=\"->\"))\n",
    "ax[1,0].spines['top'].set_visible(False)\n",
    "ax[1,0].spines['right'].set_visible(False)\n",
    "ax[1,0].spines['bottom'].set_color('#565656')\n",
    "\n",
    "# some labels\n",
    "ax[0,1].set(xlabel=\"some label\", ylabel=\"other label\", title=\"a title?\")  # set several parameters in one line\n",
    "ax[0,1].set_xlim(2,5)\n",
    "ax[0,1].xaxis.set_ticks_position('none')\n",
    "ax[0,1].tick_params(labelcolor='grey')\n",
    "ax[0,1].grid(color='#565656', axis='y', linestyle='-', linewidth=0.25, alpha=0.5)\n",
    "\n",
    "# and a horizontal line!\n",
    "ax[1,1].axhline(.5, color='purple')\n",
    "ax[1,1].text(.5, .2, \"text!\")\n",
    "\n",
    "# and finally ...\n",
    "plt.show()"
   ]
  },
  {
   "cell_type": "markdown",
   "id": "b24e10a0",
   "metadata": {},
   "source": [
    "- What are some things you noticed in this method of plotting?\n",
    "- Compare the motion of two objects with a set of three plots showing position, velocity, and acceleration.\n",
    "- Get more styling ideas from the [matplotlib cheat sheets](https://github.com/matplotlib/cheatsheets)."
   ]
  },
  {
   "cell_type": "code",
   "execution_count": null,
   "id": "726ff779",
   "metadata": {},
   "outputs": [],
   "source": []
  }
 ],
 "metadata": {
  "kernelspec": {
   "display_name": "Python 3 (ipykernel)",
   "language": "python",
   "name": "python3"
  },
  "language_info": {
   "codemirror_mode": {
    "name": "ipython",
    "version": 3
   },
   "file_extension": ".py",
   "mimetype": "text/x-python",
   "name": "python",
   "nbconvert_exporter": "python",
   "pygments_lexer": "ipython3",
   "version": "3.9.7"
  }
 },
 "nbformat": 4,
 "nbformat_minor": 5
}
