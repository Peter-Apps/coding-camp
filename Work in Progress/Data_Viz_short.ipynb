{
 "cells": [
  {
   "cell_type": "markdown",
   "id": "d45d0f22",
   "metadata": {},
   "source": [
    "# Data Visualization in Python\n",
    "\n",
    "This a notebook produces a plot with matplotlib the simple way (with the pyplot interface) and a more robust way (with the object-oriented interface), but it's just code with no comments or explanatory text. Joy! Looks like you'll need to fix that. Your task:  \n",
    "- For each line of code, add a comment to the right explaining what that line does.\n",
    "- For any sequence of lines of code the seem related, add a comment on a separate line above them to explain what they do.\n",
    "- Add markdown cells to help guide a reader through this notebook as a tutorial. Include the following\n",
    "    - links to the official documentation pages for any numpy, pyplot, or matplotlib functions used\n",
    "    - a link to the matplotlib cheatsheets\n",
    "    - prompts or extension tasks that require information in those links"
   ]
  },
  {
   "cell_type": "code",
   "execution_count": null,
   "id": "08b00437",
   "metadata": {},
   "outputs": [],
   "source": [
    "import numpy as np\n",
    "import matplotlib as mpl\n",
    "import matplotlib.pyplot as plt"
   ]
  },
  {
   "cell_type": "code",
   "execution_count": null,
   "id": "924faf71",
   "metadata": {},
   "outputs": [],
   "source": [
    "np.linspace(0, 10, num=5, endpoint=True)"
   ]
  },
  {
   "cell_type": "code",
   "execution_count": null,
   "id": "bf9ccb01",
   "metadata": {},
   "outputs": [],
   "source": [
    "def model_function(x):\n",
    "    a = 2\n",
    "    b = -7\n",
    "    y = a * (x**2) + b\n",
    "    return y\n",
    "\n",
    "xvals = np.linspace(0, 5, num=10)\n",
    "yvals = model_function(xvals)\n",
    "plt.scatter(xvals, yvals)"
   ]
  },
  {
   "cell_type": "code",
   "execution_count": null,
   "id": "1a5fad42",
   "metadata": {},
   "outputs": [],
   "source": [
    "plt.plot(xvals, yvals, color='k', marker='o', alpha=.1)"
   ]
  },
  {
   "cell_type": "code",
   "execution_count": null,
   "id": "d52f7485",
   "metadata": {},
   "outputs": [],
   "source": [
    "fig, ax = plt.subplots(2, 2, figsize=(10,5))\n",
    "fig.subplots_adjust(hspace=0.5)\n",
    "\n",
    "ax[0,0].plot(xvals, yvals, color= 'chartreuse', label='one', linestyle=\"--\")\n",
    "ax[0,0].plot(xvals, xvals*2+4, color= 'skyblue', label='two', linestyle=\"--\")\n",
    "ax[0,0].legend()\n",
    "\n",
    "ax[1,0].set_title(\"this is a title\")\n",
    "ax[1,0].annotate('there is nothing here', xy=(.5, .5), xytext=(.2, .7), arrowprops=dict(facecolor='black', arrowstyle=\"->\"))\n",
    "ax[1,0].spines['top'].set_visible(False)\n",
    "ax[1,0].spines['right'].set_visible(False)\n",
    "ax[1,0].spines['bottom'].set_color('#565656')\n",
    "\n",
    "ax[0,1].set(xlabel=\"some label\", ylabel=\"other label\", title=\"a title?\") \n",
    "ax[0,1].set_xlim(2,5)\n",
    "ax[0,1].xaxis.set_ticks_position('none')\n",
    "ax[0,1].tick_params(labelcolor='grey')\n",
    "ax[0,1].grid(color='#565656', axis='y', linestyle='-', linewidth=0.25, alpha=0.5)\n",
    "\n",
    "ax[1,1].axhline(.5, color='purple')\n",
    "ax[1,1].text(.5, .2, \"text!\")\n",
    "\n",
    "plt.show()"
   ]
  },
  {
   "cell_type": "markdown",
   "id": "3f02a8ca",
   "metadata": {},
   "source": [
    "# When you're ready ...\n",
    "Check in with a facilitator and share with them a link to an interactive version of this notebook. Be sure it doesn't give edit priviledges to your original notebook."
   ]
  }
 ],
 "metadata": {
  "kernelspec": {
   "display_name": "Python 3 (ipykernel)",
   "language": "python",
   "name": "python3"
  },
  "language_info": {
   "codemirror_mode": {
    "name": "ipython",
    "version": 3
   },
   "file_extension": ".py",
   "mimetype": "text/x-python",
   "name": "python",
   "nbconvert_exporter": "python",
   "pygments_lexer": "ipython3",
   "version": "3.9.7"
  }
 },
 "nbformat": 4,
 "nbformat_minor": 5
}
