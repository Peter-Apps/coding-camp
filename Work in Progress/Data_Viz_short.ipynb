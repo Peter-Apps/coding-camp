{
 "cells": [
  {
   "cell_type": "markdown",
   "id": "d45d0f22",
   "metadata": {},
   "source": [
    "# Data Visualization in Python\n",
    "\n",
    "Task:  \n",
    "- add explanatory text in in-line comments and markdown cells to turn the code below into a data visualization tutorial.  You may write additional code, if desired, but may not delete any code below.\n",
    "- add links to the official documentation pages for any numpy or pyplot functions used along with prompts or extension tasks that require information in those pages.\n",
    "- add a link to the matplotlib cheatsheets along with prompts or extension tasks that require the information on one or more of the cheatsheets."
   ]
  },
  {
   "cell_type": "code",
   "execution_count": null,
   "id": "08b00437",
   "metadata": {},
   "outputs": [],
   "source": [
    "import numpy as np\n",
    "import matplotlib as mpl\n",
    "import matplotlib.pyplot as plt"
   ]
  },
  {
   "cell_type": "code",
   "execution_count": null,
   "id": "924faf71",
   "metadata": {},
   "outputs": [],
   "source": [
    "np.linspace(0, 10, num=5, endpoint=True)"
   ]
  },
  {
   "cell_type": "code",
   "execution_count": null,
   "id": "bf9ccb01",
   "metadata": {},
   "outputs": [],
   "source": [
    "def model_function(x):\n",
    "    a = 2\n",
    "    b = -7\n",
    "    y = a * (x**2) + b\n",
    "    return y\n",
    "\n",
    "xvals = np.linspace(0, 5, num=10)\n",
    "yvals = model_function(xvals)\n",
    "plt.scatter(xvals, yvals)"
   ]
  },
  {
   "cell_type": "code",
   "execution_count": null,
   "id": "1a5fad42",
   "metadata": {},
   "outputs": [],
   "source": [
    "plt.plot(xvals, yvals, color='k', marker='o', alpha=.1)"
   ]
  },
  {
   "cell_type": "code",
   "execution_count": null,
   "id": "d52f7485",
   "metadata": {},
   "outputs": [],
   "source": [
    "fig, ax = plt.subplots(2, 2, figsize=(10,5))\n",
    "fig.subplots_adjust(hspace=0.5)\n",
    "\n",
    "ax[0,0].plot(xvals, yvals, color= 'chartreuse', label='one', linestyle=\"--\")\n",
    "ax[0,0].plot(xvals, xvals*2+4, color= 'skyblue', label='two', linestyle=\"--\")\n",
    "ax[0,0].legend()\n",
    "\n",
    "ax[1,0].set_title(\"this is a title\")\n",
    "ax[1,0].annotate('there is nothing here', xy=(.5, .5), xytext=(.2, .7), arrowprops=dict(facecolor='black', arrowstyle=\"->\"))\n",
    "ax[1,0].spines['top'].set_visible(False)\n",
    "ax[1,0].spines['right'].set_visible(False)\n",
    "ax[1,0].spines['bottom'].set_color('#565656')\n",
    "\n",
    "ax[0,1].set(xlabel=\"some label\", ylabel=\"other label\", title=\"a title?\") \n",
    "ax[0,1].set_xlim(2,5)\n",
    "ax[0,1].xaxis.set_ticks_position('none')\n",
    "ax[0,1].tick_params(labelcolor='grey')\n",
    "ax[0,1].grid(color='#565656', axis='y', linestyle='-', linewidth=0.25, alpha=0.5)\n",
    "\n",
    "ax[1,1].axhline(.5, color='purple')\n",
    "ax[1,1].text(.5, .2, \"text!\")\n",
    "\n",
    "plt.show()"
   ]
  }
 ],
 "metadata": {
  "kernelspec": {
   "display_name": "Python 3 (ipykernel)",
   "language": "python",
   "name": "python3"
  },
  "language_info": {
   "codemirror_mode": {
    "name": "ipython",
    "version": 3
   },
   "file_extension": ".py",
   "mimetype": "text/x-python",
   "name": "python",
   "nbconvert_exporter": "python",
   "pygments_lexer": "ipython3",
   "version": "3.9.7"
  }
 },
 "nbformat": 4,
 "nbformat_minor": 5
}
