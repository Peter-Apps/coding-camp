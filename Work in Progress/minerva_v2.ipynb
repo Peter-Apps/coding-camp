{
 "cells": [
  {
   "cell_type": "markdown",
   "metadata": {
    "id": "KHBtWxcMhFjB"
   },
   "source": [
    "# Dimuon Analysis for Finding Neutral Particle Mass  \n",
    "\n",
    "This activity uses data from the [Minerva experiment](https://minerva.fnal.gov/) at Fermilab near Chicago, Illinois. \n",
    "\n",
    "To get started,\n",
    "- You won't hurt anything by experimenting. If you break it, close the tab and open the activity again to start over.\n",
    "- Is this your first time? Need a refresher? Try the 5-minute [Intro to Coding activity](https://colab.research.google.com/github/QuarkNet-HEP/coding-camp/blob/master/intro.ipynb) and come back here. \n",
    "\n",
    "When you're ready, run each code cell until you get down to **Think and Discuss**."
   ]
  },
  {
   "cell_type": "code",
   "execution_count": null,
   "metadata": {
    "id": "CigWd45VwpPp"
   },
   "outputs": [],
   "source": [
    "# imports some software packages we'll use\n",
    "import pandas as pd # functions for dealing with data\n",
    "import numpy as np # functions for math operations\n",
    "import matplotlib as mpl # functions for plotting\n",
    "import matplotlib.pyplot as plt # more functions for plotting\n",
    "import math # more math functions\n",
    "np.warnings.filterwarnings('ignore') # ignores some error messages we wouldn't care about anyway"
   ]
  },
  {
   "cell_type": "code",
   "execution_count": null,
   "metadata": {
    "id": "-u6HiVILyyc5"
   },
   "outputs": [],
   "source": [
    "# a hashtag tells the program \"don't read the rest of the line\"\n",
    "# The next line pulls in data from a file with comma seperated values (csv) and names it 'data'.\n",
    "mdata = pd.read_csv('https://raw.githubusercontent.com/kcecire/qn-new/master/MINERvA-MC-06apr2019-jun2021ver3.csv')"
   ]
  },
  {
   "cell_type": "code",
   "execution_count": null,
   "metadata": {
    "colab": {
     "base_uri": "https://localhost:8080/",
     "height": 202
    },
    "id": "vdQDKWrZy8Hx",
    "outputId": "0a0f0a91-40f7-45d8-8fe3-7c0b0a38d716"
   },
   "outputs": [],
   "source": [
    "# The .head(n) command displays the first n rows of a file.\n",
    "mdata.head(5)"
   ]
  },
  {
   "cell_type": "code",
   "execution_count": null,
   "metadata": {
    "colab": {
     "base_uri": "https://localhost:8080/"
    },
    "id": "BCZrNnruj9_M",
    "outputId": "6b44a197-af1a-4a84-deee-681c50a40d73"
   },
   "outputs": [],
   "source": [
    "# The .shape command displays the (number of rows , number of columns) in a file.\n",
    "mdata.shape"
   ]
  },
  {
   "cell_type": "code",
   "execution_count": null,
   "metadata": {
    "colab": {
     "base_uri": "https://localhost:8080/"
    },
    "id": "fwSwLgZpmWAP",
    "outputId": "e949f3f6-78b9-4a2c-a4da-146b0b5e98d0"
   },
   "outputs": [],
   "source": [
    "# The .dtypes command displays\n",
    "mdata.dtypes"
   ]
  },
  {
   "cell_type": "markdown",
   "metadata": {
    "id": "-yyqK9MNivwV"
   },
   "source": [
    "## Think and Discuss\n",
    "\n",
    "* What information do the values in each column tell us?\n",
    "\n",
    "* Change the code to see what happens when you look at the first 25 rows?\n",
    "What about the first 100?\n",
    "\n",
    "* How many total events does the data set contain?\n",
    "\n",
    "* What is the difference between 'float64' and 'int64'? What do these designations mean and why do they exist?  \n",
    "\n",
    "When you're ready, run the code below until you get down to the next set of questions.  "
   ]
  },
  {
   "cell_type": "code",
   "execution_count": null,
   "metadata": {},
   "outputs": [],
   "source": [
    "net = pd.DataFrame()                      # makes an empty dataframe called \"net\"\n",
    "net['px'] = mdata['pxm'] + mdata['pxp']   # adds a column called \"px\" and calculates net px\n",
    "net.head()"
   ]
  },
  {
   "cell_type": "code",
   "execution_count": null,
   "metadata": {},
   "outputs": [],
   "source": [
    "net.shape"
   ]
  },
  {
   "cell_type": "markdown",
   "metadata": {},
   "source": [
    "## Think and Discuss\n",
    "- How does the shape of this dataframe compare with the original mdata? Why is that?  \n",
    "- Edit the code above to add a column for net py by adding the muon's and proton's y-momenta. Do the same for pz.  \n",
    "- Add one more column with the net transverse momentum (i.e., momentum in the x-y plane).\n",
    "     - Hint: you can square a value with \\**2 (not ^2). That also works for roots.  \n",
    "\n",
    "When you're ready, run the code below until you get down to the next set of questions.  "
   ]
  },
  {
   "cell_type": "code",
   "execution_count": null,
   "metadata": {
    "colab": {
     "base_uri": "https://localhost:8080/",
     "height": 287
    },
    "id": "JgUBVDRSLfpk",
    "outputId": "463c582e-87f5-4e77-e213-f485f94341c9"
   },
   "outputs": [],
   "source": [
    "# create a figure called fig2 to hold our plots\n",
    "fig2 = plt.figure(figsize = [18, 12])\n",
    "\n",
    "plot1 = plt.subplot(3,4, 1)\n",
    "plt.hist(net['px'], bins=100, range=[-1500,1500])  # adjusting the bins and range can help\n",
    "plt.title('Net x-momentum')\n",
    "plt.xlabel('Px (MeV)')\n",
    "plt.ylabel('events/bin')\n",
    "\n",
    "plot2 = plt.subplot(3,4, 2)\n",
    "plt.hist(net['px'])\n",
    "plt.title('label me')\n",
    "plt.xlabel('label me')\n",
    "plt.ylabel('label me')\n",
    "\n",
    "plot3 = plt.subplot(3,4, 3)\n",
    "plt.hist(net['px'])\n",
    "plt.title('label me')\n",
    "plt.xlabel('label me')\n",
    "plt.ylabel('label me')\n",
    "\n",
    "plot4 = plt.subplot(3,4, 4)\n",
    "plt.hist(net['px'])\n",
    "plt.title('label me')\n",
    "plt.xlabel('label me')\n",
    "plt.ylabel('label me');"
   ]
  },
  {
   "cell_type": "markdown",
   "metadata": {},
   "source": [
    "## Think and Discuss\n",
    "- If you look closely in the code above, you'll see each of the four histograms is actually plotting the same data, px. Edit the code above so you have plots of net px, py, px, and p transverse instead.  \n",
    "- Specify the number of bins and range for all four histograms (it's only done for the first one so far).  \n",
    "- What patterns do you notice in the net momentum histograms?  \n",
    "\n",
    "When you're ready, run the code below until you get down to the next set of questions.  "
   ]
  },
  {
   "cell_type": "code",
   "execution_count": null,
   "metadata": {},
   "outputs": [],
   "source": [
    "net.describe()    # gives descriptive stats for each column in the dataframe"
   ]
  },
  {
   "cell_type": "code",
   "execution_count": null,
   "metadata": {},
   "outputs": [],
   "source": [
    "net['px'].mean()   # this lets you access a specific statistic for one column"
   ]
  },
  {
   "cell_type": "code",
   "execution_count": null,
   "metadata": {},
   "outputs": [],
   "source": [
    "# outputs or \"prints\" a statement\n",
    "print(\"Twice the average net px is \", 2 * net['px'].mean())"
   ]
  },
  {
   "cell_type": "markdown",
   "metadata": {},
   "source": [
    "## Think and Discuss\n",
    "- Write a print statement for the beam energy. You can estimate its value with the average net transverse momentum.  \n",
    "- Write a print statement for the half the standard deviation of the net transverse momentum. This can be used to estimate delta(pt) for finding delta(r).  \n",
    "\n",
    "---  \n",
    "## Saving Your Work  \n",
    "This is running on a Google server on a distant planet and deletes what you've done when you close this tab. To save your work for later use or analysis you have a few options:  \n",
    "- File > \"Save a copy in Drive\" will save it to you Google Drive in a folder called \"Collaboratory\". You can run it later from there.  \n",
    "- File > \"Download .ipynb\" to save to your computer (and run with Jupyter software later)  \n",
    "- File > Print to ... um ... print.  \n",
    "- To save an image of a graph or chart, right-click on it and select Save Image as ...  \n",
    "\n",
    "## Credits\n",
    "This notebook was designed by [Quarknet](https://quarknet.org/) staff with data from the [Minerva experiment](https://minerva.fnal.gov/). Thanks to the great folks at [Binder](https://mybinder.org/) and [Google Colaboratory](https://colab.research.google.com/notebooks/intro.ipynb) for making this notebook interactive without you needing to download it or install [Jupyter](https://jupyter.org/) on your own device.  "
   ]
  }
 ],
 "metadata": {
  "colab": {
   "collapsed_sections": [],
   "name": "MINERvA_MCdata_08July2021.ipynb",
   "provenance": []
  },
  "kernelspec": {
   "display_name": "Python 3",
   "language": "python",
   "name": "python3"
  },
  "language_info": {
   "codemirror_mode": {
    "name": "ipython",
    "version": 3
   },
   "file_extension": ".py",
   "mimetype": "text/x-python",
   "name": "python",
   "nbconvert_exporter": "python",
   "pygments_lexer": "ipython3",
   "version": "3.7.7"
  }
 },
 "nbformat": 4,
 "nbformat_minor": 1
}
