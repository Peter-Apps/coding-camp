{
  "nbformat": 4,
  "nbformat_minor": 0,
  "metadata": {
    "colab": {
      "provenance": [],
      "authorship_tag": "ABX9TyMkImKsNxzkhYClQTdXe+Rg",
      "include_colab_link": true
    },
    "kernelspec": {
      "name": "python3",
      "display_name": "Python 3"
    }
  },
  "cells": [
    {
      "cell_type": "markdown",
      "metadata": {
        "id": "view-in-github",
        "colab_type": "text"
      },
      "source": [
        "<a href=\"https://colab.research.google.com/github/Peter-Apps/coding-camp/blob/main/Mass_on_a_Spring.ipynb\" target=\"_parent\"><img src=\"https://colab.research.google.com/assets/colab-badge.svg\" alt=\"Open In Colab\"/></a>"
      ]
    },
    {
      "cell_type": "markdown",
      "metadata": {
        "id": "VUNeEzVIxqwH"
      },
      "source": [
        "#Mass on a Spring#\n",
        "Goals -\n",
        "\n",
        "1.   Develop a theoretical model for a mass on a spring.\n",
        "2. Be able to curve fit and develop an equation for your experimental data.\n",
        "3. Use the theoretical model to create plots to determine how well the model fits your experimental data\n",
        "4. Make a claim about the validity of the model to simulate a mass on a spring and support your claim with evidence.  \n",
        "5. Develop a greater proficiency for using Python code to help solve physics problems.\n",
        "\n"
      ]
    },
    {
      "cell_type": "code",
      "metadata": {
        "id": "ZXeht67e2CvN"
      },
      "source": [
        "# Importing the modules we'll need\n",
        "import pandas as pd\n",
        "import numpy as np\n",
        "import matplotlib as mpl\n",
        "import matplotlib.pyplot as plt\n",
        "%matplotlib inline\n",
        "from scipy.stats import linregress"
      ],
      "execution_count": null,
      "outputs": []
    },
    {
      "cell_type": "markdown",
      "metadata": {
        "id": "sWdDqOTOqgIq"
      },
      "source": [
        "# Experimental Section"
      ]
    },
    {
      "cell_type": "markdown",
      "metadata": {
        "id": "cb6BLuK4pJXT"
      },
      "source": [
        "Procedure - (I'm being brief here)\n",
        "* Setup a spring on a ringstand\n",
        "* Use various masses and a ruler to gather enough data to determine the spring constant. Enter those masses and displacements in the code block below.\n",
        "* Place a motion sensor under the mass, pull the mass down a known amount (~4cm?), and let the mass oscillate.\n",
        "* Use the motion sensor to record position vs time data and save it as a .csv for analysis."
      ]
    },
    {
      "cell_type": "code",
      "metadata": {
        "id": "N5WPtfdWqoiW"
      },
      "source": [
        "# Data for finding the spring constant. Replace these with your data.\n",
        "added_masses = [1,2,3,4] # separate each mass (in kg) with a comma (,)\n",
        "change_in_length = [1,2,3,4] # change in length (in m).\n",
        "\n",
        "# Calculating Fs (which is equal to the weight of the mass)\n",
        "g = 9.81 # m/s/s\n",
        "force_on_spring = [m*g for m in added_masses]\n",
        "\n",
        "# Creating the data table\n",
        "k_data = pd.DataFrame({'Mass':added_masses, 'Force':force_on_spring, 'Delta x':change_in_length})\n",
        "\n",
        "y = k_data[\"?\"] # What do I plot on the x-axis?\n",
        "x = k_data[\"?\"] # What do I plot on the y-axis?\n",
        "\n",
        "# doing a linear regression to find the slope and y-intercept of your data\n",
        "reg = np.polyfit(x, y, 1)\n",
        "\n",
        "# Create the best fit line from the regression data\n",
        "poly1d_fn = np.poly1d(reg)\n",
        "\n",
        "# Take a look at your best fit line\n",
        "plt.title(\"Finding the Spring Constant\")\n",
        "plt.xlabel(\"What do I label this axis?\")\n",
        "plt.ylabel(\"What do I label this axis?\")\n",
        "\n",
        "# Plot the data and best fit line\n",
        "plt.plot(x,y, 'yo', x, poly1d_fn(x), '--')\n",
        "\n",
        "# Add labels to the graph (you may need to change the x & y location of the textboxes)\n",
        "plt.text(3.4, 20, f'Slope = {reg[0]}', bbox=dict(facecolor='tab:blue', alpha=0.5))\n",
        "plt.text(1.5, 10, f'Y-Intercept = {reg[1]:.3f}', bbox=dict(facecolor='tab:blue', alpha=0.5))\n",
        "\n",
        "plt.show()"
      ],
      "execution_count": null,
      "outputs": []
    },
    {
      "cell_type": "markdown",
      "metadata": {
        "id": "NPQtcizew2r-"
      },
      "source": [
        "Questions:\n",
        "1. What was the value of your spring constant?\n",
        "2. Is that a reasonable result? Why?\n",
        "3. How precise were your measurements? What features on the graph support your response?"
      ]
    },
    {
      "cell_type": "markdown",
      "metadata": {
        "id": "7p4VwumH6QhV"
      },
      "source": [
        "# Building a Theoretical Model"
      ]
    },
    {
      "cell_type": "markdown",
      "metadata": {
        "id": "cRZrurvn6D_t"
      },
      "source": [
        "The position of a mass on a spring can be described by the equation $ x=A\\cos\\left(\\sqrt{\\frac{k}{m}}t + \\phi\\right)$ where A is the amplitude, k is the spring constant, m is the mass attached to the spring, and $\\phi$ is the phase shift. (This may look very similar to something you've seen in your math class)\n",
        "\n",
        "The code below generates a set of data points for the mass on a spring but a line is missing. See if you can fill in the ```x =```  line using the equation above.\n",
        "\n",
        "Hint: ```sqrt``` and ```cos``` are both in the numpy module."
      ]
    },
    {
      "cell_type": "code",
      "metadata": {
        "id": "gCsLMNoG3K0N"
      },
      "source": [
        "def getSpringData(A,k,m,shift,time_length):\n",
        "  xlist = []\n",
        "  tlist = []\n",
        "  t = 0 #start time\n",
        "  dt = 0.01 #Time between measurements\n",
        "  while t < time_length:\n",
        "    x = \"Fill in this Line with the Position Equation\"\n",
        "    xlist.append(x)\n",
        "    tlist.append(t)\n",
        "    t += dt\n",
        "\n",
        "  return pd.DataFrame({'Time':tlist, 'Position': xlist})"
      ],
      "execution_count": null,
      "outputs": []
    },
    {
      "cell_type": "markdown",
      "metadata": {
        "id": "PAmrEEKJ8s5t"
      },
      "source": [
        "The function we just created needs 5 variables. Enter them below then take a look at the data created."
      ]
    },
    {
      "cell_type": "code",
      "metadata": {
        "id": "vw1o4IPJ0h3v"
      },
      "source": [
        "#Spring Info\n",
        "amplitude = 1 # in m\n",
        "spring_constant = 10.0 # in N / m\n",
        "mass = 10 # in kg\n",
        "shift = 1 # in radians\n",
        "time_length = 20 # in seconds\n",
        "\n",
        "theoretical_data = getSpringData(amplitude, spring_constant,mass,shift,time_length)"
      ],
      "execution_count": null,
      "outputs": []
    },
    {
      "cell_type": "markdown",
      "metadata": {
        "id": "UJoMQT-19Swj"
      },
      "source": [
        "Questions to Answer\n",
        "1. How does changing the spring constant change\n",
        "the data?\n",
        "2. How does changing the amplitude change the data?\n",
        "3. How does changing the shift change the data?\n"
      ]
    },
    {
      "cell_type": "code",
      "metadata": {
        "id": "g03KKPBE5QU4"
      },
      "source": [
        "theoretical_data.head(5)"
      ],
      "execution_count": null,
      "outputs": []
    },
    {
      "cell_type": "code",
      "metadata": {
        "id": "Bv2e8L3q5gTU"
      },
      "source": [
        "# Maybe a graph will help\n",
        "plt.plot(theoretical_data[\"Time\"], theoretical_data[\"Position\"])\n",
        "plt.title(\"Theoretical Data\")\n",
        "plt.xlabel(\"Time (s)\")\n",
        "plt.ylabel(\"Position (m)\")\n",
        "plt.show()"
      ],
      "execution_count": null,
      "outputs": []
    },
    {
      "cell_type": "markdown",
      "metadata": {
        "id": "IoDDiM4V6XfQ"
      },
      "source": [
        "#Testing the Model"
      ]
    },
    {
      "cell_type": "markdown",
      "metadata": {
        "id": "_8SpI3tF0iX8"
      },
      "source": [
        "Now it's time to upload your data and see if we can fit it to a sin curve. Notice in this case we're calling your data ```exp_data```"
      ]
    },
    {
      "cell_type": "code",
      "metadata": {
        "id": "D6AwCW-IxTe_"
      },
      "source": [
        "# This is code to upload a csv from a local machine.\n",
        "# I don't have one handy so it's just commented out.\n",
        "'''\n",
        "from google.colab import files\n",
        "file = files.upload()\n",
        "exp_data = pd.read_csv(list(file.keys())[0])\n",
        "'''\n"
      ],
      "execution_count": null,
      "outputs": []
    },
    {
      "cell_type": "code",
      "source": [
        "# If you don't have data handy, use this csv file. Be sure to comment out this line if you've uploaded your own data\n",
        "exp_data = pd.read_csv(\"https://drive.google.com/uc?export=download&id=1eNfnhRQ4ygS41VtItcpUgIW4aXEOYpXY&confirm=t\")"
      ],
      "metadata": {
        "id": "FXuVk4Xr5QZU"
      },
      "execution_count": null,
      "outputs": []
    },
    {
      "cell_type": "markdown",
      "metadata": {
        "id": "5CNK9jsFiX2q"
      },
      "source": [
        "Take a look at your uploaded data.\n",
        "4. In a few sentences below, describe how your data is setup. (How many rows, what are the column headers, etc?)\n",
        "\n",
        "\n",
        "\n",
        "\n",
        "\n"
      ]
    },
    {
      "cell_type": "code",
      "metadata": {
        "id": "b30vRl2k6nkb"
      },
      "source": [
        "# I'm a code box. Use me to help answer question #4.\n",
        "exp_data.head()"
      ],
      "execution_count": null,
      "outputs": []
    },
    {
      "cell_type": "markdown",
      "metadata": {
        "id": "cOCSyG3a60FC"
      },
      "source": [
        "*** Caution ***\n",
        "Depending on what your columns are titled, you may need to change the ```exp_data[\"Header Name\"] ``` to match your titles."
      ]
    },
    {
      "cell_type": "markdown",
      "metadata": {
        "id": "erfcMOnlaVCt"
      },
      "source": [
        "In order to curve fit your data, we'll need to use a generic equation to model it. We're going to use the same equation as above, but replace the actual values with a,b,c,d so we get $y = a \\cos\\left(bx+c\\right) + d $. We need the $d$ term because our equilibrium point will be some distance from the motion sensor.\n",
        "\n",
        "**Extension** - if you finish early, come back and change the code here a bit to let you solve for *k* directly."
      ]
    },
    {
      "cell_type": "code",
      "source": [
        "#Let's see what our data looks like\n",
        "plt.plot(exp_data[\"Time (s)\"], exp_data[\"Position (m)\"])\n",
        "plt.show()"
      ],
      "metadata": {
        "id": "B4OefJgXwr1Z"
      },
      "execution_count": null,
      "outputs": []
    },
    {
      "cell_type": "code",
      "source": [
        "# To help our fit, let's only select part of the data.\n",
        "# I'm using the time for 1 cycle (approximately)\n",
        "# Notice the use of back ticks ` below because my column header has a space in it.\n",
        "fit_data = exp_data.query(\"`Time (s)` < 0.6\")"
      ],
      "metadata": {
        "id": "zlzuNN3rw6OI"
      },
      "execution_count": null,
      "outputs": []
    },
    {
      "cell_type": "code",
      "metadata": {
        "id": "xwRAQJv3_IQN"
      },
      "source": [
        "from scipy import optimize\n",
        "\n",
        "# Sample equation to use as a model\n",
        "def spring_eq(x, A, w, shift, offset):\n",
        "    return A * np.cos(w * x + shift) + offset\n",
        "\n",
        "# params is the terms we need, not sure what params_covariance is for, so let's ignore it\n",
        "params, params_covariance = optimize.curve_fit(spring_eq, fit_data[\"Time (s)\"], fit_data[\"Position (m)\"])\n",
        "\n",
        "print(params)"
      ],
      "execution_count": null,
      "outputs": []
    },
    {
      "cell_type": "markdown",
      "metadata": {
        "id": "OHsR4fkia_-H"
      },
      "source": [
        "Notice that the ```print(params)``` gave us 4 values, those correspond to the a, b, c, and d in the model equation. We can access each of those values individually by using params[0], params[1], params[2] and params[3] or access all at the same time with ```*params```. (Remember in Python 0 is the first item in a list)."
      ]
    },
    {
      "cell_type": "code",
      "metadata": {
        "id": "ufLLexyz_0xx"
      },
      "source": [
        "# Generate points for the curve fit data\n",
        "\n",
        "# Create 200 evenly spaced points between the min and max time\n",
        "fit_x = np.linspace(exp_data[\"Time (s)\"].iloc[0], exp_data[\"Time (s)\"].iloc[-1],200)\n",
        "\n",
        "# Calcuate the expected y value from those spaced points using our fit data\n",
        "fit_y = spring_eq(fit_x, *params)\n",
        "\n",
        "# Graph the raw data and curve fit data\n",
        "plt.scatter(exp_data[\"Time (s)\"], exp_data[\"Position (m)\"], label='Data', color = \"red\")\n",
        "plt.plot(fit_x, fit_y,label=\"Fitted Data\")\n",
        "\n",
        "plt.legend(loc=(1.1,0.5))\n",
        "plt.tight_layout()\n",
        "plt.show()"
      ],
      "execution_count": null,
      "outputs": []
    },
    {
      "cell_type": "code",
      "source": [
        "# Print out the regression data:\n",
        "print(f'Amplitude = {abs(params[0]):.2f}')\n",
        "print(f'Omega = {abs(params[1]):.2f}')\n",
        "print(f'Phi = {abs(params[2]):.2f}')\n",
        "print(f'Offset = {abs(params[3]):.2f}')"
      ],
      "metadata": {
        "id": "YVfyhLBA1BsL"
      },
      "execution_count": null,
      "outputs": []
    },
    {
      "cell_type": "code",
      "source": [
        "m = 0.1 # The mass you hung on the spring in kg\n",
        "\n",
        "# Calculate the k value from omega (w ^ 2 = k / m)\n",
        "k = params[1] ** 2 / m\n",
        "print(f'{k = :.2f} N/m')"
      ],
      "metadata": {
        "id": "1Z8Zku1lFc-V"
      },
      "execution_count": null,
      "outputs": []
    },
    {
      "cell_type": "markdown",
      "metadata": {
        "id": "BQYyJXtvgABD"
      },
      "source": [
        "**Follow-Up questions**\n",
        "\n",
        "5.   How well did the fitted function match your data?\n",
        "\n",
        "\n",
        "6.  In the beginning of this lab, you were able to calculate the spring constant of your spring. How well does that compare with the modeled value from the curve fit?\n",
        "\n",
        "\n",
        "7.   Some groups might notice that the amplitude of their data decreases over time. Why do you think that occurs?\n",
        "\n",
        "8. Would the fitted graph take that into account? (and if not, how do you think we could change the fit to better model that?)\n",
        "\n",
        "9. Should we use this model to simulate a mass on a spring? Justify your response.\n",
        "\n",
        "**Coding Extension Task**\n",
        "10.  Go back to the theoretical model we made at the top of this document. Change the values for A, k, m, etc to match the values from the curve fit. Then create a plot in the code block below of the new theoretical data and your actual data on the same plot.\n"
      ]
    },
    {
      "cell_type": "code",
      "metadata": {
        "id": "H2ICb2U60I3D"
      },
      "source": [
        "# I'm a code block! Use me to answer question #10"
      ],
      "execution_count": null,
      "outputs": []
    },
    {
      "cell_type": "markdown",
      "metadata": {
        "id": "o_NV2TNg8WN_"
      },
      "source": [
        "#Summary / Conclusion Paragraph#\n"
      ]
    },
    {
      "cell_type": "markdown",
      "metadata": {
        "id": "OSxy-fs59bMn"
      },
      "source": [
        "In the space below summarize the results of this experiment in CER format."
      ]
    }
  ]
}