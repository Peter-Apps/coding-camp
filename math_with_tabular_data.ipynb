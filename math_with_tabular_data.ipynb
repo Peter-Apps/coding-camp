{
  "cells": [
    {
      "cell_type": "markdown",
      "metadata": {
        "id": "view-in-github",
        "colab_type": "text"
      },
      "source": [
        "<a href=\"https://colab.research.google.com/github/Peter-Apps/coding-camp/blob/main/math_with_tabular_data.ipynb\" target=\"_parent\"><img src=\"https://colab.research.google.com/assets/colab-badge.svg\" alt=\"Open In Colab\"/></a>"
      ]
    },
    {
      "cell_type": "markdown",
      "id": "4482b10c",
      "metadata": {
        "id": "4482b10c"
      },
      "source": [
        "# Doing Math With Tabular Data  \n",
        "\n",
        "This activity uses data from the [CMS detector](https://cms.cern/detector) at CERN in Geneva, Switzerland as an example. To get started,\n",
        "- You won't hurt anything by experimenting. If you break it, close the tab and open the activity again to start over.\n",
        "- Is this your first time? Need a refresher? Try the 5-minute [Intro to Coding activity](./intro.ipynb) and come back here.\n",
        "\n",
        "When you're ready, run each code cell until you get down to **Part One**."
      ]
    },
    {
      "cell_type": "code",
      "execution_count": null,
      "id": "e2f42aab",
      "metadata": {
        "id": "e2f42aab"
      },
      "outputs": [],
      "source": [
        "# imports some software packages we'll use\n",
        "import pandas as pd\n",
        "import numpy as np\n",
        "import matplotlib as mpl\n",
        "import matplotlib.pyplot as plt"
      ]
    },
    {
      "cell_type": "code",
      "execution_count": null,
      "id": "777d2fce",
      "metadata": {
        "id": "777d2fce"
      },
      "outputs": [],
      "source": [
        "# a hashtag tells the program \"don't read the rest of the line\"\n",
        "# That way we can write \"comments\" to humans trying to figure out what the code does\n",
        "\n",
        "# read in a data file.\n",
        "# We can name this whatever we want but the name should make sense. Here's, it's being named \"data\"\n",
        "data = pd.read_csv('https://github.com/QuarkNet-HEP/coding-camp/raw/main/data/muons.csv')\n",
        "\n",
        "# The .head(n) command displays the first n rows of a file.\n",
        "data.head(3)"
      ]
    },
    {
      "cell_type": "markdown",
      "id": "57b17813",
      "metadata": {
        "id": "57b17813"
      },
      "source": [
        "## Adding a new column and filling it with calculated values"
      ]
    },
    {
      "cell_type": "code",
      "execution_count": null,
      "id": "c4145961",
      "metadata": {
        "id": "c4145961"
      },
      "outputs": [],
      "source": [
        "# add a new column with a zero in each cell\n",
        "data['new'] = 0\n",
        "\n",
        "# shows the top of the table\n",
        "data.head()"
      ]
    },
    {
      "cell_type": "code",
      "execution_count": null,
      "id": "cd7ac346",
      "metadata": {
        "id": "cd7ac346"
      },
      "outputs": [],
      "source": [
        "# does math with two columns and puts the result in a new column\n",
        "data['newer'] = 2 * data['E'] + data['px']\n",
        "\n",
        "# shows the top of the table\n",
        "data.head()"
      ]
    },
    {
      "cell_type": "markdown",
      "id": "0a5eee0a",
      "metadata": {
        "id": "0a5eee0a"
      },
      "source": [
        "## Credits\n",
        "This notebook was designed by [Quarknet](https://quarknet.org/) Teaching and Learning Fellow [Adam LaMee](https://adamlamee.github.io/). The handy csv files were created from the CMS Run2011A primary datasets and converted from ROOT format by the masterful [Tom McCauley](https://github.com/tpmccauley). More can be found on the [CERN OpenData](http://opendata.cern.ch/?ln=en) site, like [here](http://opendata.cern.ch/record/545). The 3D vector image can be found on [WikiMedia Commons](https://commons.wikimedia.org/wiki/File:Coord_XYZ.svg). Finally, thanks to the great folks at [Binder](https://mybinder.org/) and [Google Colaboratory](https://colab.research.google.com/notebooks/intro.ipynb) for making this notebook interactive without you needing to download it or install [Jupyter](https://jupyter.org/) on your own device. Find more activities and license info at [CODINGinK12.org](http://www.codingink12.org)."
      ]
    },
    {
      "cell_type": "markdown",
      "source": [
        "# Acknowledgements & Licenses\n",
        "\n",
        "The development and implementation of these materials and workshop were additionally funded by generous support from IRIS-HEP, the [Institute for Research and Innovation in Software for High Energy Physics](https://iris-hep.org/).\n",
        "\n",
        "This work is licensed under a\n",
        "[Creative Commons Attribution-NonCommercial-ShareAlike 4.0 International License][cc-by-nc-sa].\n",
        "\n",
        "[![CC BY-NC-SA 4.0][cc-by-nc-sa-image]][cc-by-nc-sa]\n",
        "\n",
        "[cc-by-nc-sa]: http://creativecommons.org/licenses/by-nc-sa/4.0/\n",
        "[cc-by-nc-sa-image]: https://licensebuttons.net/l/by-nc-sa/4.0/88x31.png\n",
        "[cc-by-nc-sa-shield]: https://img.shields.io/badge/License-CC%20BY--NC--SA%204.0-lightgrey.svg"
      ],
      "metadata": {
        "id": "aLgM29aBSiZc"
      },
      "id": "aLgM29aBSiZc"
    }
  ],
  "metadata": {
    "kernelspec": {
      "display_name": "Python 3 (ipykernel)",
      "language": "python",
      "name": "python3"
    },
    "language_info": {
      "codemirror_mode": {
        "name": "ipython",
        "version": 3
      },
      "file_extension": ".py",
      "mimetype": "text/x-python",
      "name": "python",
      "nbconvert_exporter": "python",
      "pygments_lexer": "ipython3",
      "version": "3.9.7"
    },
    "colab": {
      "provenance": [],
      "include_colab_link": true
    }
  },
  "nbformat": 4,
  "nbformat_minor": 5
}