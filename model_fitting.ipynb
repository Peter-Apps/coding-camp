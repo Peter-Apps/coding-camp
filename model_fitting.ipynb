{
 "cells": [
  {
   "cell_type": "markdown",
   "id": "00cdcf8f",
   "metadata": {},
   "source": [
    "# Fitting a model  \n",
    "\n",
    "If you want to add a trendline or curve to fit a set of data and get the equation, spreadsheets are **way** easier. But you might need to use Python if your data set if too big for a spreadsheet. Here's how."
   ]
  },
  {
   "cell_type": "code",
   "execution_count": null,
   "id": "071a9389",
   "metadata": {},
   "outputs": [],
   "source": [
    "import pandas as pd\n",
    "import numpy as np\n",
    "from numpy.random import default_rng\n",
    "import matplotlib as mpl\n",
    "import matplotlib.pyplot as plt\n",
    "from scipy.optimize import curve_fit"
   ]
  },
  {
   "cell_type": "markdown",
   "id": "062c09bc",
   "metadata": {},
   "source": [
    "We need a set of data to analyze, so I'll make one the looks somewhat like y=2x+1 but with a little random jitter added in so it isn't so clean-looking. You could read in a set of data instead."
   ]
  },
  {
   "cell_type": "code",
   "execution_count": null,
   "id": "3a6a735d",
   "metadata": {},
   "outputs": [],
   "source": [
    "data = pd.DataFrame()\n",
    "data['x'] = np.linspace(0,5,num=6)                     # evenly spaced x-values\n",
    "jitter = default_rng().uniform(low=-1, high=1, size=6) # some random numbers\n",
    "data['y'] = 2 * data['x'] + 1 + jitter                 # y=2x+1 plus some random jitter\n",
    "data"
   ]
  },
  {
   "cell_type": "code",
   "execution_count": null,
   "id": "6924154c",
   "metadata": {},
   "outputs": [],
   "source": [
    "# this should look close to y=2x+1\n",
    "plt.scatter(data['x'], data['y'])"
   ]
  },
  {
   "cell_type": "markdown",
   "id": "c3884318",
   "metadata": {},
   "source": [
    "We'll need to define a function of the form we want. This one defines a linear model (y=mx+b), but you could write any sort of model, like quadratic, exponential, etc."
   ]
  },
  {
   "cell_type": "code",
   "execution_count": null,
   "id": "0492a42b",
   "metadata": {},
   "outputs": [],
   "source": [
    "def my_model(x, m, b):   # first argument (x) is input data, scipy will optimize m & b to fit\n",
    "    y = m * x + b\n",
    "    return(y)"
   ]
  },
  {
   "cell_type": "markdown",
   "id": "55317dca",
   "metadata": {},
   "source": [
    "Then, Scipy's curve_fit will fit the model function to our data.  "
   ]
  },
  {
   "cell_type": "code",
   "execution_count": null,
   "id": "50254084",
   "metadata": {},
   "outputs": [],
   "source": [
    "# Scipy's curve_fit takes the arguments (model function, x-values, y-values)\n",
    "popt, pcov = curve_fit(my_model, data['x'], data['y'])\n",
    "\n",
    "# popt and pcov are some properties of the curve fit we'll use next."
   ]
  },
  {
   "cell_type": "code",
   "execution_count": null,
   "id": "87294e4c",
   "metadata": {},
   "outputs": [],
   "source": [
    "popt   # optimized coeeficients, in the order they appear in the model function"
   ]
  },
  {
   "cell_type": "markdown",
   "id": "bbc7f734",
   "metadata": {},
   "source": [
    "The model function's optimized coefficients above are probably close to 2 and 1. Recall the original data looked like y=2x+1 (plus some random jitter). popt is an *array* and you can access just one of the array's elements (your optimized coefficients) like this:"
   ]
  },
  {
   "cell_type": "code",
   "execution_count": null,
   "id": "2ec30054",
   "metadata": {},
   "outputs": [],
   "source": [
    "# the first element in the array \"popt\". That's the first coefficient.\n",
    "popt[0]"
   ]
  },
  {
   "cell_type": "code",
   "execution_count": null,
   "id": "6ad0384b",
   "metadata": {},
   "outputs": [],
   "source": [
    "# plotting the original data and the optimized model (i.e., trendline)\n",
    "plt.scatter(data['x'], data['y'], label=\"data\", color='k')\n",
    "plt.plot(data['x'], my_model(data['x'], popt[0], popt[1]), label=\"model fit\", color='darkorchid')\n",
    "plt.legend()\n",
    "plt.show()"
   ]
  }
 ],
 "metadata": {
  "kernelspec": {
   "display_name": "Python 3 (ipykernel)",
   "language": "python",
   "name": "python3"
  },
  "language_info": {
   "codemirror_mode": {
    "name": "ipython",
    "version": 3
   },
   "file_extension": ".py",
   "mimetype": "text/x-python",
   "name": "python",
   "nbconvert_exporter": "python",
   "pygments_lexer": "ipython3",
   "version": "3.9.7"
  }
 },
 "nbformat": 4,
 "nbformat_minor": 5
}
