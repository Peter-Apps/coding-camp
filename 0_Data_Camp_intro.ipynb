{
  "nbformat": 4,
  "nbformat_minor": 0,
  "metadata": {
    "kernelspec": {
      "display_name": "Python 3",
      "language": "python",
      "name": "python3"
    },
    "language_info": {
      "codemirror_mode": {
        "name": "ipython",
        "version": 3
      },
      "file_extension": ".py",
      "mimetype": "text/x-python",
      "name": "python",
      "nbconvert_exporter": "python",
      "pygments_lexer": "ipython3",
      "version": "3.7.4"
    },
    "colab": {
      "provenance": [],
      "toc_visible": true,
      "include_colab_link": true
    }
  },
  "cells": [
    {
      "cell_type": "markdown",
      "metadata": {
        "id": "view-in-github",
        "colab_type": "text"
      },
      "source": [
        "<a href=\"https://colab.research.google.com/github/fizzixprof/coding-camp/blob/main/0_Data_Camp_intro.ipynb\" target=\"_parent\"><img src=\"https://colab.research.google.com/assets/colab-badge.svg\" alt=\"Open In Colab\"/></a>"
      ]
    },
    {
      "cell_type": "markdown",
      "metadata": {
        "id": "GV2zeDfZ83Y8"
      },
      "source": [
        "# Introduction to Coding\n",
        "This is a *Jupyter notebook* with blocks of code called *cells*. You can press shift+ENTER to *run* a cell and go on to the next one. You can also edit the code and run it again to see how the output changes.\n",
        "\n",
        "You may see a popup window the first time saying \"Warning\". Don't worry, it's safe. Click on \"run anyway\"."
      ]
    },
    {
      "cell_type": "markdown",
      "metadata": {
        "id": "BJmrpbTfQTUV"
      },
      "source": [
        "## Part 1: Math with Python\n",
        "Try running the following cells by pressing SHIFT and ENTER (at the same time) for each one.\n",
        "\n",
        "*You won't hurt anything by experimenting. If you break it, close the tab and open the activity again to start over.*"
      ]
    },
    {
      "cell_type": "code",
      "metadata": {
        "id": "dKC1JJ5N83Y_"
      },
      "source": [
        "# 1IyhCG844Z2FPDRGWzJ4OmVBK2NmQoDgAClick on this cell. Then, press SHIFT and ENTER at the same time.\n",
        "2+2"
      ],
      "execution_count": null,
      "outputs": []
    },
    {
      "cell_type": "code",
      "metadata": {
        "id": "IJA_4NqG83ZH"
      },
      "source": [
        "# This is called a \"comment\". It's a message to other humans.\n",
        "# Starting with # tells the program not to read this line.\n",
        "# the program will run the next line since it doesn't start with #\n",
        "5-4"
      ],
      "execution_count": null,
      "outputs": []
    },
    {
      "cell_type": "code",
      "metadata": {
        "id": "zOUoSsDf83ZQ"
      },
      "source": [
        "# the following lines define variables called \"a\" and \"b\"\n",
        "a = 4\n",
        "b = 3\n",
        "\n",
        "# the next line shows us what a plus b is.\n",
        "a+b"
      ],
      "execution_count": null,
      "outputs": []
    },
    {
      "cell_type": "code",
      "metadata": {
        "id": "qhfF5eh983ZX"
      },
      "source": [
        "c = a*a # this line calculates a times a and saves the result as a varialbe called \"c\"\n",
        "c       # this line tells the program to show us what \"c\" is."
      ],
      "execution_count": null,
      "outputs": []
    },
    {
      "cell_type": "code",
      "metadata": {
        "id": "R8UFqllL83Zc"
      },
      "source": [
        "# this coding language is called \"python\"\n",
        "d = \"I just coded in Python\" # yep you did!\n",
        "d"
      ],
      "execution_count": null,
      "outputs": []
    },
    {
      "cell_type": "markdown",
      "metadata": {
        "collapsed": true,
        "id": "zV5ykHtS83Zi"
      },
      "source": [
        "Try editing some of the code above.\n",
        "- Edit some code to do a different calculation\n",
        "- Add a comment somehwere\n",
        "\n",
        "You can run a cell again by pressing shift+ENTER."
      ]
    },
    {
      "cell_type": "code",
      "metadata": {
        "id": "QSxiFZml83Zj"
      },
      "source": [
        "# Can you figure out what ** does?\n",
        "e = b**a\n",
        "e"
      ],
      "execution_count": null,
      "outputs": []
    },
    {
      "cell_type": "code",
      "metadata": {
        "id": "bEN-tSjKuJRA"
      },
      "source": [
        "# Here is an example of how to use a loop!\n",
        "i=0\n",
        "n = 10\n",
        "for x in range (0,10):\n",
        "   i = i + x\n",
        "   print (i)\n",
        "\n",
        "print (\"The sum of the first\" , n, \"integers (including zero) is\", i)"
      ],
      "execution_count": null,
      "outputs": []
    },
    {
      "cell_type": "markdown",
      "metadata": {
        "id": "nizh1xTz83Zo"
      },
      "source": [
        "## Part 2: Markdown\n",
        "The cells above are *code cells* that let you to run code. This is a *markdown cell* that contains markdown text that isn't read as Python code. Instead, you can format markdown text to look nice.\n",
        "\n",
        "Double-click on this cell to see the markdown text underneath. Running a markdown cell turns it into pretty, formatted text.\n",
        "- here's a bullet point\n",
        "- and another list item in *italics* and **bold**.\n",
        "- this is a hyperlink to [my favorite thing on the web](https://www.youtube.com/watch?v=dQw4w9WgXcQ)\n",
        "- You can even embed images  \n",
        "![cute kitten](https://github.com/adamlamee/CODINGinK12/raw/master/notebooks/1dayoldkitten.png)  \n",
        "\n",
        "### Try this\n",
        "Double-click on this cell to see the code that formats this text. Make a few edits and press shift+ENTER to see the changes.\n",
        "\n",
        "Read more about [formatting the markdown text](https://help.github.com/articles/basic-writing-and-formatting-syntax/) in a cell, like this one, or go to Help > Markdown > Basic Writing and Formatting Text."
      ]
    },
    {
      "cell_type": "markdown",
      "metadata": {
        "id": "tAGfsNiWQYHl"
      },
      "source": [
        "## Part 3: Physics Challenge\n",
        "The code below isn't quite right, in at least two ways. Edit the code to make the correct calculation."
      ]
    },
    {
      "cell_type": "code",
      "metadata": {
        "id": "BLvgYyoOOvEX"
      },
      "source": [
        "m = 2 #mass, in kg\n",
        "f = 5 #force, in N\n",
        "a = f*m\n",
        "print(\"The object accelerates at\", a , \"m/s\")"
      ],
      "execution_count": null,
      "outputs": []
    },
    {
      "cell_type": "markdown",
      "metadata": {
        "id": "kwo1_gM2PZCn"
      },
      "source": [
        "## Part 4: Coding Challenge\n",
        "After solving Newton's 2nd Law in the previous part, it's time for you to write your own physics problem. Choose something similar to what you have your students solve in class. Write a few lines of python in the code cell below to solve the problem."
      ]
    },
    {
      "cell_type": "code",
      "metadata": {
        "id": "rBji36-TPyV0"
      },
      "source": [
        "# write your problem's code in this cell\n"
      ],
      "execution_count": null,
      "outputs": []
    },
    {
      "cell_type": "markdown",
      "metadata": {
        "id": "krilk8Mp83Zq"
      },
      "source": [
        "---\n",
        "## Saving Your Work\n",
        "This is running on a Google server on a distant planet and deletes what you've done when you close this tab. To save your work for later use or analysis you have a few options:\n",
        "- File > \"Save a copy in Drive\" will save it to you Google Drive in a folder called \"Collaboratory\". You can run it later from there.  \n",
        "- File > \"Download .ipynb\" to save to your computer (and run with Jupyter software later)\n",
        "- File > Print to ... um ... print.\n",
        "- Save an image to your computer of a graph or chart, right-click on it and select Save Image as ...\n",
        "\n",
        "##Acknowledgements and License\n",
        "This notebook was designed by [Adam LaMee](https://adamlamee.github.io/). Thanks to the great folks at [Binder](https://mybinder.org/) and [Google Colaboratory](https://colab.research.google.com/notebooks/intro.ipynb) for making this notebook interactive without you needing to download it or install [Jupyter](https://jupyter.org/) on your own device. Find more activities and license info at [CODINGinK12.org](http://www.codingink12.org).\n",
        "\n",
        "The development and implementation of these materials and workshop were additionally funded by generous support from IRIS-HEP, the [Institute for Research and Innovation in Software for High Energy Physics](https://iris-hep.org/).\n",
        "\n",
        "This work is licensed under a\n",
        "[Creative Commons Attribution-NonCommercial-ShareAlike 4.0 International License][cc-by-nc-sa].\n",
        "\n",
        "[![CC BY-NC-SA 4.0][cc-by-nc-sa-image]][cc-by-nc-sa]\n",
        "\n",
        "[cc-by-nc-sa]: http://creativecommons.org/licenses/by-nc-sa/4.0/\n",
        "[cc-by-nc-sa-image]: https://licensebuttons.net/l/by-nc-sa/4.0/88x31.png\n",
        "[cc-by-nc-sa-shield]: https://img.shields.io/badge/License-CC%20BY--NC--SA%204.0-lightgrey.svg"
      ]
    }
  ]
}