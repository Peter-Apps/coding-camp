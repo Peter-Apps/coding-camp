{
  "cells": [
    {
      "cell_type": "markdown",
      "metadata": {
        "id": "view-in-github",
        "colab_type": "text"
      },
      "source": [
        "<a href=\"https://colab.research.google.com/github/cdanelix/coding-camp/blob/main/B_field_variation.ipynb\" target=\"_parent\"><img src=\"https://colab.research.google.com/assets/colab-badge.svg\" alt=\"Open In Colab\"/></a>"
      ]
    },
    {
      "cell_type": "markdown",
      "metadata": {
        "id": "txyl29LnsXRt"
      },
      "source": [
        "# B-Field Variation\n",
        "Does the magnetic field around your workspace have the same magnitude as outside? Perform an investigation to answer that and replace the **pseudocode** below with a [Holmes' t' analysis](https://docs.google.com/document/d/1cjAfYwbG4IrwirHMPnvo87ZYdPTXBAWQAny4b1eVclE/edit?usp=sharing) of data you collect."
      ]
    },
    {
      "cell_type": "code",
      "execution_count": null,
      "metadata": {
        "id": "3GcYNodDsXRu"
      },
      "outputs": [],
      "source": [
        "# import modules needed"
      ]
    },
    {
      "cell_type": "code",
      "execution_count": null,
      "metadata": {
        "id": "BmwZlH0hsXRv"
      },
      "outputs": [],
      "source": [
        "# read in data files"
      ]
    },
    {
      "cell_type": "code",
      "execution_count": null,
      "metadata": {
        "id": "uvZNVmzCsXRv"
      },
      "outputs": [],
      "source": [
        "# caluclate a Holmes t' to compare the two samples"
      ]
    },
    {
      "cell_type": "code",
      "execution_count": null,
      "metadata": {
        "id": "W4tpoFF4sXRv"
      },
      "outputs": [],
      "source": [
        "# vizualize data to highlight relvant pattern"
      ]
    },
    {
      "cell_type": "code",
      "execution_count": null,
      "metadata": {
        "id": "TsPQF0zFsXRw"
      },
      "outputs": [],
      "source": [
        "# answer the research question in claim-evidence-reasoning style"
      ]
    },
    {
      "cell_type": "markdown",
      "metadata": {
        "id": "Xw9z3WAzsXRw"
      },
      "source": [
        "# When you're ready ...\n",
        "Check in with a workshop facilitator and give them a link to an interactive version of this notebook. Be sure it doesn't give edit priviledges."
      ]
    }
  ],
  "metadata": {
    "kernelspec": {
      "display_name": "Python 3 (ipykernel)",
      "language": "python",
      "name": "python3"
    },
    "language_info": {
      "codemirror_mode": {
        "name": "ipython",
        "version": 3
      },
      "file_extension": ".py",
      "mimetype": "text/x-python",
      "name": "python",
      "nbconvert_exporter": "python",
      "pygments_lexer": "ipython3",
      "version": "3.9.7"
    },
    "colab": {
      "provenance": [],
      "include_colab_link": true
    }
  },
  "nbformat": 4,
  "nbformat_minor": 0
}