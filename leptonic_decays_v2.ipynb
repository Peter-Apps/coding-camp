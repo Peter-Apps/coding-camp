{
 "cells": [
  {
   "cell_type": "markdown",
   "metadata": {
    "id": "zfjMica8AOfk"
   },
   "source": [
    "# Leptonic Decays @ CMS\n",
    "\n",
    "Your task is to:  \n",
    "- create an invariant mass plot using one of the dilepton data sets [here](https://github.com/adamlamee/HEP-data).  You may observe evidence for the [J/$\\Psi$](https://en.wikipedia.org/wiki/J/psi_meson), [Upsilon](https://en.wikipedia.org/wiki/Upsilon_meson) ($\\Upsilon$), or [Z boson](https://en.wikipedia.org/wiki/W_and_Z_bosons).  \n",
    "- once you've created a mass plot, work with your partner to conduct a further analysis.  \n",
    "- share your analysis using the claim, evidence, reasoning (CER) format. \n"
   ]
  },
  {
   "cell_type": "code",
   "execution_count": null,
   "metadata": {
    "id": "odsYrYVOZgca"
   },
   "outputs": [],
   "source": [
    "# We've included some links and potential tools, but the rest is up to you! Put your code here.\n",
    "# Pro tip: programmers often copy/paste code from their previous work"
   ]
  },
  {
   "cell_type": "markdown",
   "metadata": {
    "id": "KLDYYwM4AOgU"
   },
   "source": [
    "## Optional tools\n",
    "The cells below show some additional tehniques you may or may not use as a follow-up or refinement to your CER."
   ]
  },
  {
   "cell_type": "code",
   "execution_count": null,
   "metadata": {
    "id": "lED4uYHFAOgi"
   },
   "outputs": [],
   "source": [
    "# Making cuts on your data (i.e., filtering your data set)\n",
    "data_trimmed_1 = data.query('px1 > 2')\n",
    "\n",
    "# suppose you wanted to filter for one global muon and one tracker muon\n",
    "data_trimmed_2 = data.query('Type1 == \"G\" & Type2 == \"T\"')\n",
    "\n",
    "# shows some descriptive statistics for a column in your dataframe\n",
    "data['column_name'].describe()\n",
    "\n",
    "# shows the unique value(s) in a column in your dataframe\n",
    "data['column_name'].unique()\n",
    "\n",
    "# set a log scale for an axis on your plot \n",
    "plt.yscale('log')\n",
    "\n",
    "# We won't include the code for the Breit-Wigner curve fitting here, but you may find it fun to play around with"
   ]
  },
  {
   "cell_type": "markdown",
   "metadata": {
    "id": "YDkVN8sf_CFp"
   },
   "source": [
    "## Follow-up questions\n",
    "We have a set of questions written for you to think a bit more about the meaning and implications of what you've created. With whatever time you have remaining, we'd like you to look over [these questions](https://docs.google.com/document/d/14scN3xOruLpE2PTWNY1biNlPwXy-a3Z11v6pP2y8dLE) and come up with some potential answers - or more questions!   "
   ]
  }
 ],
 "metadata": {
  "colab": {
   "collapsed_sections": [],
   "name": "5_Leptonic decays_v2",
   "provenance": []
  },
  "kernelspec": {
   "display_name": "Python 3",
   "language": "python",
   "name": "python3"
  },
  "language_info": {
   "codemirror_mode": {
    "name": "ipython",
    "version": 3
   },
   "file_extension": ".py",
   "mimetype": "text/x-python",
   "name": "python",
   "nbconvert_exporter": "python",
   "pygments_lexer": "ipython3",
   "version": "3.7.7"
  }
 },
 "nbformat": 4,
 "nbformat_minor": 1
}
