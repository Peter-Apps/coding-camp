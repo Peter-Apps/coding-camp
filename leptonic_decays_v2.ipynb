{
  "cells": [
    {
      "cell_type": "markdown",
      "metadata": {
        "id": "view-in-github",
        "colab_type": "text"
      },
      "source": [
        "<a href=\"https://colab.research.google.com/github/Peter-Apps/coding-camp/blob/main/leptonic_decays_v2.ipynb\" target=\"_parent\"><img src=\"https://colab.research.google.com/assets/colab-badge.svg\" alt=\"Open In Colab\"/></a>"
      ]
    },
    {
      "cell_type": "markdown",
      "metadata": {
        "id": "zfjMica8AOfk"
      },
      "source": [
        "# Leptonic Decays @ CMS\n",
        "\n",
        "Your task is to:  \n",
        "- create an invariant mass plot using one of the dilepton data sets [here](https://github.com/QuarkNet-HEP/coding-camp/tree/main/data).  You may observe evidence for the [J/$\\Psi$](https://en.wikipedia.org/wiki/J/psi_meson), [Upsilon](https://en.wikipedia.org/wiki/Upsilon_meson) ($\\Upsilon$), or [Z boson](https://en.wikipedia.org/wiki/W_and_Z_bosons).  \n",
        "- once you've created a mass plot, work with your partner to conduct a further analysis.  \n",
        "- share your analysis using the claim, evidence, reasoning (CER) format.\n"
      ]
    },
    {
      "cell_type": "code",
      "execution_count": null,
      "metadata": {
        "id": "odsYrYVOZgca"
      },
      "outputs": [],
      "source": [
        "# We've included some links and potential tools, but the rest is up to you! Put your code here.\n",
        "# Pro tip: programmers often copy/paste code from their previous work"
      ]
    },
    {
      "cell_type": "markdown",
      "metadata": {
        "id": "KLDYYwM4AOgU"
      },
      "source": [
        "## Optional tools\n",
        "The cells below show some additional tehniques you may or may not use as a follow-up or refinement to your CER."
      ]
    },
    {
      "cell_type": "code",
      "execution_count": null,
      "metadata": {
        "id": "lED4uYHFAOgi"
      },
      "outputs": [],
      "source": [
        "# Making cuts on your data (i.e., filtering your data set)\n",
        "data_trimmed_1 = data.query('px1 > 2')\n",
        "\n",
        "# suppose you wanted to filter for one global muon and one tracker muon\n",
        "data_trimmed_2 = data.query('Type1 == \"G\" & Type2 == \"T\"')\n",
        "\n",
        "# shows some descriptive statistics for a column in your dataframe\n",
        "data['column_name'].describe()\n",
        "\n",
        "# shows the unique value(s) in a column in your dataframe\n",
        "data['column_name'].unique()\n",
        "\n",
        "# set a log scale for an axis on your plot\n",
        "plt.yscale('log')\n",
        "\n",
        "# We won't include the code for the Breit-Wigner curve fitting here, but you may find it fun to play around with"
      ]
    },
    {
      "cell_type": "markdown",
      "metadata": {
        "id": "YDkVN8sf_CFp"
      },
      "source": [
        "## Follow-up questions\n",
        "We have a set of questions written for you to think a bit more about the meaning and implications of what you've created. With whatever time you have remaining, we'd like you to look over [these questions](https://docs.google.com/document/d/14scN3xOruLpE2PTWNY1biNlPwXy-a3Z11v6pP2y8dLE) and come up with some potential answers - or more questions!   "
      ]
    },
    {
      "cell_type": "markdown",
      "source": [
        "# Acknowledgements & Licenses\n",
        "\n",
        "The development and implementation of these materials and workshop were additionally funded by generous support from IRIS-HEP, the [Institute for Research and Innovation in Software for High Energy Physics](https://iris-hep.org/).\n",
        "\n",
        "This work is licensed under a\n",
        "[Creative Commons Attribution-NonCommercial-ShareAlike 4.0 International License][cc-by-nc-sa].\n",
        "\n",
        "[![CC BY-NC-SA 4.0][cc-by-nc-sa-image]][cc-by-nc-sa]\n",
        "\n",
        "[cc-by-nc-sa]: http://creativecommons.org/licenses/by-nc-sa/4.0/\n",
        "[cc-by-nc-sa-image]: https://licensebuttons.net/l/by-nc-sa/4.0/88x31.png\n",
        "[cc-by-nc-sa-shield]: https://img.shields.io/badge/License-CC%20BY--NC--SA%204.0-lightgrey.svg"
      ],
      "metadata": {
        "id": "LPw8WcBT83Ek"
      }
    }
  ],
  "metadata": {
    "colab": {
      "name": "5_Leptonic decays_v2",
      "provenance": [],
      "include_colab_link": true
    },
    "kernelspec": {
      "display_name": "Python 3 (ipykernel)",
      "language": "python",
      "name": "python3"
    },
    "language_info": {
      "codemirror_mode": {
        "name": "ipython",
        "version": 3
      },
      "file_extension": ".py",
      "mimetype": "text/x-python",
      "name": "python",
      "nbconvert_exporter": "python",
      "pygments_lexer": "ipython3",
      "version": "3.9.7"
    }
  },
  "nbformat": 4,
  "nbformat_minor": 0
}