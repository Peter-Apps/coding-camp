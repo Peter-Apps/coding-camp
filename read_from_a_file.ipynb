{
  "cells": [
    {
      "cell_type": "markdown",
      "metadata": {
        "id": "view-in-github",
        "colab_type": "text"
      },
      "source": [
        "<a href=\"https://colab.research.google.com/github/Peter-Apps/coding-camp/blob/main/read_from_a_file.ipynb\" target=\"_parent\"><img src=\"https://colab.research.google.com/assets/colab-badge.svg\" alt=\"Open In Colab\"/></a>"
      ]
    },
    {
      "cell_type": "markdown",
      "metadata": {
        "id": "4YLEdbshQ8Bw"
      },
      "source": [
        "# Use Colab to analyze data from a file\n",
        "Here's a few examples of how to get data from elsewhere into a Colab notebook.  \n",
        "<hr />"
      ]
    },
    {
      "cell_type": "markdown",
      "metadata": {
        "id": "1bxfqw1wQ8Bz"
      },
      "source": [
        "### Upload a file to your Colab notebook:  \n",
        "\n",
        "This only lasts for the duration of running this notebook. You'll need to repeat this if you close the notebook and come back to it later.\n",
        "\n",
        "- In Colab, click the folder icon in left menu. It's below the {x}\n",
        "- Click the upload icon at top of that window\n",
        "- Wait until you see the filename appear in the directory on the left. Then,\n",
        "- Right-click on the filename or click the 3 vertical dots at the end of the filename to \"copy path\"\n",
        "- Paste that path as the URL in your read fucntion with single quotes around it."
      ]
    },
    {
      "cell_type": "markdown",
      "metadata": {
        "id": "Tny0mGC6Q8B0"
      },
      "source": [
        "### Read a file on the web  (but not in Google Drive)  \n",
        "This works for most publicly available data you find on the web, but some cloud storage services (e.g., Google Drive, OneDrive) require a different procedure. Colab doesn't like older .xls files right now.\n",
        "\n",
        "You just need pandas and the URL to the file. To read from an older .xls format with Colab, run !pip install -q xlrd==1.2.0 before you import pandas.  \n",
        "1. Copy the file URL from your browser.  \n",
        "2. Paste the URL into a pandas read function, like:  \n",
        "\n",
        "    pd.read_csv('http://URL/of/file.csv')  \n",
        "\n",
        "    or  \n",
        "\n",
        "    pd.read_excel('http://URL/of/file.xls') # reads .xls and .xlsx"
      ]
    },
    {
      "cell_type": "code",
      "execution_count": null,
      "metadata": {
        "id": "nTgOq-_3Q8B1"
      },
      "outputs": [],
      "source": [
        "# here's an example\n",
        "import pandas as pd\n",
        "data = pd.read_csv('https://github.com/QuarkNet-HEP/coding-camp/raw/main/data/Single_Muon_Run2011A.csv')\n",
        "data.head(3)"
      ]
    },
    {
      "cell_type": "code",
      "execution_count": null,
      "metadata": {
        "id": "rGwIIASwQ8B2"
      },
      "outputs": [],
      "source": [
        "# here's an example with an older .xls file\n",
        "!pip install -q xlrd==1.2.0  # not needed to read newer xlsx format\n",
        "import pandas as pd\n",
        "\n",
        "moredata = pd.read_excel('https://github.com/QuarkNet-HEP/coding-camp/raw/main/data/Single_Muon_Run2011A.xls')\n",
        "moredata.head(3)"
      ]
    },
    {
      "cell_type": "markdown",
      "metadata": {
        "id": "BLv8ozPvQ8B3"
      },
      "source": [
        "## Read from a file in Google Drive  \n",
        "\n",
        "### Reading a csv in Google Drive  \n",
        "\n",
        "This isn't supported, but you can either:  \n",
        "- upload the .csv to your Google Drive and click on it to create a Google Sheet from it.\n",
        "- open the .csv on your computer and save it as a .xlsx file. Then, upload the .xlsx to your Google Drive.  \n",
        "\n",
        "### Reading a Google Sheet or a .xlsx file in Google Drive  \n",
        "\n",
        "Use the pandas read_excel() function, but you'll need to adjust the URL a little.  \n",
        "\n",
        "1. Get the view-only link to the file. It'll look something like this:\n",
        "\n",
        "  https://docs.google.com/blah-blah/edit?usp=sharing  \n",
        "\n",
        "\n",
        "2. Replace the last part with \"export\", like this:\n",
        "\n",
        "  https://docs.google.com/blah-blah/export  \n",
        "  \n",
        "  \n",
        "3. Use pandas read_excel (not read_csv):  \n",
        "  \n",
        "  pd.read_excel('https://docs.google.com/blah-blah/export')"
      ]
    },
    {
      "cell_type": "markdown",
      "metadata": {
        "id": "w2wIaSjvQ8B3"
      },
      "source": [
        "### Read a file stored in your own Google Drive\n",
        "This doesn't work for sharing, but you can read from a file on your own Google Drive, csv or xlsx.\n",
        "\n",
        "- In Colab, click folder icon in left menu. It's below the {x}\n",
        "- Then click Google Drive folder icon at top of that window. It'll ask you for permission.\n",
        "- Wait until you see \"drive\" appear in the directory on the left. Then,\n",
        "- Navigate to the file you want to read in\n",
        "- Right-click on the filename or click the 3 vertical dots at the end of the filename to \"copy path\"\n",
        "- Paste that path as the URL in your read function with single quotes around it."
      ]
    },
    {
      "cell_type": "markdown",
      "metadata": {
        "id": "_k41ZKb7Q8B3"
      },
      "source": [
        "### Read from a file stored in OneDrive\n",
        "*Coming soon (we hope)*"
      ]
    },
    {
      "cell_type": "markdown",
      "source": [
        "# Acknowledgements & Licenses\n",
        "\n",
        "The development and implementation of these materials and workshop were additionally funded by generous support from IRIS-HEP, the [Institute for Research and Innovation in Software for High Energy Physics](https://iris-hep.org/).\n",
        "\n",
        "This work is licensed under a\n",
        "[Creative Commons Attribution-NonCommercial-ShareAlike 4.0 International License][cc-by-nc-sa].\n",
        "\n",
        "[![CC BY-NC-SA 4.0][cc-by-nc-sa-image]][cc-by-nc-sa]\n",
        "\n",
        "[cc-by-nc-sa]: http://creativecommons.org/licenses/by-nc-sa/4.0/\n",
        "[cc-by-nc-sa-image]: https://licensebuttons.net/l/by-nc-sa/4.0/88x31.png\n",
        "[cc-by-nc-sa-shield]: https://img.shields.io/badge/License-CC%20BY--NC--SA%204.0-lightgrey.svg"
      ],
      "metadata": {
        "id": "33t7Q6gkQ-y2"
      }
    }
  ],
  "metadata": {
    "kernelspec": {
      "display_name": "Python 3 (ipykernel)",
      "language": "python",
      "name": "python3"
    },
    "language_info": {
      "codemirror_mode": {
        "name": "ipython",
        "version": 3
      },
      "file_extension": ".py",
      "mimetype": "text/x-python",
      "name": "python",
      "nbconvert_exporter": "python",
      "pygments_lexer": "ipython3",
      "version": "3.9.7"
    },
    "colab": {
      "provenance": [],
      "include_colab_link": true
    }
  },
  "nbformat": 4,
  "nbformat_minor": 0
}