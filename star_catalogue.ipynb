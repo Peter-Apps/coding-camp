{
  "cells": [
    {
      "cell_type": "markdown",
      "metadata": {
        "id": "S7qIBbUQxdTY"
      },
      "source": [
        "# Star catalogue analysis\n",
        "Your task is to:  \n",
        "- analyze a huge collection of Hipparcos, Yale Bright Star, and Gliese catalogues  \n",
        "- create a Hertzsprung-Russell diagram, and make changes to the plot style so that it better mimics the \"classic\" appearance of the H-R diagram\n",
        "\n",
        "### Helpful resources  \n",
        "- This notebook already has some helpful code, but you may need to copy some code from earlier notebooks.  \n",
        "- To read a csv file hosted on GitHub, navigate to that file and copy the link from the \"download\" button (right-click and copy link).  \n",
        "- When plotting a large number of data points, it can help to specify the size (s) and transparency (alpha) of the points and remove the line around the markers. That might look like  \n",
        "plt.scatter(x,y, s=1, alpha=.5, edgecolors='none').  \n",
        "- See the documentation on [Pyplot's scatterplot function](https://matplotlib.org/3.2.1/api/_as_gen/matplotlib.pyplot.scatter.html) for more details.  "
      ]
    },
    {
      "cell_type": "code",
      "execution_count": null,
      "metadata": {
        "id": "aGuRZ8xlxdTa"
      },
      "outputs": [],
      "source": [
        "# Import modules\n",
        "# You will at least need pandas, numpy, matplotlib, and pyplot"
      ]
    },
    {
      "cell_type": "code",
      "execution_count": null,
      "metadata": {
        "id": "jI493pHkxdTi"
      },
      "outputs": [],
      "source": [
        "# Read in data that will be used for the calculations.\n",
        "# Get the \"stars.csv\" in the \"data\" folder at https://github.com/adamlamee/CODINGinK12\n",
        "data = pd.read_csv(\"github_link.csv\")"
      ]
    },
    {
      "cell_type": "code",
      "execution_count": null,
      "metadata": {
        "id": "NPDIy0F4xdTr"
      },
      "outputs": [],
      "source": [
        "# We wish to look at the first 5 rows of our data set\n",
        "data.head(5)"
      ]
    },
    {
      "cell_type": "code",
      "execution_count": null,
      "metadata": {
        "id": "Scs4sBetxdTw"
      },
      "outputs": [],
      "source": [
        "# The .shape command displays the (number of rows , number of columns) in a file.\n",
        "data.shape"
      ]
    },
    {
      "cell_type": "code",
      "execution_count": null,
      "metadata": {
        "id": "_8l3aa1wUh0i"
      },
      "outputs": [],
      "source": []
    },
    {
      "cell_type": "markdown",
      "metadata": {
        "id": "znXny8nbxdUK"
      },
      "source": [
        "#Acknowledgements and License\n",
        "This notebook is written by coding fellow Adam MaLee.\n",
        "\n",
        "The data came from [The Astronomy Nexus](http://www.astronexus.com/hyg) and their collection of the Hipparcos, Yale Bright Star, and Gliese catalogues ([huge zip file here](http://www.astronexus.com/files/downloads/hygdata_v3.csv.gz)).\n",
        "\n",
        "\n",
        "The development and implementation of these materials and workshop were additionally funded by generous support from IRIS-HEP, the [Institute for Research and Innovation in Software for High Energy Physics](https://iris-hep.org/).\n",
        "\n",
        "This work is licensed under a\n",
        "[Creative Commons Attribution-NonCommercial-ShareAlike 4.0 International License][cc-by-nc-sa].\n",
        "\n",
        "[![CC BY-NC-SA 4.0][cc-by-nc-sa-image]][cc-by-nc-sa]\n",
        "\n",
        "[cc-by-nc-sa]: http://creativecommons.org/licenses/by-nc-sa/4.0/\n",
        "[cc-by-nc-sa-image]: https://licensebuttons.net/l/by-nc-sa/4.0/88x31.png\n",
        "[cc-by-nc-sa-shield]: https://img.shields.io/badge/License-CC%20BY--NC--SA%204.0-lightgrey.svg\n",
        "\n"
      ]
    }
  ],
  "metadata": {
    "anaconda-cloud": {},
    "colab": {
      "name": "4_Star catalogue",
      "provenance": []
    },
    "kernelspec": {
      "display_name": "Python 3",
      "language": "python",
      "name": "python3"
    },
    "language_info": {
      "codemirror_mode": {
        "name": "ipython",
        "version": 3
      },
      "file_extension": ".py",
      "mimetype": "text/x-python",
      "name": "python",
      "nbconvert_exporter": "python",
      "pygments_lexer": "ipython3",
      "version": "3.7.7"
    }
  },
  "nbformat": 4,
  "nbformat_minor": 0
}