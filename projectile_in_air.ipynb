{
  "cells": [
    {
      "cell_type": "markdown",
      "metadata": {
        "id": "3aQZjntsK9tm"
      },
      "source": [
        "# Projectile Motion in Air\n",
        "Your task is to:  \n",
        "- model the motion of a Tesla roadster launched at 8 m/s horizontally off a 30 m cliff, including air resistance.  \n",
        "$$ F_{drag} =  -\\frac{1}{2} \\rho C_{drag} A v^{2}$$\n",
        "- add inline comments and or markdown cells to describe what the code does  \n",
        "- describe the role iteration plays in the quality of the simulation  \n",
        "\n",
        "You may find these references helpful:  \n",
        "- [Aerodynamic drag](https://en.wikipedia.org/wiki/Drag_(physics))  \n",
        "- Estimating [coefficient of drag](https://en.wikipedia.org/wiki/Drag_coefficient)  "
      ]
    },
    {
      "cell_type": "code",
      "execution_count": null,
      "metadata": {
        "id": "gPgYRBRPK9to"
      },
      "outputs": [],
      "source": [
        "# imports some software packages we'll use\n",
        "import pandas as pd\n",
        "import numpy as np\n",
        "from math import cos,sin,pi\n",
        "import matplotlib as mpl\n",
        "import matplotlib.pyplot as plt"
      ]
    },
    {
      "cell_type": "code",
      "execution_count": null,
      "metadata": {
        "id": "zxfesLoWK9ty"
      },
      "outputs": [],
      "source": [
        "# Some of these constants and initial values aren't estimated very well\n",
        "m = 5  # mass, in kg\n",
        "g = 10\n",
        "rho = .1 # air density, kg/m^3\n",
        "Cdrag = 0.9\n",
        "A = .1\n",
        "xi = 0\n",
        "yi = 10\n",
        "t = 0\n",
        "tdelta = .5\n",
        "vx = 100\n",
        "vy = 0\n",
        "ax = 0\n",
        "ay = -g"
      ]
    },
    {
      "cell_type": "code",
      "execution_count": null,
      "metadata": {
        "id": "gbZ2wsUCK9t7"
      },
      "outputs": [],
      "source": [
        "def Fdrag(v):     # this defines a function we're calling \"Fdrag\" that's used later\n",
        "    return -.5*rho*Cdrag*A*(v**2)\n",
        "\n",
        "x=xi\n",
        "y=yi\n",
        "tlist = []\n",
        "xlist = []\n",
        "ylist = []\n",
        "tlist.append(t)\n",
        "xlist.append(x)\n",
        "ylist.append(y)\n",
        "\n",
        "while y >= 0:\n",
        "    ax = Fdrag(vx)/m\n",
        "    vx = vx + ax*tdelta\n",
        "    x = .5*ax*tdelta**2 + vx*tdelta + x\n",
        "    xlist.append(x)\n",
        "\n",
        "    ay = (-m*g + Fdrag(vy))/m\n",
        "    vy = vy + ay*tdelta\n",
        "    y = .5*ay*tdelta**2 + vy*tdelta + y\n",
        "    ylist.append(y)\n",
        "\n",
        "    t = t +tdelta\n",
        "    tlist.append(t)\n",
        "\n",
        "data = pd.DataFrame({\"t\": tlist, \"x\": xlist, \"y\": ylist})\n",
        "data"
      ]
    },
    {
      "cell_type": "code",
      "execution_count": null,
      "metadata": {
        "id": "71rubSqXK9uA"
      },
      "outputs": [],
      "source": [
        "plt.plot(data['x'],data['y'],linestyle='--', marker='o', color='b', markersize=20)\n",
        "plt.table(cellText=data.values.round(3), colLabels=data.columns, loc='right')\n",
        "plt.xlabel('so lonely')\n",
        "plt.ylabel('label me?')\n",
        "plt.title('something here')\n",
        "plt.grid(False)\n",
        "plt.axis([0, 100, 0, 100])\n",
        "plt.show()"
      ]
    }
  ],
  "metadata": {
    "colab": {
      "name": "2_Projectile in air",
      "provenance": []
    },
    "kernelspec": {
      "display_name": "Python 3",
      "language": "python",
      "name": "python3"
    },
    "language_info": {
      "codemirror_mode": {
        "name": "ipython",
        "version": 3
      },
      "file_extension": ".py",
      "mimetype": "text/x-python",
      "name": "python",
      "nbconvert_exporter": "python",
      "pygments_lexer": "ipython3",
      "version": "3.7.7"
    }
  },
  "nbformat": 4,
  "nbformat_minor": 0
}