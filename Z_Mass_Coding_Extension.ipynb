{
  "nbformat": 4,
  "nbformat_minor": 0,
  "metadata": {
    "colab": {
      "private_outputs": true,
      "provenance": [],
      "authorship_tag": "ABX9TyMwPXYiMPq8bgg8/rjOorCz",
      "include_colab_link": true
    },
    "kernelspec": {
      "name": "python3",
      "display_name": "Python 3"
    },
    "language_info": {
      "name": "python"
    }
  },
  "cells": [
    {
      "cell_type": "markdown",
      "metadata": {
        "id": "view-in-github",
        "colab_type": "text"
      },
      "source": [
        "<a href=\"https://colab.research.google.com/github/Peter-Apps/coding-camp/blob/main/Z_Mass_Coding_Extension.ipynb\" target=\"_parent\"><img src=\"https://colab.research.google.com/assets/colab-badge.svg\" alt=\"Open In Colab\"/></a>"
      ]
    },
    {
      "cell_type": "markdown",
      "source": [
        "# Z Mass Analysis\n",
        "---\n",
        "To get started,\n",
        "- You won't hurt anything by experimenting. If you break it, close the tab and open the link again to start over.\n",
        "- Is this your first time with Jupyter and Python? Need a refresher? Try the 5-minute [Intro to Jupyter activity](https://colab.research.google.com/github/QuarkNet-HEP/data-camp/blob/master/intro.ipynb) and come back here.\n",
        "- Your edits here will NOT SAVE automatically, unless you save a copy to your drive\n",
        "\n",
        "---\n",
        "There are two ways to run the code below:\n",
        "- press SHIFT and ENTER at the same time\n",
        "- click on the play button (&#9658;) to the left of the code  \n",
        "\n",
        "Click \"run anyway\" on the popup window. It happens the first time you run this code telling you it loads from GitHub (it's totally safe, that's why we use it).\n",
        "\n",
        "Run each block of code to see what it does. Look for hidden messages, too. They're called *comments* and they start with #."
      ],
      "metadata": {
        "id": "zNsTIwZK57F1"
      }
    },
    {
      "cell_type": "code",
      "execution_count": null,
      "metadata": {
        "id": "jHtucZ7418WF"
      },
      "outputs": [],
      "source": [
        "# Import needed modules\n",
        "import pandas as pd # for creating datatables\n",
        "import numpy as np  # for quick math calculations\n",
        "from matplotlib import pyplot as plt # for making histograms"
      ]
    },
    {
      "cell_type": "markdown",
      "source": [
        "# Load in your dataset\n",
        "\n",
        "\n"
      ],
      "metadata": {
        "id": "iVgeuu9d3jov"
      }
    },
    {
      "cell_type": "markdown",
      "source": [
        "Your teacher will tell you whether to use the Muon data or Electron data. The code below loads the data from a [google spreadsheet](https://docs.google.com/spreadsheets/d/1CEg7DIcQ4OW_ETC1v70T3tMR8o42VQzHml5pL0BRpxc/edit?gid=98967810#gid=98967810)."
      ],
      "metadata": {
        "id": "rT9s6XhN3liB"
      }
    },
    {
      "cell_type": "code",
      "source": [
        "# If you are given the muon data sheet, run this code block\n",
        "muon_sheet_url = f\"https://docs.google.com/spreadsheets/d/1CEg7DIcQ4OW_ETC1v70T3tMR8o42VQzHml5pL0BRpxc/export?format=csv&id=1CEg7DIcQ4OW_ETC1v70T3tMR8o42VQzHml5pL0BRpxc&gid=98967810\"\n",
        "\n",
        "muon_data = pd.read_csv(muon_sheet_url)\n"
      ],
      "metadata": {
        "id": "3sfi1NVj2T1Y"
      },
      "execution_count": null,
      "outputs": []
    },
    {
      "cell_type": "code",
      "source": [
        "# If you have the electron data set, run this code block\n",
        "electron_sheet_url = f\"https://docs.google.com/spreadsheets/d/1CEg7DIcQ4OW_ETC1v70T3tMR8o42VQzHml5pL0BRpxc/export?format=csv&id=1CEg7DIcQ4OW_ETC1v70T3tMR8o42VQzHml5pL0BRpxc&gid=2082462433\"\n",
        "\n",
        "electron_data = pd.read_csv(electron_sheet_url)\n"
      ],
      "metadata": {
        "id": "A1ADKc9J3841"
      },
      "execution_count": null,
      "outputs": []
    },
    {
      "cell_type": "markdown",
      "source": [
        "# Analyze your dataset"
      ],
      "metadata": {
        "id": "fJyxg3MP4vQs"
      }
    },
    {
      "cell_type": "markdown",
      "source": [
        "\n",
        ">⚠️⚠️ In the code block below, add in either `muon_data` or `electron_data`.\n",
        "\n",
        "```python\n",
        "data = muon_data\n",
        "\n",
        "# OR\n",
        "\n",
        "data = electron_data\n",
        "```\n",
        "\n",
        "> If you don't, these lines will throw an error.⚠️⚠️"
      ],
      "metadata": {
        "id": "q_maNxVc4xoe"
      }
    },
    {
      "cell_type": "code",
      "source": [
        "data ="
      ],
      "metadata": {
        "id": "fHok0Ju39glC"
      },
      "execution_count": null,
      "outputs": []
    },
    {
      "cell_type": "markdown",
      "source": [
        "Let's take a look at the data in your table."
      ],
      "metadata": {
        "id": "AJXUBFO35mMI"
      }
    },
    {
      "cell_type": "code",
      "source": [
        "# The .head(n) command displays the first n rows of a file.\n",
        "data.head(3)"
      ],
      "metadata": {
        "id": "D4bIqcae42kE"
      },
      "execution_count": null,
      "outputs": []
    },
    {
      "cell_type": "code",
      "source": [
        "# The .shape command displays the (number of rows , number of columns) in a file.\n",
        "data.shape"
      ],
      "metadata": {
        "id": "1SJdAu_x6UwL"
      },
      "execution_count": null,
      "outputs": []
    },
    {
      "cell_type": "markdown",
      "source": [
        "## Questions:\n",
        "1. What do each of the columns represent?\n",
        "2. How many data points are in your datatable?"
      ],
      "metadata": {
        "id": "LeFCvRL09Ar-"
      }
    },
    {
      "cell_type": "markdown",
      "source": [
        "## Adding Columns to your data table\n",
        "---\n",
        "Remember from your manual calculations, you need to do each of these steps to find the mass of the Z Boson:\n",
        "* Find the x and y components of momentum for each particle ($px_1 = p_1 * \\cos\\theta$ and $py_1 = p_1 * \\sin\\theta$)\n",
        "* Find the total momentum in the x direction. ($px = px_1 + px_2$)\n",
        "\n",
        "* Find the total momentum in the y direction. ($py = py_1 + py_2$)\n",
        "* Find the magnitude of the resultant event momentum. ($p_{total} = \\sqrt{px^2 + py^2}$). This will be the same as the total energy.\n",
        "* Find the total energy of the system. (This will be the scalar sum of each particle's momentum)\n",
        "* Finally, determine the mass of the Z boson using $E^2 = m^2 + p^2.\n",
        "\n",
        "Let's do each of these step by step. When you feel comfortable, you can try to do all of these in a single code block."
      ],
      "metadata": {
        "id": "-j9-vEtz6iXi"
      }
    },
    {
      "cell_type": "markdown",
      "source": [
        "``` python3\n",
        "# You can specify a column by dataset[\"column name\"] (e.g., data[\"E1\"])\n",
        "\n",
        "# This makes a new column called \"Junk\" and fills it with a meaningless\n",
        "# quantity (E1 + px1) for each event\n",
        "data['Junk'] = data['E1'] + data['px1']\n",
        "```"
      ],
      "metadata": {
        "id": "7bzIPHei8j1b"
      }
    },
    {
      "cell_type": "markdown",
      "source": [
        "#### Find $p_{x1}$ and $p_{x2}$\n",
        "\n",
        "⚠️⚠️ If you are using the electron dataset, change `theta1 (deg)` to `theta1` so that it matches the column header in the data table. ⚠️⚠️"
      ],
      "metadata": {
        "id": "R2YO5Th9-Z-z"
      }
    },
    {
      "cell_type": "code",
      "source": [
        "# Let's create a new column for px1 (momentum in the x direction)\n",
        "\n",
        "data['px1'] = data['p1'] * np.cos(np.radians(data['theta1 (deg)']))"
      ],
      "metadata": {
        "id": "5zZMS1rq6qAe"
      },
      "execution_count": null,
      "outputs": []
    },
    {
      "cell_type": "markdown",
      "source": [
        "Now it's your turn. Modify the line below to create a column called px2.\n",
        "\n",
        "The columns you need to use are labeled `p2` and `theta2`\n"
      ],
      "metadata": {
        "id": "jbj1fPL69322"
      }
    },
    {
      "cell_type": "code",
      "source": [
        "# Use this code block to find px2\n",
        "data['px2'] ="
      ],
      "metadata": {
        "id": "vS01Xgpw9wqx"
      },
      "execution_count": null,
      "outputs": []
    },
    {
      "cell_type": "code",
      "source": [
        "# Run this cell to see your new columns in the data table. Double check that your math is correct\n",
        "data.head(5)"
      ],
      "metadata": {
        "id": "U079950T-Fuf"
      },
      "execution_count": null,
      "outputs": []
    },
    {
      "cell_type": "markdown",
      "source": [
        "#### Find $p_{y1}$ and $p_{y2}$\n",
        "Copy your code from above and modify it to get the values for py1 and py2. Remember to swap `np.cos` for `np.sin`."
      ],
      "metadata": {
        "id": "lipGEGNR-hgv"
      }
    },
    {
      "cell_type": "code",
      "source": [
        "# Use this code block to find py1 and py2\n",
        "\n"
      ],
      "metadata": {
        "id": "gGSbcuJH-u9j"
      },
      "execution_count": null,
      "outputs": []
    },
    {
      "cell_type": "code",
      "source": [
        "# Run this cell to see your new columns in the data table. Double check that your math is correct\n",
        "data.head(5)"
      ],
      "metadata": {
        "id": "X_QQtc9t-x_P"
      },
      "execution_count": null,
      "outputs": []
    },
    {
      "cell_type": "markdown",
      "source": [
        "#### Find total px and total py"
      ],
      "metadata": {
        "id": "4lZdTWQr-35_"
      }
    },
    {
      "cell_type": "code",
      "source": [
        "# To add columns together, simply use +\n",
        "\n",
        "data['total px'] = data['px1'] + data['px2']\n",
        "\n",
        "# Finish this line using the column names you created for py\n",
        "data['total py'] ="
      ],
      "metadata": {
        "id": "xzMy8arI-6df"
      },
      "execution_count": null,
      "outputs": []
    },
    {
      "cell_type": "markdown",
      "source": [
        "#### Find total momentum (which is the same as total Energy)\n",
        "\n",
        "* To square a value in python use `**`, so $x^2$ is `x ** 2`\n",
        "* To get a square root in python use `np.sqrt()` so $\\sqrt{x}$ is `np.sqrt(x)`"
      ],
      "metadata": {
        "id": "mc-EWV9T_uVq"
      }
    },
    {
      "cell_type": "code",
      "source": [
        "# Find the total momentum using pythagorean theorem\n",
        "\n",
        "data['total p'] = np.sqrt(data['Value 1'] ** 2 + data['Value 2'] ** 2)"
      ],
      "metadata": {
        "id": "IA2FmLYRAM4X"
      },
      "execution_count": null,
      "outputs": []
    },
    {
      "cell_type": "markdown",
      "source": [
        "#### Find the total energy of the event\n",
        "\n",
        "Remember that energy is a scalar and that for the muon or electron it's momentum is equal to it's energy."
      ],
      "metadata": {
        "id": "CeQTxAHO78iE"
      }
    },
    {
      "cell_type": "code",
      "source": [
        "# Find the total energy of the event (add up individual momentums)\n",
        "data['total E'] ="
      ],
      "metadata": {
        "id": "fDN2_eGw7lIe"
      },
      "execution_count": null,
      "outputs": []
    },
    {
      "cell_type": "markdown",
      "source": [
        "#### Find the total mass of the event\n",
        "\n",
        "Remember that:\n",
        "1.  $E^2 = m^2 + p^2$\n",
        "*italicized text*"
      ],
      "metadata": {
        "id": "Ofo6HQlKA6Xw"
      }
    },
    {
      "cell_type": "code",
      "source": [
        "# Use your skills to finish this line\n",
        "data['mass'] ="
      ],
      "metadata": {
        "id": "Pv0KrxbNA9w_"
      },
      "execution_count": null,
      "outputs": []
    },
    {
      "cell_type": "markdown",
      "source": [
        "## Create a Histogram of your results\n",
        "\n",
        "###Edit the code block below to add labels, and adjust the number of bins and range as needed"
      ],
      "metadata": {
        "id": "S3Ke_DMZBomK"
      }
    },
    {
      "cell_type": "code",
      "source": [
        "# This makes a histogram of that mass calculation above.\n",
        "plt.hist(data['mass'], bins=4, range=[0,100], log=False)\n",
        "plt.title(\"Title me!\")\n",
        "plt.xlabel(\"x-axis label\")\n",
        "plt.ylabel(\"y-axis label\");"
      ],
      "metadata": {
        "id": "k_mHV4-0BoGv"
      },
      "execution_count": null,
      "outputs": []
    },
    {
      "cell_type": "markdown",
      "source": [
        "# Summary Questions\n",
        "1. Make a claim about the mass of the Z using the larger dataset. Estimate the uncertainty in your answer.\n",
        "2. Describe how the histogram changed when more data was used.\n",
        "\n",
        "###If Time:\n",
        "1.  Repeat the code above using the other dataset (Hint: You only need to change 1 block of code to do this).\n",
        "2. How did the results of the electron dataset compare to the muon dataset? Why do you think that is?\n"
      ],
      "metadata": {
        "id": "ay-Fxv9eCCYE"
      }
    },
    {
      "cell_type": "markdown",
      "source": [
        "---\n",
        "## Saving Your Work\n",
        "This is running on a Google server on a distant planet and deletes what you've done when you close this tab. To save your work for later use or analysis you have a few options:\n",
        "- File > Save a Copy to Drive (*Best option*)\n",
        "- File > Download .ipynb to save to your computer (and run with Jupyter software)\n",
        "- File > Download .py to save to your computer (and run with any Python software)\n",
        "- File > Print to ... um ... print.\n",
        "- Save an image to your computer of a graph or chart, right-click on it and select Save Image as ..."
      ],
      "metadata": {
        "id": "vJsn68tqC3yy"
      }
    },
    {
      "cell_type": "markdown",
      "source": [
        "# Credits:\n",
        "This notebook was created by QuarkNet Coding Fellow Peter Apps, as an extension to the [Z-mass Data Portfolio Activity](https://quarknet.org/data-portfolio/activity/calculate-z-mass).\n",
        "\n",
        "Last Revised: 2024-07-22"
      ],
      "metadata": {
        "id": "azD-h9qkCzIF"
      }
    }
  ]
}