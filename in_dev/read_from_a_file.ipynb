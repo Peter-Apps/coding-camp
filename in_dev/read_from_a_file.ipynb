{
 "cells": [
  {
   "cell_type": "markdown",
   "metadata": {},
   "source": [
    "# Use Colab to analyze data from a file\n",
    "Here's a few examples of how to get data from elsewhere into a Colab notebook.  \n",
    "<hr />\n",
    "\n",
    "### Upload a file directly:  \n",
    "\n",
    "This only lasts for the duration of running this notebook. You'll need to repeat this if you close the notebook and come back to it later.\n",
    "\n",
    "- In Colab, click folder icon in left menu. It's below the {x}\n",
    "- Click the upload icon at top of that window\n",
    "- Wait until you see the filename appear in the directory on the left. Then, \n",
    "- Right-click on the filename or click the 3 vertical dots at the end of the filename to \"copy path\"\n",
    "- Paste that path as the URL in your read fucntion with single quotes around it.\n",
    "\n",
    "\n",
    "### Read from a publicly available file on the web  \n",
    "This works for most publicly available data you find on the web, but some cloud storage services (e.g., Google Drive, OneDrive) require a different procedure. Colab doesn't like older .xls files right now.\n",
    "\n",
    "You just need pandas and the URL to the file. To read from an older .xls format with Colab, run !pip install -q xlrd==1.2.0 before you import pandas.  \n",
    "1. Copy the file URL from your browser.  \n",
    "2. Paste the URL into a pandas read function, like:  \n",
    "\n",
    "    pd.read_csv('http://URL/of/file.csv')  \n",
    "\n",
    "    or  \n",
    "\n",
    "    pd.read_excel('http://URL/of/file.xls') # reads .xls and .xlsx"
   ]
  },
  {
   "cell_type": "code",
   "execution_count": null,
   "metadata": {},
   "outputs": [],
   "source": [
    "# here's an example\n",
    "import pandas as pd\n",
    "data = pd.read_csv('https://github.com/QuarkNet-HEP/coding-camp/raw/main/data/Single_Muon_Run2011A.csv')\n",
    "data.head(3)"
   ]
  },
  {
   "cell_type": "code",
   "execution_count": null,
   "metadata": {},
   "outputs": [],
   "source": [
    "# here's an example with an older .xls file\n",
    "!pip install -q xlrd==1.2.0  # not needed to read newer xlsx format\n",
    "import pandas as pd\n",
    "moredata = pd.read_excel('https://github.com/QuarkNet-HEP/coding-camp/raw/main/data/Single_Muon_Run2011A.xls')\n",
    "moredata.head(3)"
   ]
  },
  {
   "cell_type": "markdown",
   "metadata": {},
   "source": [
    "### Read from a Google Sheet\n",
    "Use the pandas read_excel() function shown above to read from a Google Sheet, but you'll need to adjust the URL a little.  \n",
    "\n",
    "1. Get the view-only link to the sheet. It'll look something like this:\n",
    "\n",
    "  https://docs.google.com/blah-blah/edit?usp=sharing  \n",
    "\n",
    "\n",
    "2. Replace the last part with \"export\", like this:\n",
    "\n",
    "  https://docs.google.com/blah-blah/export  \n",
    "  \n",
    "  \n",
    "3. Use pandas read_excel (not read_csv):  \n",
    "  \n",
    "  pd.read_excel('https://docs.google.com/blah-blah/export')"
   ]
  },
  {
   "cell_type": "markdown",
   "metadata": {},
   "source": [
    "### Read from a file stored in your own Google Drive\n",
    "This reads for files stored in your Google Drive, like a csv or xlsx. If you need to access a Google Sheet, that's a different process. See the instructions above.\n",
    "\n",
    "*Note: this only reads from your own Drive, not between users*  \n",
    "\n",
    "- In Colab, click folder icon in left menu. It's below the {x}\n",
    "- Then click Google Drive folder icon at top of that window. It'll ask you for permission.\n",
    "- Wait until you see \"drive\" appear in the directory on the left. Then, \n",
    "- Navigate to the file you want to read in\n",
    "- Right-click on the filename or click the 3 vertical dots at the end of the filename to \"copy path\"\n",
    "- Paste that path as the URL in your read function with single quotes around it."
   ]
  },
  {
   "cell_type": "markdown",
   "metadata": {},
   "source": [
    "### Read from a file stored in OneDrive\n",
    "*Coming soon*"
   ]
  }
 ],
 "metadata": {
  "kernelspec": {
   "display_name": "Python 3 (ipykernel)",
   "language": "python",
   "name": "python3"
  },
  "language_info": {
   "codemirror_mode": {
    "name": "ipython",
    "version": 3
   },
   "file_extension": ".py",
   "mimetype": "text/x-python",
   "name": "python",
   "nbconvert_exporter": "python",
   "pygments_lexer": "ipython3",
   "version": "3.9.7"
  }
 },
 "nbformat": 4,
 "nbformat_minor": 4
}
