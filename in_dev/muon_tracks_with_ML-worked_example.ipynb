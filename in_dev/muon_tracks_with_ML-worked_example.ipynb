{
  "cells": [
    {
      "cell_type": "markdown",
      "metadata": {
        "id": "view-in-github",
        "colab_type": "text"
      },
      "source": [
        "<a href=\"https://colab.research.google.com/github/Peter-Apps/coding-camp/blob/main/in_dev/muon_tracks_with_ML-worked_example.ipynb\" target=\"_parent\"><img src=\"https://colab.research.google.com/assets/colab-badge.svg\" alt=\"Open In Colab\"/></a>"
      ]
    },
    {
      "cell_type": "markdown",
      "id": "fa364a11",
      "metadata": {
        "id": "fa364a11"
      },
      "source": [
        "# Introduction to Machine Learning using Muon Tracks in CMS  \n",
        "\n",
        "\n",
        "Expand the pseudocode below into an investigation of [muon track data](https://github.com/QuarkNet-HEP/coding-camp/tree/main/data) in the CMS detector using Machine Learning techniques. You'll need to use the documentation pages linked for guidance on how to implement the required functions.\n",
        "\n",
        "For more in-depth reading on the analysis techniques used here, see [Python Data Science Handbook](https://jakevdp.github.io/PythonDataScienceHandbook/) by Jake VanderPlas and [Hands-On Machine Learning with Scikit-Learn, Keras, and TensorFlow](https://www.oreilly.com/library/view/hands-on-machine-learning/9781492032632/) by Aurélien Géron."
      ]
    },
    {
      "cell_type": "markdown",
      "id": "ef381959",
      "metadata": {
        "id": "ef381959"
      },
      "source": [
        "## Problem  \n",
        "Can we use machine learning to improve our fitting techniques?  \n",
        "\n",
        "## Plan  \n",
        "Use machine learning regression techniques to fit model functions to CMS tracker data for a muon. This is based on the Muon Tracks activity with machine learning application.\n",
        "\n",
        "## Data  \n",
        "For muon track 1, pt = 25 GeV, particle is a muon with q= -1. muon_track_1.csv has 3 rows of header info to ignore for analysis as a pandas dataframe. Data include x,y coordinates of the muon's trajectory but not z. The tracker has a spatial resolution on the order of 0.5 cm due to physical size of the hardware elements.  "
      ]
    },
    {
      "cell_type": "code",
      "execution_count": null,
      "id": "edd9c8e8",
      "metadata": {
        "id": "edd9c8e8"
      },
      "outputs": [],
      "source": [
        "import pandas as pd\n",
        "import numpy as np\n",
        "import matplotlib.pyplot as plt\n",
        "import sklearn\n",
        "from sklearn import linear_model\n",
        "from scipy.optimize import curve_fit"
      ]
    },
    {
      "cell_type": "code",
      "execution_count": null,
      "id": "d6580100",
      "metadata": {
        "id": "d6580100"
      },
      "outputs": [],
      "source": [
        "track = pd.read_csv('https://github.com/QuarkNet-HEP/coding-camp/raw/main/data/muon_track_1.csv', skiprows=2)"
      ]
    },
    {
      "cell_type": "code",
      "execution_count": null,
      "id": "be7ed0b7",
      "metadata": {
        "id": "be7ed0b7",
        "outputId": "d6ba070a-9da7-427e-bf9d-f9da35dc2223"
      },
      "outputs": [
        {
          "data": {
            "text/html": [
              "<div>\n",
              "<style scoped>\n",
              "    .dataframe tbody tr th:only-of-type {\n",
              "        vertical-align: middle;\n",
              "    }\n",
              "\n",
              "    .dataframe tbody tr th {\n",
              "        vertical-align: top;\n",
              "    }\n",
              "\n",
              "    .dataframe thead th {\n",
              "        text-align: right;\n",
              "    }\n",
              "</style>\n",
              "<table border=\"1\" class=\"dataframe\">\n",
              "  <thead>\n",
              "    <tr style=\"text-align: right;\">\n",
              "      <th></th>\n",
              "      <th>x</th>\n",
              "      <th>y</th>\n",
              "    </tr>\n",
              "  </thead>\n",
              "  <tbody>\n",
              "    <tr>\n",
              "      <th>0</th>\n",
              "      <td>0.038726</td>\n",
              "      <td>-0.015958</td>\n",
              "    </tr>\n",
              "    <tr>\n",
              "      <th>1</th>\n",
              "      <td>0.131212</td>\n",
              "      <td>-0.055478</td>\n",
              "    </tr>\n",
              "    <tr>\n",
              "      <th>2</th>\n",
              "      <td>0.223866</td>\n",
              "      <td>-0.094564</td>\n",
              "    </tr>\n",
              "    <tr>\n",
              "      <th>3</th>\n",
              "      <td>0.316684</td>\n",
              "      <td>-0.133215</td>\n",
              "    </tr>\n",
              "    <tr>\n",
              "      <th>4</th>\n",
              "      <td>0.409664</td>\n",
              "      <td>-0.171429</td>\n",
              "    </tr>\n",
              "  </tbody>\n",
              "</table>\n",
              "</div>"
            ],
            "text/plain": [
              "          x         y\n",
              "0  0.038726 -0.015958\n",
              "1  0.131212 -0.055478\n",
              "2  0.223866 -0.094564\n",
              "3  0.316684 -0.133215\n",
              "4  0.409664 -0.171429"
            ]
          },
          "execution_count": 3,
          "metadata": {},
          "output_type": "execute_result"
        }
      ],
      "source": [
        "# what does this data set look like?\n",
        "track.head()"
      ]
    },
    {
      "cell_type": "code",
      "execution_count": null,
      "id": "0ebe658f",
      "metadata": {
        "id": "0ebe658f",
        "outputId": "05576faa-9fa5-418f-cd6a-1056faa64020"
      },
      "outputs": [
        {
          "data": {
            "text/plain": [
              "(21, 2)"
            ]
          },
          "execution_count": 4,
          "metadata": {},
          "output_type": "execute_result"
        }
      ],
      "source": [
        "track.shape"
      ]
    },
    {
      "cell_type": "code",
      "execution_count": null,
      "id": "b0fb0a1e",
      "metadata": {
        "id": "b0fb0a1e",
        "outputId": "e1293776-c867-4625-efd3-729f4b6b1baf"
      },
      "outputs": [
        {
          "data": {
            "text/html": [
              "<div>\n",
              "<style scoped>\n",
              "    .dataframe tbody tr th:only-of-type {\n",
              "        vertical-align: middle;\n",
              "    }\n",
              "\n",
              "    .dataframe tbody tr th {\n",
              "        vertical-align: top;\n",
              "    }\n",
              "\n",
              "    .dataframe thead th {\n",
              "        text-align: right;\n",
              "    }\n",
              "</style>\n",
              "<table border=\"1\" class=\"dataframe\">\n",
              "  <thead>\n",
              "    <tr style=\"text-align: right;\">\n",
              "      <th></th>\n",
              "      <th>x</th>\n",
              "      <th>y</th>\n",
              "    </tr>\n",
              "  </thead>\n",
              "  <tbody>\n",
              "    <tr>\n",
              "      <th>count</th>\n",
              "      <td>21.000000</td>\n",
              "      <td>21.000000</td>\n",
              "    </tr>\n",
              "    <tr>\n",
              "      <th>mean</th>\n",
              "      <td>0.973279</td>\n",
              "      <td>-0.387557</td>\n",
              "    </tr>\n",
              "    <tr>\n",
              "      <th>std</th>\n",
              "      <td>0.582515</td>\n",
              "      <td>0.225065</td>\n",
              "    </tr>\n",
              "    <tr>\n",
              "      <th>min</th>\n",
              "      <td>0.038726</td>\n",
              "      <td>-0.747668</td>\n",
              "    </tr>\n",
              "    <tr>\n",
              "      <th>25%</th>\n",
              "      <td>0.502801</td>\n",
              "      <td>-0.567797</td>\n",
              "    </tr>\n",
              "    <tr>\n",
              "      <th>50%</th>\n",
              "      <td>0.970898</td>\n",
              "      <td>-0.391337</td>\n",
              "    </tr>\n",
              "    <tr>\n",
              "      <th>75%</th>\n",
              "      <td>1.442890</td>\n",
              "      <td>-0.209208</td>\n",
              "    </tr>\n",
              "    <tr>\n",
              "      <th>max</th>\n",
              "      <td>1.914220</td>\n",
              "      <td>-0.015958</td>\n",
              "    </tr>\n",
              "  </tbody>\n",
              "</table>\n",
              "</div>"
            ],
            "text/plain": [
              "               x          y\n",
              "count  21.000000  21.000000\n",
              "mean    0.973279  -0.387557\n",
              "std     0.582515   0.225065\n",
              "min     0.038726  -0.747668\n",
              "25%     0.502801  -0.567797\n",
              "50%     0.970898  -0.391337\n",
              "75%     1.442890  -0.209208\n",
              "max     1.914220  -0.015958"
            ]
          },
          "execution_count": 5,
          "metadata": {},
          "output_type": "execute_result"
        }
      ],
      "source": [
        "track.describe()"
      ]
    },
    {
      "cell_type": "code",
      "execution_count": null,
      "id": "5a2bd5c2",
      "metadata": {
        "id": "5a2bd5c2",
        "outputId": "aef9a21b-9db0-4b50-8013-fa8b5c173273"
      },
      "outputs": [
        {
          "data": {
            "text/html": [
              "<div>\n",
              "<style scoped>\n",
              "    .dataframe tbody tr th:only-of-type {\n",
              "        vertical-align: middle;\n",
              "    }\n",
              "\n",
              "    .dataframe tbody tr th {\n",
              "        vertical-align: top;\n",
              "    }\n",
              "\n",
              "    .dataframe thead th {\n",
              "        text-align: right;\n",
              "    }\n",
              "</style>\n",
              "<table border=\"1\" class=\"dataframe\">\n",
              "  <thead>\n",
              "    <tr style=\"text-align: right;\">\n",
              "      <th></th>\n",
              "      <th>x</th>\n",
              "      <th>y</th>\n",
              "    </tr>\n",
              "  </thead>\n",
              "  <tbody>\n",
              "    <tr>\n",
              "      <th>0</th>\n",
              "      <td>0.038726</td>\n",
              "      <td>-0.015958</td>\n",
              "    </tr>\n",
              "    <tr>\n",
              "      <th>1</th>\n",
              "      <td>0.131212</td>\n",
              "      <td>-0.055478</td>\n",
              "    </tr>\n",
              "    <tr>\n",
              "      <th>2</th>\n",
              "      <td>0.223866</td>\n",
              "      <td>-0.094564</td>\n",
              "    </tr>\n",
              "    <tr>\n",
              "      <th>3</th>\n",
              "      <td>0.316684</td>\n",
              "      <td>-0.133215</td>\n",
              "    </tr>\n",
              "    <tr>\n",
              "      <th>4</th>\n",
              "      <td>0.409664</td>\n",
              "      <td>-0.171429</td>\n",
              "    </tr>\n",
              "    <tr>\n",
              "      <th>5</th>\n",
              "      <td>0.502801</td>\n",
              "      <td>-0.209208</td>\n",
              "    </tr>\n",
              "    <tr>\n",
              "      <th>6</th>\n",
              "      <td>0.596094</td>\n",
              "      <td>-0.246548</td>\n",
              "    </tr>\n",
              "    <tr>\n",
              "      <th>7</th>\n",
              "      <td>0.689542</td>\n",
              "      <td>-0.283446</td>\n",
              "    </tr>\n",
              "    <tr>\n",
              "      <th>8</th>\n",
              "      <td>0.783149</td>\n",
              "      <td>-0.319893</td>\n",
              "    </tr>\n",
              "    <tr>\n",
              "      <th>9</th>\n",
              "      <td>0.876926</td>\n",
              "      <td>-0.355869</td>\n",
              "    </tr>\n",
              "    <tr>\n",
              "      <th>10</th>\n",
              "      <td>0.970898</td>\n",
              "      <td>-0.391337</td>\n",
              "    </tr>\n",
              "    <tr>\n",
              "      <th>11</th>\n",
              "      <td>1.065100</td>\n",
              "      <td>-0.426536</td>\n",
              "    </tr>\n",
              "    <tr>\n",
              "      <th>12</th>\n",
              "      <td>1.159480</td>\n",
              "      <td>-0.461737</td>\n",
              "    </tr>\n",
              "    <tr>\n",
              "      <th>13</th>\n",
              "      <td>1.253930</td>\n",
              "      <td>-0.497024</td>\n",
              "    </tr>\n",
              "    <tr>\n",
              "      <th>14</th>\n",
              "      <td>1.348410</td>\n",
              "      <td>-0.532366</td>\n",
              "    </tr>\n",
              "    <tr>\n",
              "      <th>15</th>\n",
              "      <td>1.442890</td>\n",
              "      <td>-0.567797</td>\n",
              "    </tr>\n",
              "    <tr>\n",
              "      <th>16</th>\n",
              "      <td>1.537340</td>\n",
              "      <td>-0.603340</td>\n",
              "    </tr>\n",
              "    <tr>\n",
              "      <th>17</th>\n",
              "      <td>1.631760</td>\n",
              "      <td>-0.638966</td>\n",
              "    </tr>\n",
              "    <tr>\n",
              "      <th>18</th>\n",
              "      <td>1.725990</td>\n",
              "      <td>-0.675062</td>\n",
              "    </tr>\n",
              "    <tr>\n",
              "      <th>19</th>\n",
              "      <td>1.820170</td>\n",
              "      <td>-0.711249</td>\n",
              "    </tr>\n",
              "    <tr>\n",
              "      <th>20</th>\n",
              "      <td>1.914220</td>\n",
              "      <td>-0.747668</td>\n",
              "    </tr>\n",
              "  </tbody>\n",
              "</table>\n",
              "</div>"
            ],
            "text/plain": [
              "           x         y\n",
              "0   0.038726 -0.015958\n",
              "1   0.131212 -0.055478\n",
              "2   0.223866 -0.094564\n",
              "3   0.316684 -0.133215\n",
              "4   0.409664 -0.171429\n",
              "5   0.502801 -0.209208\n",
              "6   0.596094 -0.246548\n",
              "7   0.689542 -0.283446\n",
              "8   0.783149 -0.319893\n",
              "9   0.876926 -0.355869\n",
              "10  0.970898 -0.391337\n",
              "11  1.065100 -0.426536\n",
              "12  1.159480 -0.461737\n",
              "13  1.253930 -0.497024\n",
              "14  1.348410 -0.532366\n",
              "15  1.442890 -0.567797\n",
              "16  1.537340 -0.603340\n",
              "17  1.631760 -0.638966\n",
              "18  1.725990 -0.675062\n",
              "19  1.820170 -0.711249\n",
              "20  1.914220 -0.747668"
            ]
          },
          "execution_count": 6,
          "metadata": {},
          "output_type": "execute_result"
        }
      ],
      "source": [
        "track"
      ]
    },
    {
      "cell_type": "markdown",
      "id": "9129769f",
      "metadata": {
        "id": "9129769f"
      },
      "source": [
        "## Analysis  "
      ]
    },
    {
      "cell_type": "markdown",
      "id": "5e737b87",
      "metadata": {
        "id": "5e737b87"
      },
      "source": [
        "### Linear Regression\n",
        "\n",
        "We will first use the function [LinearRegression](https://scikit-learn.org/stable/modules/generated/sklearn.linear_model.LinearRegression.html) from the Scikit-Learn library to train a linear regression model. Training a model means setting its parameters so that the model best fits the training dataset using a performace measure. This is done by finding parameters in the model that minimize the Root Mean Square Error or the Mean Square Error by minimizing the *cost* function. The LinearRegression class is based on [scipy.linalg.lstsq()](https://docs.scipy.org/doc/scipy/reference/generated/scipy.linalg.lstsq.html) function which calculates the least squares solution to an equation."
      ]
    },
    {
      "cell_type": "code",
      "execution_count": null,
      "id": "6839bef3",
      "metadata": {
        "id": "6839bef3"
      },
      "outputs": [],
      "source": [
        "# Fit a linear model to a set of muon tracks in CMS using linear regression\n",
        "from sklearn.linear_model import LinearRegression\n",
        "\n",
        "# The array must be 2D so we will reshape the data before fitting\n",
        "X = track['x'].values.reshape(-1, 1)\n",
        "Y = track['y'].values.reshape(-1, 1)"
      ]
    },
    {
      "cell_type": "code",
      "execution_count": null,
      "id": "0d108fa1",
      "metadata": {
        "id": "0d108fa1"
      },
      "outputs": [],
      "source": [
        "# Fit a linear model and name it lin_reg\n",
        "\n",
        "linear_reg = LinearRegression().fit(X,Y)"
      ]
    },
    {
      "cell_type": "code",
      "execution_count": null,
      "id": "98337cf6",
      "metadata": {
        "id": "98337cf6",
        "outputId": "1b2a5aff-14c5-4f1e-934b-d27e093d846a"
      },
      "outputs": [
        {
          "data": {
            "text/plain": [
              "array([[-0.3862925]])"
            ]
          },
          "execution_count": 9,
          "metadata": {},
          "output_type": "execute_result"
        }
      ],
      "source": [
        "# Print the model's coefficient and intercept\n",
        "linear_reg.coef_"
      ]
    },
    {
      "cell_type": "code",
      "execution_count": null,
      "id": "a5db9e40",
      "metadata": {
        "id": "a5db9e40",
        "outputId": "763b8cba-0523-402e-807a-06cfbb9139e0"
      },
      "outputs": [
        {
          "data": {
            "text/plain": [
              "array([-0.01158637])"
            ]
          },
          "execution_count": 10,
          "metadata": {},
          "output_type": "execute_result"
        }
      ],
      "source": [
        "linear_reg.intercept_"
      ]
    },
    {
      "cell_type": "code",
      "execution_count": null,
      "id": "9ba355c9",
      "metadata": {
        "id": "9ba355c9",
        "outputId": "74102bfe-9797-48c5-840f-d801d79b3fa1"
      },
      "outputs": [
        {
          "data": {
            "text/plain": [
              "(array([[-0.3862925]]), array([-0.01158637]))"
            ]
          },
          "execution_count": 11,
          "metadata": {},
          "output_type": "execute_result"
        }
      ],
      "source": [
        "lin_reg_params = linear_reg.coef_, linear_reg.intercept_\n",
        "lin_reg_params"
      ]
    },
    {
      "cell_type": "code",
      "execution_count": null,
      "id": "38e03b33",
      "metadata": {
        "id": "38e03b33"
      },
      "outputs": [],
      "source": [
        "# Use the model to make predictions for a new range of x-values called X_new\n",
        "X_new = np.array([.25, .5, .75, 1]).reshape(-1, 1)"
      ]
    },
    {
      "cell_type": "code",
      "execution_count": null,
      "id": "624b1261",
      "metadata": {
        "id": "624b1261",
        "outputId": "5fc530bb-bb31-4962-86c0-5066e946701e"
      },
      "outputs": [
        {
          "data": {
            "text/plain": [
              "array([[-0.10815949],\n",
              "       [-0.20473262],\n",
              "       [-0.30130575],\n",
              "       [-0.39787887]])"
            ]
          },
          "execution_count": 13,
          "metadata": {},
          "output_type": "execute_result"
        }
      ],
      "source": [
        "linear_reg.predict(X_new)"
      ]
    },
    {
      "cell_type": "markdown",
      "id": "34ad913e",
      "metadata": {
        "id": "34ad913e"
      },
      "source": [
        "### Linear Model Fitting using Stochastic Gradient Descent\n",
        "\n",
        "Gradient Descent is a generic optimization algorithm capable of finding optimal solutions to a wide variety of problems by iteratively changing parameters to minimize a cost function. Gradient Descent measures the local gradient of the error function and goes in the direction of descending gradient. The size of the step is the learning rate.\n",
        "\n",
        "We will use SGDRegressor from the sklearn library to implement machine learning techniques to fit the linear model. SGD stands for Stochastic Gradient Descent: picks a random instance in the training set at every step and computes the gradients based only on that single instance. More details about the function can be found [here.](https://scikit-learn.org/stable/modules/generated/sklearn.linear_model.SGDRegressor.html)\n",
        "\n",
        "We will perform Linear Regression using SGD for maximum 1000 epochs (max_iter=1000) or until the loss drops by less than 1e-3 during one epoch (tol=1e-3), starting with a learning rate of 0.3 (eta0=0.3)."
      ]
    },
    {
      "cell_type": "code",
      "execution_count": null,
      "id": "1f4c3e0d",
      "metadata": {
        "id": "1f4c3e0d",
        "outputId": "cfe54fdc-49cc-47cc-fcc7-515abd587753"
      },
      "outputs": [
        {
          "data": {
            "text/plain": [
              "(array([-0.37554815]), array([-0.02628378]))"
            ]
          },
          "execution_count": 14,
          "metadata": {},
          "output_type": "execute_result"
        }
      ],
      "source": [
        "from sklearn.linear_model import SGDRegressor\n",
        "sgd_reg = SGDRegressor(max_iter=1000, tol=1e-3, eta0=0.3, random_state=42)\n",
        "sgd_reg.fit(X,Y.ravel())\n",
        "sgd_params = sgd_reg.coef_, sgd_reg.intercept_\n",
        "sgd_params"
      ]
    },
    {
      "cell_type": "markdown",
      "id": "172995ce",
      "metadata": {
        "id": "172995ce"
      },
      "source": [
        "The function that determines the learning rate at each iteration is called the learning schedule. If the learning rate is reduced too quickly, you may get stuck in a local minimum or even end up frozen before reaching the minimum. If the learning rate is reduced too slowly, you may jump around the minimum for a long time."
      ]
    },
    {
      "cell_type": "code",
      "execution_count": null,
      "id": "6b4c4f5f",
      "metadata": {
        "id": "6b4c4f5f",
        "outputId": "914cacbd-2d7f-40d2-f66e-2aa4db0eaf55"
      },
      "outputs": [
        {
          "data": {
            "text/plain": [
              "(array([-0.32593331]), array([-0.0853715]))"
            ]
          },
          "execution_count": 15,
          "metadata": {},
          "output_type": "execute_result"
        }
      ],
      "source": [
        "# Decrease the learning rate to 0.1\n",
        "sgd_reg = SGDRegressor(max_iter=1000, tol=1e-3, eta0=0.1, random_state=42)\n",
        "sgd_reg.fit(X,Y.ravel())\n",
        "sgd_params = sgd_reg.coef_, sgd_reg.intercept_\n",
        "sgd_params"
      ]
    },
    {
      "cell_type": "code",
      "execution_count": null,
      "id": "1ab1e0f3",
      "metadata": {
        "id": "1ab1e0f3",
        "outputId": "7e66b5df-9361-4c20-f4bd-a77ea1b51651"
      },
      "outputs": [
        {
          "data": {
            "text/plain": [
              "(array([-0.38429892]), array([-0.00855561]))"
            ]
          },
          "execution_count": 16,
          "metadata": {},
          "output_type": "execute_result"
        }
      ],
      "source": [
        "# Increase the learning rate to 1.1\n",
        "sgd_reg = SGDRegressor(max_iter=1000, tol=1e-3, eta0=1.1, random_state=42)\n",
        "sgd_reg.fit(X,Y.ravel())\n",
        "sgd_params = sgd_reg.coef_, sgd_reg.intercept_\n",
        "sgd_params"
      ]
    },
    {
      "cell_type": "markdown",
      "id": "1cfe49af",
      "metadata": {
        "id": "1cfe49af"
      },
      "source": [
        "### Polynomial Regression\n",
        "We know that the path of a muon is not a simple straight line. We can use a linear model to fit nonlinear data by adding features to our variable X in order to use linear regression. We can now fit our data to a parabola by adding a second feature."
      ]
    },
    {
      "cell_type": "code",
      "execution_count": null,
      "id": "6686d866",
      "metadata": {
        "id": "6686d866"
      },
      "outputs": [],
      "source": [
        "from sklearn.preprocessing import PolynomialFeatures\n",
        "from sklearn.preprocessing import StandardScaler\n",
        "from sklearn.pipeline import Pipeline\n",
        "\n",
        "poly_features = PolynomialFeatures(degree=2, include_bias=False)\n",
        "X_poly = poly_features.fit_transform(X)"
      ]
    },
    {
      "cell_type": "code",
      "execution_count": null,
      "id": "b9246f9b",
      "metadata": {
        "id": "b9246f9b"
      },
      "outputs": [],
      "source": [
        "# use the transformed array to make a new linear model and name it poly_reg\n",
        "\n",
        "poly_reg = LinearRegression().fit(X_poly,Y)"
      ]
    },
    {
      "cell_type": "code",
      "execution_count": null,
      "id": "bd5df953",
      "metadata": {
        "id": "bd5df953",
        "outputId": "aa1d8c5d-af8f-4052-9337-3e65ae80a5cf"
      },
      "outputs": [
        {
          "data": {
            "text/plain": [
              "array([-0.00323752])"
            ]
          },
          "execution_count": 19,
          "metadata": {},
          "output_type": "execute_result"
        }
      ],
      "source": [
        "poly_reg_params = poly_reg.coef_, poly_reg.intercept_\n",
        "\n",
        "# what quantity does this print?\n",
        "poly_reg_params[1]"
      ]
    },
    {
      "cell_type": "code",
      "execution_count": null,
      "id": "647312df",
      "metadata": {
        "id": "647312df",
        "outputId": "46d96790-e979-408e-f83a-a3fe14dfaef7"
      },
      "outputs": [
        {
          "data": {
            "image/png": "[encoded data removed]",
            "text/plain": [
              "<Figure size 432x288 with 1 Axes>"
            ]
          },
          "metadata": {
            "needs_background": "light"
          },
          "output_type": "display_data"
        }
      ],
      "source": [
        "# plot the original data and the optimized models (i.e., trendlines)\n",
        "\n",
        "def plot_linear_model(x, m, b):   # x and y are track coordinates, m & b are coefficients\n",
        "    y = m * x + b\n",
        "    return(y)\n",
        "\n",
        "plt.scatter(track['x'], track['y'], label=\"data\", color='k')\n",
        "plt.plot(track['x'], plot_linear_model(track['x'], lin_reg_params[0][0][0], lin_reg_params[1][0]), label=\"linear regression\",color='red')\n",
        "plt.plot(track['x'], plot_linear_model(track['x'], sgd_params[0], sgd_params[1]), label=\"SGD\",color='blue')\n",
        "plt.plot(track['x'], (poly_reg_params[0][0][1]*np.square(track['x']) + poly_reg_params[0][0][0]*track['x'] + poly_reg_params[1]), label=\"polynomial regg model\",color='black')\n",
        "\n",
        "\n",
        "plt.legend()\n",
        "plt.show()"
      ]
    },
    {
      "cell_type": "code",
      "execution_count": null,
      "id": "fb200780",
      "metadata": {
        "id": "fb200780",
        "outputId": "485ebd17-8465-4be1-a429-8f26fed06945"
      },
      "outputs": [
        {
          "data": {
            "image/png": "[encoded data removed]",
            "text/plain": [
              "<Figure size 432x288 with 1 Axes>"
            ]
          },
          "metadata": {
            "needs_background": "light"
          },
          "output_type": "display_data"
        }
      ],
      "source": [
        "# compare the models using a residual plot\n",
        "\n",
        "plt.plot(track['x'], track['y'] - plot_linear_model(track['x'], lin_reg_params[0][0][0], lin_reg_params[1][0]), label=\"linear regression\",color='red')\n",
        "plt.plot(track['x'], track['y'] - plot_linear_model(track['x'], sgd_params[0], sgd_params[1]), label=\"SGD\",color='blue')\n",
        "plt.plot(track['x'], track['y'] - (poly_reg_params[0][0][1]*np.square(track['x']) + poly_reg_params[0][0][0]*track['x'] + poly_reg_params[1]), label=\"polynomial reg model\",color='black')\n",
        "\n",
        "plt.legend()\n",
        "plt.show()"
      ]
    },
    {
      "cell_type": "code",
      "execution_count": null,
      "id": "5df53d2a",
      "metadata": {
        "id": "5df53d2a"
      },
      "outputs": [],
      "source": [
        "# compare the models using chi-sq or residual sum of squares (RSS)\n",
        "\n",
        "track['res_linreg'] = track['y'] - plot_linear_model(track['x'], lin_reg_params[0][0][0], lin_reg_params[1][0])\n",
        "rss_linreg = (track['res_linreg']**2).sum()\n",
        "\n",
        "track['res_sgd'] = track['y'] - plot_linear_model(track['x'], sgd_params[0], sgd_params[1])\n",
        "rss_sgd = (track['res_sgd']**2).sum()\n",
        "\n",
        "track['res_poly'] = track['y'] - (poly_reg_params[0][0][1]*np.square(track['x']) + poly_reg_params[0][0][0]*track['x'] + poly_reg_params[1])\n",
        "rss_poly = (track['res_poly']**2).sum()"
      ]
    },
    {
      "cell_type": "code",
      "execution_count": null,
      "id": "91b55788",
      "metadata": {
        "id": "91b55788",
        "outputId": "dc32207e-087e-4f27-c410-7e85bc8fa22d"
      },
      "outputs": [
        {
          "data": {
            "text/plain": [
              "array([3.9e-04, 9.4e-04, 8.0e-05])"
            ]
          },
          "execution_count": 23,
          "metadata": {},
          "output_type": "execute_result"
        }
      ],
      "source": [
        "# looks like the polynomial regression is the better fit\n",
        "np.round([rss_linreg, rss_sgd, rss_poly],5)"
      ]
    },
    {
      "cell_type": "markdown",
      "id": "7a17b1a5",
      "metadata": {
        "id": "7a17b1a5"
      },
      "source": [
        "### Regularized Models\n",
        "\n",
        "So far we have trained models setting its parameters so that the model best fits the training set. If you perform a high-degree polynomial regression, you will fit the training data much better than the Linear Regression. Fitting a 300-degree polynomial data may **overfit** the data by curving through each individual point while **underfitting** can happen when the using a function with too few degrees (like using a line to fit curved data).\n",
        "\n",
        "You can constrain the number of degrees a model uses for the fit by adjusting the hyperparameter *alpha*. ]A smaller value for alpha provides less constraint and the model will have a greater number of degrees (i.e., more curvy). A larger value of alpha makes a more-constrained model with of fewer degrees (i.e., more linear).\n",
        "\n",
        "[Skikit Learn's ridge regression](https://scikit-learn.org/stable/modules/generated/sklearn.linear_model.Ridge.html) solves a regression model where the loss function is the linear least squares function. It is a regularized version of Linear Regression and adds a regularization term to the cost function. This forces the learning algorithm to keep the weights as small as possible during training. The hyperparameter (alpha) controls how much you want to regulatize the model.\n",
        "\n",
        "Start by fitting the data to a ridge linear model and Sochastic Average Gradient descent (solver=\"sag\") with an alpha of 0.01."
      ]
    },
    {
      "cell_type": "code",
      "execution_count": null,
      "id": "bee7ce99",
      "metadata": {
        "id": "bee7ce99",
        "outputId": "6c13ce16-1978-4de4-85cf-455018e69d9b"
      },
      "outputs": [
        {
          "data": {
            "text/plain": [
              "Ridge(alpha=0.01, solver='sag')"
            ]
          },
          "execution_count": 24,
          "metadata": {},
          "output_type": "execute_result"
        }
      ],
      "source": [
        "from sklearn.linear_model import Ridge\n",
        "ridge_reg_sag = Ridge(alpha=0.01, solver=\"sag\")\n",
        "ridge_reg_sag.fit(X,Y)"
      ]
    },
    {
      "cell_type": "code",
      "execution_count": null,
      "id": "c397ae5b",
      "metadata": {
        "id": "c397ae5b",
        "outputId": "9ee8754f-1a89-4812-fb17-787aa48ea9ed"
      },
      "outputs": [
        {
          "data": {
            "text/plain": [
              "(array([[-0.38612979]]), array([-0.01174473]))"
            ]
          },
          "execution_count": 25,
          "metadata": {},
          "output_type": "execute_result"
        }
      ],
      "source": [
        "# How does increasing or decreasing alpha affect the fit?\n",
        "ridge_reg_params = ridge_reg_sag.coef_, ridge_reg_sag.intercept_\n",
        "ridge_reg_params"
      ]
    },
    {
      "cell_type": "code",
      "execution_count": null,
      "id": "5ed18d7a",
      "metadata": {
        "id": "5ed18d7a",
        "outputId": "e6119202-484d-45e9-c5aa-b1f1e4b5917d"
      },
      "outputs": [
        {
          "data": {
            "text/plain": [
              "(array([[-0.38099564]]), array([-0.01674169]))"
            ]
          },
          "execution_count": 26,
          "metadata": {},
          "output_type": "execute_result"
        }
      ],
      "source": [
        "# with alpha increased to 0.1\n",
        "ridge_reg_sag = Ridge(alpha=0.1, solver=\"sag\")\n",
        "ridge_reg_sag.fit(X,Y)\n",
        "ridge_reg_params = ridge_reg_sag.coef_, ridge_reg_sag.intercept_\n",
        "ridge_reg_params"
      ]
    },
    {
      "cell_type": "code",
      "execution_count": null,
      "id": "ca82d522",
      "metadata": {
        "id": "ca82d522",
        "outputId": "446ca72a-ce1d-422e-f701-625a91898974"
      },
      "outputs": [
        {
          "data": {
            "text/plain": [
              "(array([[-0.33674837]]), array([-0.05980661]))"
            ]
          },
          "execution_count": 27,
          "metadata": {},
          "output_type": "execute_result"
        }
      ],
      "source": [
        "# with alpha increased to 1\n",
        "ridge_reg_sag = Ridge(alpha=1, solver=\"sag\")\n",
        "ridge_reg_sag.fit(X,Y)\n",
        "ridge_reg_params = ridge_reg_sag.coef_, ridge_reg_sag.intercept_\n",
        "ridge_reg_params"
      ]
    },
    {
      "cell_type": "code",
      "execution_count": null,
      "id": "5def0744",
      "metadata": {
        "id": "5def0744",
        "outputId": "14ade8b0-9219-4e4a-83a7-cde066eda468"
      },
      "outputs": [
        {
          "data": {
            "text/plain": [
              "(array([[-0.38720109]]), array([-0.01070206]))"
            ]
          },
          "execution_count": 28,
          "metadata": {},
          "output_type": "execute_result"
        }
      ],
      "source": [
        "# with alpha decreased to 0.001\n",
        "ridge_reg_sag = Ridge(alpha=0.001, solver=\"sag\")\n",
        "ridge_reg_sag.fit(X,Y)\n",
        "ridge_reg_params = ridge_reg_sag.coef_, ridge_reg_sag.intercept_\n",
        "ridge_reg_params"
      ]
    },
    {
      "cell_type": "code",
      "execution_count": null,
      "id": "694fd6e1",
      "metadata": {
        "id": "694fd6e1",
        "outputId": "f3eed4fb-b3c4-4777-f6b0-7e371e08bb86"
      },
      "outputs": [
        {
          "data": {
            "text/plain": [
              "array([[-0.10750233],\n",
              "       [-0.20430261],\n",
              "       [-0.30110288],\n",
              "       [-0.39790315]])"
            ]
          },
          "execution_count": 29,
          "metadata": {},
          "output_type": "execute_result"
        }
      ],
      "source": [
        "# Compare the Ridge Model prediction to your earlier lin_reg prediction\n",
        "\n",
        "ridge_reg_sag.predict(X_new)"
      ]
    },
    {
      "cell_type": "code",
      "execution_count": null,
      "id": "de712b39",
      "metadata": {
        "id": "de712b39",
        "outputId": "80eb1a0b-7382-4fe3-99e6-301d4253c666"
      },
      "outputs": [
        {
          "data": {
            "text/plain": [
              "array([[-0.10815949],\n",
              "       [-0.20473262],\n",
              "       [-0.30130575],\n",
              "       [-0.39787887]])"
            ]
          },
          "execution_count": 30,
          "metadata": {},
          "output_type": "execute_result"
        }
      ],
      "source": [
        "# pretty similar to the linear model's predictions\n",
        "linear_reg.predict(X_new)"
      ]
    },
    {
      "cell_type": "markdown",
      "id": "f82e248e",
      "metadata": {
        "id": "f82e248e"
      },
      "source": [
        "[Least Absolute Shrinkage and Selection Operator (Lasso) Regression](https://scikit-learn.org/stable/modules/generated/sklearn.linear_model.Lasso.html) is another regularized version of Linear Regression. If you want the heavier math behind the difference between Ridge and Lasso, see this article on [L1 and L2 Regularization Methods](https://towardsdatascience.com/l1-and-l2-regularization-methods-ce25e7fc831c)."
      ]
    },
    {
      "cell_type": "code",
      "execution_count": null,
      "id": "80460293",
      "metadata": {
        "id": "80460293",
        "outputId": "e3a482d0-6ec3-4d82-887c-2187d84dae8c"
      },
      "outputs": [
        {
          "data": {
            "text/plain": [
              "array([-0.13054053, -0.21937769, -0.30821485, -0.39705201])"
            ]
          },
          "execution_count": 31,
          "metadata": {},
          "output_type": "execute_result"
        }
      ],
      "source": [
        "# Compare the Lasso regression prediction to your earlier predictions.\n",
        "\n",
        "lasso_reg = linear_model.Lasso(alpha=0.01)\n",
        "lasso_reg.fit(X,Y)\n",
        "lasso_reg.predict(X_new)        # pretty similar to the previous models' predictions"
      ]
    },
    {
      "cell_type": "code",
      "execution_count": null,
      "id": "7044fbb2",
      "metadata": {
        "id": "7044fbb2",
        "outputId": "592eb3bf-8541-4c36-b907-cb908c75a43a"
      },
      "outputs": [
        {
          "data": {
            "text/plain": [
              "array([-0.38755662, -0.38755662, -0.38755662, -0.38755662])"
            ]
          },
          "execution_count": 32,
          "metadata": {},
          "output_type": "execute_result"
        }
      ],
      "source": [
        "# What might indicate the alpha = 1 is too constrained of a model?\n",
        "\n",
        "lasso_reg = linear_model.Lasso(alpha=1)\n",
        "lasso_reg.fit(X,Y)\n",
        "lasso_reg.predict(X_new)        # that's a flat line ... an underfit model"
      ]
    },
    {
      "cell_type": "code",
      "execution_count": null,
      "id": "955b6fea",
      "metadata": {
        "id": "955b6fea",
        "outputId": "4a606764-337e-4d13-f999-026c09c27330"
      },
      "outputs": [
        {
          "data": {
            "image/png": "[encoded data removed]",
            "text/plain": [
              "<Figure size 432x288 with 1 Axes>"
            ]
          },
          "metadata": {
            "needs_background": "light"
          },
          "output_type": "display_data"
        }
      ],
      "source": [
        "lasso_reg_params = lasso_reg.coef_, lasso_reg.intercept_\n",
        "\n",
        "plt.scatter(track['x'], track['y'], label=\"data\", color='k')\n",
        "plt.plot(track['x'], plot_linear_model(track['x'], lin_reg_params[0][0][0], lin_reg_params[1][0]), label=\"linear regression\",color='red')\n",
        "plt.plot(track['x'], plot_linear_model(track['x'], sgd_params[0], sgd_params[1]), label=\"SGD\",color='blue')\n",
        "plt.plot(track['x'], (poly_reg_params[0][0][1]*np.square(track['x']) + poly_reg_params[0][0][0]*track['x'] + poly_reg_params[1]), label=\"polynomial regg model\",color='black')\n",
        "plt.plot(track['x'], plot_linear_model(track['x'], lasso_reg_params[0], lasso_reg_params[1]), label=\"Underfit Lasso\",color='purple')\n",
        "\n",
        "plt.legend()\n",
        "plt.show()"
      ]
    },
    {
      "cell_type": "markdown",
      "id": "5465a4b8",
      "metadata": {
        "id": "5465a4b8"
      },
      "source": [
        "## Conclusion  \n"
      ]
    },
    {
      "cell_type": "markdown",
      "id": "ae8b9fa1",
      "metadata": {
        "id": "ae8b9fa1"
      },
      "source": [
        "*How can you summarize the results of the different analysis methods?*"
      ]
    },
    {
      "cell_type": "markdown",
      "id": "e54daa8d",
      "metadata": {
        "id": "e54daa8d"
      },
      "source": [
        "---  \n",
        "## Saving Your Work  \n",
        "This is running on a Google server on a distant planet and deletes what you've done when you close this tab. To save your work for later use or analysis you have a few options:  \n",
        "- File > \"Save a copy in Drive\" will save it to you Google Drive in a folder called \"Colaboratory\". You can run it later from there.  \n",
        "- File > \"Download .ipynb\" to save to your computer (and run with Jupyter software later)  \n",
        "- File > Print to ... um ... print.  \n",
        "- To save an image of a graph or chart, right-click on it and select Save Image as ...  \n",
        "\n",
        "## Credits\n",
        "This notebook was designed by Brown University PhD student Farrah Medi Simpson and [Quarknet](https://quarknet.org/) Teaching and Learning Fellow [Adam LaMee](https://adamlamee.github.io/). The handy csv files were created from the CMS Run2011A primary datasets and converted from ROOT format by the masterful [Tom McCauley](https://github.com/tpmccauley). More can be found on the [CERN OpenData](http://opendata.cern.ch/?ln=en) site. Finally, thanks to the great folks at [Binder](https://mybinder.org/) and [Google Colaboratory](https://colab.research.google.com/notebooks/intro.ipynb) for making this notebook interactive without you needing to download it or install [Jupyter](https://jupyter.org/) on your own device.  "
      ]
    },
    {
      "cell_type": "markdown",
      "source": [
        "# Acknowledgements & Licenses\n",
        "\n",
        "The development and implementation of these materials and workshop were additionally funded by generous support from IRIS-HEP, the [Institute for Research and Innovation in Software for High Energy Physics](https://iris-hep.org/).\n",
        "\n",
        "This work is licensed under a\n",
        "[Creative Commons Attribution-NonCommercial-ShareAlike 4.0 International License][cc-by-nc-sa].\n",
        "\n",
        "[![CC BY-NC-SA 4.0][cc-by-nc-sa-image]][cc-by-nc-sa]\n",
        "\n",
        "[cc-by-nc-sa]: http://creativecommons.org/licenses/by-nc-sa/4.0/\n",
        "[cc-by-nc-sa-image]: https://licensebuttons.net/l/by-nc-sa/4.0/88x31.png\n",
        "[cc-by-nc-sa-shield]: https://img.shields.io/badge/License-CC%20BY--NC--SA%204.0-lightgrey.svg"
      ],
      "metadata": {
        "id": "C_tNV4xyZIB1"
      },
      "id": "C_tNV4xyZIB1"
    }
  ],
  "metadata": {
    "kernelspec": {
      "display_name": "Python 3 (ipykernel)",
      "language": "python",
      "name": "python3"
    },
    "language_info": {
      "codemirror_mode": {
        "name": "ipython",
        "version": 3
      },
      "file_extension": ".py",
      "mimetype": "text/x-python",
      "name": "python",
      "nbconvert_exporter": "python",
      "pygments_lexer": "ipython3",
      "version": "3.9.7"
    },
    "colab": {
      "provenance": [],
      "include_colab_link": true
    }
  },
  "nbformat": 4,
  "nbformat_minor": 5
}