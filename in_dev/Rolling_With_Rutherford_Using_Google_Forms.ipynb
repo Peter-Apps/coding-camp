{
  "nbformat": 4,
  "nbformat_minor": 0,
  "metadata": {
    "colab": {
      "name": "RwR w/ Google Form 2022-7-14",
      "private_outputs": true,
      "provenance": [],
      "authorship_tag": "ABX9TyNSeIB89HNTUBe02YD0G7Z/",
      "include_colab_link": true
    },
    "kernelspec": {
      "name": "python3",
      "display_name": "Python 3"
    },
    "language_info": {
      "name": "python"
    }
  },
  "cells": [
    {
      "cell_type": "markdown",
      "metadata": {
        "id": "view-in-github",
        "colab_type": "text"
      },
      "source": [
        "<a href=\"https://colab.research.google.com/github/Peter-Apps/coding-camp/blob/main/in_dev/Rolling_With_Rutherford_Using_Google_Forms.ipynb\" target=\"_parent\"><img src=\"https://colab.research.google.com/assets/colab-badge.svg\" alt=\"Open In Colab\"/></a>"
      ]
    },
    {
      "cell_type": "markdown",
      "metadata": {
        "id": "8ImqtsdAg9Sw"
      },
      "source": [
        "#Rolling with Rutherford - Digital Edition\n"
      ]
    },
    {
      "cell_type": "markdown",
      "metadata": {
        "id": "VN1e9yGOmY7p"
      },
      "source": [
        "### Setup"
      ]
    },
    {
      "cell_type": "code",
      "metadata": {
        "id": "OFC7LTQwXpQK"
      },
      "source": [
        "# Importing useful libraries to create the histogram\n",
        "import numpy as np\n",
        "import pandas as pd\n",
        "from matplotlib import pyplot as plt"
      ],
      "execution_count": null,
      "outputs": []
    },
    {
      "cell_type": "code",
      "metadata": {
        "id": "RG5F5fdBhSo4"
      },
      "source": [
        "# Size of marble (used to grab the correct global data set)\n",
        "# Choices are Standard and Shooter, See the teacher guide for metric measurements\n",
        "size_of_marble = \"Standard\"\n",
        "\n",
        "# The width of your rolling area (cm)\n",
        "width = 22\n",
        "\n",
        "# The number of targets used\n",
        "num_targets = 4"
      ],
      "execution_count": null,
      "outputs": []
    },
    {
      "cell_type": "markdown",
      "metadata": {
        "id": "Hag1AGasYRCW"
      },
      "source": [
        "\n",
        "### Entering your locally measured data\n"
      ]
    },
    {
      "cell_type": "code",
      "metadata": {
        "id": "2wEALO3TYbhP"
      },
      "source": [
        "# Have each group please enter the number of hits they obtained in 10 rolls.\n",
        "# Separate each group's data with a comma\n",
        "\n",
        "hits = [5,10,2,3,4,6,7,10,2,5,6,7,2] #<-- Sample Data (please replace with your own)"
      ],
      "execution_count": null,
      "outputs": []
    },
    {
      "cell_type": "code",
      "metadata": {
        "id": "fdVwjWkxZCGI"
      },
      "source": [
        "# Creating a histogram of your local data\n",
        "num_trials = len(hits)\n",
        "num_rolls = 10 * num_trials\n",
        "\n",
        "local_plot = plt.hist(hits, range(num_trials), align='left')\n",
        "plt.xticks(range(num_trials - 1))\n",
        "plt.ylabel(\"Count\")\n",
        "plt.xlabel(\"Number of Hits\")\n",
        "plt.show()"
      ],
      "execution_count": null,
      "outputs": []
    },
    {
      "cell_type": "markdown",
      "metadata": {
        "id": "tmyukO7RuuIr"
      },
      "source": [
        "### Calculating the indirect diameter of the marble\n"
      ]
    },
    {
      "cell_type": "markdown",
      "metadata": {
        "id": "tM3rPAsEu7rb"
      },
      "source": [
        "The probability of a hit ($P$) is determined by the number of targets ($N$), the width of the rolling area ($W$), the diameter of the target ($D$). In our experiment $P = \\frac{n}{10}$ where $n$ is the number of hits.\n",
        "\n",
        "$P = \\frac{N(2D)}{W - D} \\rightarrow D = \\frac{Wn}{20N+n}$"
      ]
    },
    {
      "cell_type": "code",
      "metadata": {
        "id": "cMmmPClUu6C0"
      },
      "source": [
        "# Enter the most likely number of hits here:\n",
        "p_hit = 2\n",
        "\n",
        "# The units of width and diameter will be the same\n",
        "calc_diameter = (width * p_hit) / (20 * num_targets + p_hit)\n",
        "print(calc_diameter)"
      ],
      "execution_count": null,
      "outputs": []
    },
    {
      "cell_type": "markdown",
      "metadata": {
        "id": "EGJ1qDwSaARh"
      },
      "source": [
        "### Comparing your local data with a global dataset\n",
        "\n",
        "***Please add your data to the set by using the link [here](https://docs.google.com/forms/d/e/1FAIpQLScCgj1pTB8a8jZcOPvsmY8q6Or8eKT7gR3mMMcB6EAoAXu1NA/viewform)!***"
      ]
    },
    {
      "cell_type": "code",
      "metadata": {
        "id": "zCaTYsCMgufT"
      },
      "source": [
        "# Getting the data from the global spreadsheet\n",
        "global_data = pd.read_csv(\"https://docs.google.com/spreadsheets/d/e/2PACX-1vQMUtwiENj6CjaMlyyf26u86eH3RfWecd2OIbEOCP4MGCSVY64EouiRe1ZVGX-5GrydwPjF_jzx_DXs/pub?output=csv\", usecols = [1,2], names=[\"Type\", \"Num_Hits\"], header = 0, dtype={'Num_Hits':np.int64}).query('Type == @size_of_marble')\n",
        "print(f'This data set has {data.shape[0]} data points')\n",
        "\n",
        "# Create the global histogram\n",
        "global_hits = global_data['Num_Hits']\n",
        "num_global_trials = len(hits)\n",
        "num_global_rolls = 10 * num_trials\n",
        "\n",
        "global_plot = plt.hist(global_hits, range(num_global_trials), align='left')\n",
        "plt.xticks(range(num_global_trials - 1))\n",
        "plt.ylabel(\"Count\")\n",
        "plt.xlabel(\"Number of Hits\")\n",
        "plt.show()"
      ],
      "execution_count": null,
      "outputs": []
    },
    {
      "cell_type": "code",
      "metadata": {
        "id": "zNysVhUbitlN"
      },
      "source": [
        "# Overlay view with local data and global data\n",
        "\n",
        "plt.hist(global_hits, range(num_global_trials), align='left', alpha=0.5, label = \"Global Data\", edgecolor = 'k', color = 'green')\n",
        "plt.hist(hits, range(num_trials), align='left', alpha = 0.5, label = \"Local Data\", edgecolor = 'k', color = 'blue')\n",
        "plt.legend(loc='upper right')\n",
        "plt.show()"
      ],
      "execution_count": null,
      "outputs": []
    },
    {
      "cell_type": "markdown",
      "source": [
        "### Compare the results with a theoretical model"
      ],
      "metadata": {
        "id": "4-KoexNHk09O"
      }
    },
    {
      "cell_type": "code",
      "source": [
        "# Generate Theoretical number of hits\n",
        "from random import uniform\n",
        "\n",
        "# Initial Conditions & Predictions\n",
        "shooting_marble_size = 2.5 # cm\n",
        "num_trials = 100\n",
        "num_targets = 4\n",
        "predicted_size = 2.5\n",
        "\n",
        "# Uncomment the target_centers line that matches your target setup\n",
        "# option 1: | X  X  X  X | (Targets are placed in from the edges of the track)\n",
        "target_centers = np.linspace(0,width, num_targets + 2)[1:-1]\n",
        "\n",
        "# option 2: |X  X  X  X| (Targets are placed right on the edges of the track)\n",
        "#target_centers = np.linspace(0, width, num_targets)\n",
        "\n",
        "# Calculating the \"x\" values occupied by the targets\n",
        "hit_x_values = [(c - predicted_size/2, c + predicted_size/2) for c in target_centers]\n",
        "\n",
        "# Generate random \"x\" values for the rolled marble and determine if it hits a target\n",
        "def roll_marble(num_rolls, width, hit_x_values):\n",
        "  hits = 0\n",
        "  for roll in range(10):\n",
        "    x = uniform(0, width)\n",
        "    for a, b in hit_x_values:\n",
        "      if a <= x <= b:\n",
        "        hits += 1\n",
        "        break\n",
        "  return hits\n",
        "\n",
        "all_trials = [roll_marble(num_rolls, width, hit_x_values) for _ in range(num_trials)]\n",
        "\n",
        "# Plot a histogram of the results\n",
        "# comment out datasets that aren't desired or used.\n",
        "plt.figure(figsize = (14,7))\n",
        "plt.hist(all_trials, range=[0,10], align='left', alpha=0.5, label = \"Theoretical Data\", edgecolor = 'k', color = 'green')\n",
        "plt.hist(hits, range=[0,10], align='left', alpha = 0.5, label = \"Local Data\", edgecolor = 'k', color = 'blue')\n",
        "plt.hist(global_hits, range(num_global_trials), align='left', alpha=0.5, label = \"Global Data\", edgecolor = 'k', color = 'red')\n",
        "\n",
        "plt.xlabel(\"Number of Hits\")\n",
        "plt.ylabel(\"Frequency\")\n",
        "plt.title(\"Hits Rolling a Marble\")\n",
        "plt.legend()\n",
        "plt.show()"
      ],
      "metadata": {
        "id": "6_92tB5QUOPA"
      },
      "execution_count": null,
      "outputs": []
    },
    {
      "cell_type": "markdown",
      "source": [
        "# Acknowledgements & Licenses\n",
        "\n",
        "The development and implementation of these materials and workshop were additionally funded by generous support from IRIS-HEP, the [Institute for Research and Innovation in Software for High Energy Physics](https://iris-hep.org/).\n",
        "\n",
        "This work is licensed under a\n",
        "[Creative Commons Attribution-NonCommercial-ShareAlike 4.0 International License][cc-by-nc-sa].\n",
        "\n",
        "[![CC BY-NC-SA 4.0][cc-by-nc-sa-image]][cc-by-nc-sa]\n",
        "\n",
        "[cc-by-nc-sa]: http://creativecommons.org/licenses/by-nc-sa/4.0/\n",
        "[cc-by-nc-sa-image]: https://licensebuttons.net/l/by-nc-sa/4.0/88x31.png\n",
        "[cc-by-nc-sa-shield]: https://img.shields.io/badge/License-CC%20BY--NC--SA%204.0-lightgrey.svg"
      ],
      "metadata": {
        "id": "sTjF3Mqtasuo"
      }
    }
  ]
}