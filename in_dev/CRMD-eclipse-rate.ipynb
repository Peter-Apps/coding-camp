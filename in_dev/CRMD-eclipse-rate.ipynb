{
 "cells": [
  {
   "cell_type": "markdown",
   "metadata": {},
   "source": [
    "# 2017 Solar Eclipse Muon Rate Study\n",
    "This Jupyter notebook lets you analyze data from a Quarknet cosmic ray muon detector and look for patterns in the rate count. Follow the [Quarknet 2017 Eclipse site](https://sites.google.com/view/quarknet2017eclipse/home) for more info. If this is your first time using this, try the [5-minute Intro to Jupyter activity](./Intro_to_Jupyter.ipynb) first.  \n",
    "\n",
    "Start by selecting Kernel > restart and clear output. Then, run each cell with shift-enter. Remeber, you can edit and re-run the code all you want. To reset everything, go to File > revert to checkpoint, then restart the kernel again."
   ]
  },
  {
   "cell_type": "code",
   "execution_count": 1,
   "metadata": {},
   "outputs": [
    {
     "name": "stderr",
     "output_type": "stream",
     "text": [
      "/Users/adam/opt/anaconda3/lib/python3.7/site-packages/ipykernel_launcher.py:7: MatplotlibDeprecationWarning: \n",
      "The examples.directory rcparam was deprecated in Matplotlib 3.0 and will be removed in 3.2. In the future, examples will be found relative to the 'datapath' directory.\n",
      "  import sys\n"
     ]
    }
   ],
   "source": [
    "# imports some software packages we'll use\n",
    "import pandas as pd\n",
    "import numpy as np\n",
    "%matplotlib inline\n",
    "import matplotlib as mpl\n",
    "import matplotlib.pyplot as plt\n",
    "inline_rc = dict(mpl.rcParams)"
   ]
  },
  {
   "cell_type": "code",
   "execution_count": 2,
   "metadata": {},
   "outputs": [],
   "source": [
    "# Edit the next line to pull a file from a different URL\n",
    "data = pd.read_table('https://github.com/adamlamee/HEP-data/raw/master/eclipse_sample.txt', skiprows=2, index_col=False)\n",
    "\n",
    "cols = data.columns\n",
    "cols = cols.map(lambda x: x.replace('.', '_') if isinstance(x, (str or unicode)) else x)\n",
    "data.columns = cols\n",
    "\n",
    "data['temp'] = data.JulDay + data.MinFracDay.round(2)\n",
    "data.insert(1, 'time', pd.to_datetime(data.temp.astype(float), origin='julian', unit='D'))\n",
    "data.drop('temp', axis=1, inplace=True)\n",
    "\n",
    "# You could duplicate what's below for a 2nd DAQ. Hint: columns are numbered starting with zero( the 9th column is # 8)\n",
    "data['DAQ1p1'] = data.iloc[:,8] > 0\n",
    "data['DAQ1p2'] = data.iloc[:,10] > 0\n",
    "data['DAQ1p3'] = data.iloc[:,12] > 0\n",
    "data['DAQ1p4'] = data.iloc[:,14] > 0"
   ]
  },
  {
   "cell_type": "code",
   "execution_count": 3,
   "metadata": {},
   "outputs": [
    {
     "data": {
      "text/html": [
       "<div>\n",
       "<style scoped>\n",
       "    .dataframe tbody tr th:only-of-type {\n",
       "        vertical-align: middle;\n",
       "    }\n",
       "\n",
       "    .dataframe tbody tr th {\n",
       "        vertical-align: top;\n",
       "    }\n",
       "\n",
       "    .dataframe thead th {\n",
       "        text-align: right;\n",
       "    }\n",
       "</style>\n",
       "<table border=\"1\" class=\"dataframe\">\n",
       "  <thead>\n",
       "    <tr style=\"text-align: right;\">\n",
       "      <th></th>\n",
       "      <th>Evnt</th>\n",
       "      <th>time</th>\n",
       "      <th>#HitDAQ1</th>\n",
       "      <th>#HitDAQ2</th>\n",
       "      <th>MinFracDay</th>\n",
       "      <th>JulDay</th>\n",
       "      <th>SSDB</th>\n",
       "      <th>eventDateTime</th>\n",
       "      <th>6119_1FracDay</th>\n",
       "      <th>6119_1nsAfter1stHit</th>\n",
       "      <th>...</th>\n",
       "      <th>6148_2FracDay</th>\n",
       "      <th>6148_2nsAfter1stHit</th>\n",
       "      <th>6148_3FracDay</th>\n",
       "      <th>6148_3nsAfter1stHit</th>\n",
       "      <th>6148_4FracDay</th>\n",
       "      <th>6148_4nsAfter1stHit</th>\n",
       "      <th>DAQ1p1</th>\n",
       "      <th>DAQ1p2</th>\n",
       "      <th>DAQ1p3</th>\n",
       "      <th>DAQ1p4</th>\n",
       "    </tr>\n",
       "  </thead>\n",
       "  <tbody>\n",
       "    <tr>\n",
       "      <th>0</th>\n",
       "      <td>1</td>\n",
       "      <td>2015-02-13 23:16:48</td>\n",
       "      <td>4</td>\n",
       "      <td>2</td>\n",
       "      <td>0.473367</td>\n",
       "      <td>2457067</td>\n",
       "      <td>40898.879069</td>\n",
       "      <td>Feb 13, 2015 23:21:38 UTC</td>\n",
       "      <td>0.473367</td>\n",
       "      <td>5.002</td>\n",
       "      <td>...</td>\n",
       "      <td>0.473367</td>\n",
       "      <td>246.595</td>\n",
       "      <td>-1.000000</td>\n",
       "      <td>-1.000</td>\n",
       "      <td>-1.000000</td>\n",
       "      <td>-1.000</td>\n",
       "      <td>True</td>\n",
       "      <td>True</td>\n",
       "      <td>True</td>\n",
       "      <td>True</td>\n",
       "    </tr>\n",
       "    <tr>\n",
       "      <th>1</th>\n",
       "      <td>2</td>\n",
       "      <td>2015-02-13 23:31:12</td>\n",
       "      <td>4</td>\n",
       "      <td>2</td>\n",
       "      <td>0.478424</td>\n",
       "      <td>2457067</td>\n",
       "      <td>41335.859636</td>\n",
       "      <td>Feb 13, 2015 23:28:55 UTC</td>\n",
       "      <td>0.478424</td>\n",
       "      <td>6.259</td>\n",
       "      <td>...</td>\n",
       "      <td>0.478424</td>\n",
       "      <td>249.108</td>\n",
       "      <td>-1.000000</td>\n",
       "      <td>-1.000</td>\n",
       "      <td>-1.000000</td>\n",
       "      <td>-1.000</td>\n",
       "      <td>True</td>\n",
       "      <td>True</td>\n",
       "      <td>True</td>\n",
       "      <td>True</td>\n",
       "    </tr>\n",
       "    <tr>\n",
       "      <th>2</th>\n",
       "      <td>3</td>\n",
       "      <td>2015-02-13 23:31:12</td>\n",
       "      <td>4</td>\n",
       "      <td>4</td>\n",
       "      <td>0.480581</td>\n",
       "      <td>2457067</td>\n",
       "      <td>41522.205862</td>\n",
       "      <td>Feb 13, 2015 23:32:02 UTC</td>\n",
       "      <td>0.480581</td>\n",
       "      <td>2.504</td>\n",
       "      <td>...</td>\n",
       "      <td>0.480581</td>\n",
       "      <td>301.597</td>\n",
       "      <td>0.480581</td>\n",
       "      <td>306.408</td>\n",
       "      <td>0.480581</td>\n",
       "      <td>298.902</td>\n",
       "      <td>True</td>\n",
       "      <td>True</td>\n",
       "      <td>True</td>\n",
       "      <td>True</td>\n",
       "    </tr>\n",
       "  </tbody>\n",
       "</table>\n",
       "<p>3 rows × 28 columns</p>\n",
       "</div>"
      ],
      "text/plain": [
       "   Evnt                time  #HitDAQ1  #HitDAQ2  MinFracDay   JulDay  \\\n",
       "0     1 2015-02-13 23:16:48         4         2    0.473367  2457067   \n",
       "1     2 2015-02-13 23:31:12         4         2    0.478424  2457067   \n",
       "2     3 2015-02-13 23:31:12         4         4    0.480581  2457067   \n",
       "\n",
       "           SSDB              eventDateTime  6119_1FracDay  \\\n",
       "0  40898.879069  Feb 13, 2015 23:21:38 UTC       0.473367   \n",
       "1  41335.859636  Feb 13, 2015 23:28:55 UTC       0.478424   \n",
       "2  41522.205862  Feb 13, 2015 23:32:02 UTC       0.480581   \n",
       "\n",
       "   6119_1nsAfter1stHit  ...  6148_2FracDay  6148_2nsAfter1stHit  \\\n",
       "0                5.002  ...       0.473367              246.595   \n",
       "1                6.259  ...       0.478424              249.108   \n",
       "2                2.504  ...       0.480581              301.597   \n",
       "\n",
       "   6148_3FracDay  6148_3nsAfter1stHit  6148_4FracDay  6148_4nsAfter1stHit  \\\n",
       "0      -1.000000               -1.000      -1.000000               -1.000   \n",
       "1      -1.000000               -1.000      -1.000000               -1.000   \n",
       "2       0.480581              306.408       0.480581              298.902   \n",
       "\n",
       "   DAQ1p1  DAQ1p2  DAQ1p3  DAQ1p4  \n",
       "0    True    True    True    True  \n",
       "1    True    True    True    True  \n",
       "2    True    True    True    True  \n",
       "\n",
       "[3 rows x 28 columns]"
      ]
     },
     "execution_count": 3,
     "metadata": {},
     "output_type": "execute_result"
    }
   ],
   "source": [
    "# This shows the first 3 rows of the data table. Scroll right to see it all.\n",
    "data.head(3)"
   ]
  },
  {
   "cell_type": "markdown",
   "metadata": {},
   "source": [
    "## Choose the coincidence\n",
    "The cell below reduces the data set to only include events for which paddles 1 and 2 recorded hits. You can edit the code to look for coincidence between other paddle combinations, too."
   ]
  },
  {
   "cell_type": "code",
   "execution_count": 4,
   "metadata": {},
   "outputs": [],
   "source": [
    "# coincidence of paddles 1 & 2\n",
    "newdata = data.query('DAQ1p1 == True and DAQ1p2 == True')"
   ]
  },
  {
   "cell_type": "code",
   "execution_count": 5,
   "metadata": {},
   "outputs": [
    {
     "data": {
      "text/plain": [
       "Text(0, 0.5, 'me, too!')"
      ]
     },
     "execution_count": 5,
     "metadata": {},
     "output_type": "execute_result"
    },
    {
     "data": {
      "image/png": "[encoded data removed]",
      "text/plain": [
       "<Figure size 864x216 with 1 Axes>"
      ]
     },
     "metadata": {
      "needs_background": "light"
     },
     "output_type": "display_data"
    }
   ],
   "source": [
    "# resample rate sets counts/min for rate study (e.g., '30min' looks at counts/30 minutes)\n",
    "plotdata = newdata.resample('30min', on='time').count()\n",
    "\n",
    "# And this plots the rate count\n",
    "plt.figure(figsize=(12,3))\n",
    "plt.plot(plotdata, 'ro');\n",
    "plt.title('title?')\n",
    "plt.xlabel('label me')\n",
    "plt.ylabel('me, too!')"
   ]
  },
  {
   "cell_type": "markdown",
   "metadata": {},
   "source": [
    "## Saving Your Work\n",
    "This is running on a Google Compute Engine server on a distant planet and deletes what you've done after 20 minutes of inactivity or after you close your browser. To save for later use or analysis you have a few options:\n",
    "- File > Download as > ipynb to continue your analysis later (come back here and upload it or install Jupyter on your own device)\n",
    "- File > Download as > pdf (static copy including code and graphs)\n",
    "- Right-click on a graph and select Save Image As ... (to share a pic)  \n",
    "\n",
    "## Credits\n",
    "This Jupyter notebook was the brainchild of [Quarknet](https://quarknet.i2u2.org/) staffer Mark Adams, eclipse file output designed by Sudha Balakrishnan, Joel Griffith sorted out web access to the data files, and this notebook was designed by [Adam LaMee](https://adamlamee.github.io/) all for Quarknet's Eclipse 2017 Cosmic Ray Study. Thanks to the great folks at [MyBinder.org](https://beta.mybinder.org/) for making this notebook is interactive without you needing to install anything."
   ]
  },
  {
   "cell_type": "code",
   "execution_count": null,
   "metadata": {
    "collapsed": true
   },
   "outputs": [],
   "source": []
  }
 ],
 "metadata": {
  "kernelspec": {
   "display_name": "Python 3",
   "language": "python",
   "name": "python3"
  },
  "language_info": {
   "codemirror_mode": {
    "name": "ipython",
    "version": 3
   },
   "file_extension": ".py",
   "mimetype": "text/x-python",
   "name": "python",
   "nbconvert_exporter": "python",
   "pygments_lexer": "ipython3",
   "version": "3.7.7"
  }
 },
 "nbformat": 4,
 "nbformat_minor": 1
}
