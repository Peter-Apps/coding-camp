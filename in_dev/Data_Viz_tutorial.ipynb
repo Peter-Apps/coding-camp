{
 "cells": [
  {
   "cell_type": "markdown",
   "id": "d45d0f22",
   "metadata": {},
   "source": [
    "# Data Visualization in Python"
   ]
  },
  {
   "cell_type": "code",
   "execution_count": null,
   "id": "08b00437",
   "metadata": {},
   "outputs": [],
   "source": [
    "# importing some useful modules (a.k.a. libraries of functions)\n",
    "import numpy as np\n",
    "import matplotlib as mpl\n",
    "import matplotlib.pyplot as plt"
   ]
  },
  {
   "cell_type": "markdown",
   "id": "f026d723",
   "metadata": {},
   "source": [
    "## Part 1: linspace\n",
    "Numpy has a useful function called **linspace** shown below. What can you determine about it by running and editing the example below?"
   ]
  },
  {
   "cell_type": "code",
   "execution_count": null,
   "id": "924faf71",
   "metadata": {},
   "outputs": [],
   "source": [
    "np.linspace(0, 10, num=5, endpoint=True)"
   ]
  },
  {
   "cell_type": "markdown",
   "id": "83bd19d6",
   "metadata": {},
   "source": [
    "Now, compare what you deduced to the [numpy documentation](https://numpy.org/doc/stable/reference/generated/numpy.linspace.html) for linspace. Any surprises?\n",
    "## Part 2: defining your own function\n",
    "The code below lets you plot a function. Try running it, then editing it to plot a different function."
   ]
  },
  {
   "cell_type": "code",
   "execution_count": null,
   "id": "bf9ccb01",
   "metadata": {},
   "outputs": [],
   "source": [
    "# this calculates y-values given x-values\n",
    "\n",
    "def model_function(x):      # you can name this whatever you'd like\n",
    "    a = 2\n",
    "    b = -7\n",
    "    y = a * (x**2) + b         # this would make a quadratic model\n",
    "    return y\n",
    "\n",
    "# we can use the function above to generate x- and y-values to plot\n",
    "xvals = np.linspace(0, 5, num=10)\n",
    "yvals = model_function(xvals) # uses the function defined above with x-values to make model y-values\n",
    "\n",
    "# if you don't need much styling, pyplot is the quick and easy way to plot\n",
    "plt.scatter(xvals, yvals)"
   ]
  },
  {
   "cell_type": "markdown",
   "id": "d0d96c94",
   "metadata": {},
   "source": [
    "The example below shows how to customize some parameters of a plot. You can find a longer list on the [pyplot.plot documentation page](https://matplotlib.org/stable/api/_as_gen/matplotlib.pyplot.plot.html)."
   ]
  },
  {
   "cell_type": "code",
   "execution_count": null,
   "id": "1a5fad42",
   "metadata": {},
   "outputs": [],
   "source": [
    "# some plot formatting examples\n",
    "plt.plot(xvals, yvals, color='k', marker='o', alpha=.1)"
   ]
  },
  {
   "cell_type": "markdown",
   "id": "82004eca",
   "metadata": {},
   "source": [
    "Try the following:\n",
    "- Edit the function in the code above to plot a different equation.  \n",
    "- Customize a plot by setting at least one other parameter mentioned in the [pyplot.plot documentation page](https://matplotlib.org/stable/api/_as_gen/matplotlib.pyplot.plot.html).  \n",
    "\n",
    "## Part 3: Advanced plotting with Matplotlib\n",
    "You just practiced making a plot in a single line. That's handy when you just need a quick plot without much customizing. Matplotlib also has an 'object-oriented' interface for more complex styling and layout, shown next. Experiment with the code below and see what you can infer about how the object-oriented interface works."
   ]
  },
  {
   "cell_type": "code",
   "execution_count": null,
   "id": "d52f7485",
   "metadata": {},
   "outputs": [],
   "source": [
    "fig, ax = plt.subplots(2, 2, figsize=(10,5))        # that's (2 rows, 2 cols) ... four subplots\n",
    "fig.subplots_adjust(hspace=0.5)     # make a little extra space between the subplots\n",
    "\n",
    "# draw in the subplot in row 0, col 0\n",
    "# if you only had one column or row, you'd use ax[0], ax[1], ...\n",
    "ax[0,0].plot(xvals, yvals, color= 'chartreuse', label='one', linestyle=\"--\")   # makes a linepolt of the model\n",
    "ax[0,0].plot(xvals, xvals*2+4, color= 'skyblue', label='two', linestyle=\"--\")   # makes a linepolt of the model\n",
    "ax[0,0].legend()\n",
    "\n",
    "# format another subplot\n",
    "ax[1,0].set_title(\"this is a title\") # set an individual parameter\n",
    "ax[1,0].annotate('there is nothing here', xy=(.5, .5), xytext=(.2, .7), arrowprops=dict(facecolor='black', arrowstyle=\"->\"))\n",
    "ax[1,0].spines['top'].set_visible(False)\n",
    "ax[1,0].spines['right'].set_visible(False)\n",
    "ax[1,0].spines['bottom'].set_color('#565656')\n",
    "\n",
    "# and labels\n",
    "ax[0,1].set(xlabel=\"some label\", ylabel=\"other label\", title=\"a title?\")  # set several parameters in one line\n",
    "ax[0,1].set_xlim(2,5)\n",
    "ax[0,1].xaxis.set_ticks_position('none')\n",
    "ax[0,1].tick_params(labelcolor='grey')\n",
    "ax[0,1].grid(color='#565656', axis='y', linestyle='-', linewidth=0.25, alpha=0.5)\n",
    "\n",
    "# and a horizontal line!\n",
    "ax[1,1].axhline(.5, color='purple')\n",
    "ax[1,1].text(.5, .2, \"text!\")\n",
    "\n",
    "# and finally ...\n",
    "plt.show()"
   ]
  },
  {
   "cell_type": "markdown",
   "id": "b24e10a0",
   "metadata": {},
   "source": [
    "Now, try the following:  \n",
    "- Compare the position, velocity, and acceleration of two objects.\n",
    "- Incorporate another styling idea from the [matplotlib cheat sheets](https://github.com/matplotlib/cheatsheets)."
   ]
  }
 ],
 "metadata": {
  "kernelspec": {
   "display_name": "Python 3 (ipykernel)",
   "language": "python",
   "name": "python3"
  },
  "language_info": {
   "codemirror_mode": {
    "name": "ipython",
    "version": 3
   },
   "file_extension": ".py",
   "mimetype": "text/x-python",
   "name": "python",
   "nbconvert_exporter": "python",
   "pygments_lexer": "ipython3",
   "version": "3.9.7"
  }
 },
 "nbformat": 4,
 "nbformat_minor": 5
}
