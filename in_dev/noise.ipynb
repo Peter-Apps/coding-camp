{
  "cells": [
    {
      "cell_type": "markdown",
      "metadata": {
        "id": "view-in-github",
        "colab_type": "text"
      },
      "source": [
        "<a href=\"https://colab.research.google.com/github/Peter-Apps/coding-camp/blob/main/in_dev/noise.ipynb\" target=\"_parent\"><img src=\"https://colab.research.google.com/assets/colab-badge.svg\" alt=\"Open In Colab\"/></a>"
      ]
    },
    {
      "cell_type": "markdown",
      "id": "de112e78",
      "metadata": {
        "id": "de112e78"
      },
      "source": [
        "# Noise!  "
      ]
    },
    {
      "cell_type": "code",
      "execution_count": null,
      "id": "a8851c05",
      "metadata": {
        "id": "a8851c05"
      },
      "outputs": [],
      "source": [
        "import numpy as np\n",
        "from numpy.random import default_rng as rng\n",
        "import matplotlib.pyplot as plt\n",
        "import pandas as pd"
      ]
    },
    {
      "cell_type": "markdown",
      "id": "8ff6b3fe",
      "metadata": {
        "id": "8ff6b3fe"
      },
      "source": [
        "## Spectrum-like"
      ]
    },
    {
      "cell_type": "code",
      "execution_count": null,
      "id": "2baaff94",
      "metadata": {
        "id": "2baaff94"
      },
      "outputs": [],
      "source": [
        "# adjust amplitudes of signal and noise\n",
        "signal_amplitude = 1\n",
        "noise_amplitude = 5\n",
        "n = 100\n",
        "\n",
        "\n",
        "data = pd.DataFrame()\n",
        "data['x'] = np.linspace(0,10,n)\n",
        "data['noise'] = rng().uniform(low=0, high=1, size=n)\n",
        "data['signal'] = np.sin(data['x'])\n",
        "\n",
        "plt.scatter(data['x'], signal_amplitude*data['signal'] + noise_amplitude*data['noise'], s=1, color='purple')"
      ]
    },
    {
      "cell_type": "markdown",
      "id": "8b3a0389",
      "metadata": {
        "id": "8b3a0389"
      },
      "source": [
        "## 2D"
      ]
    },
    {
      "cell_type": "code",
      "execution_count": null,
      "id": "48361257",
      "metadata": {
        "id": "48361257"
      },
      "outputs": [],
      "source": [
        "n_noise = 1000\n",
        "n_signal = 100\n",
        "\n",
        "noise = pd.DataFrame()\n",
        "noise['x'] = rng().uniform(low=0, high=1, size=n_noise)\n",
        "noise['y'] = rng().uniform(low=0, high=1, size=n_noise)\n",
        "\n",
        "signal = pd.DataFrame()\n",
        "signal['x'] = rng().uniform(low=0, high=1, size=n_signal)\n",
        "signal['y'] = np.abs(np.sin(10*signal['x']))"
      ]
    },
    {
      "cell_type": "code",
      "execution_count": null,
      "id": "c1b3afb3",
      "metadata": {
        "id": "c1b3afb3"
      },
      "outputs": [],
      "source": [
        "# show signal with color contrast\n",
        "plt.scatter(noise['x'], noise['y'], s=1, color='purple')\n",
        "plt.scatter(signal['x'], signal['y'], s=1, color='green')\n",
        "plt.show()"
      ]
    },
    {
      "cell_type": "code",
      "execution_count": null,
      "id": "025b8cac",
      "metadata": {
        "id": "025b8cac"
      },
      "outputs": [],
      "source": [
        "# show signal with transparency\n",
        "plt.scatter(noise['x'], noise['y'], s=1, color='purple', alpha=.3)\n",
        "plt.scatter(signal['x'], signal['y'], s=1, color='purple', alpha=1)\n",
        "plt.show()"
      ]
    },
    {
      "cell_type": "code",
      "execution_count": null,
      "id": "ad2d760c",
      "metadata": {
        "id": "ad2d760c"
      },
      "outputs": [],
      "source": [
        "# show signal with point size\n",
        "plt.scatter(noise['x'], noise['y'], s=.2, color='purple')\n",
        "plt.scatter(signal['x'], signal['y'], s=1, color='purple')\n",
        "plt.show()"
      ]
    },
    {
      "cell_type": "markdown",
      "source": [
        "# Acknowledgements & Licenses\n",
        "\n",
        "The development and implementation of these materials and workshop were additionally funded by generous support from IRIS-HEP, the [Institute for Research and Innovation in Software for High Energy Physics](https://iris-hep.org/).\n",
        "\n",
        "This work is licensed under a\n",
        "[Creative Commons Attribution-NonCommercial-ShareAlike 4.0 International License][cc-by-nc-sa].\n",
        "\n",
        "[![CC BY-NC-SA 4.0][cc-by-nc-sa-image]][cc-by-nc-sa]\n",
        "\n",
        "[cc-by-nc-sa]: http://creativecommons.org/licenses/by-nc-sa/4.0/\n",
        "[cc-by-nc-sa-image]: https://licensebuttons.net/l/by-nc-sa/4.0/88x31.png\n",
        "[cc-by-nc-sa-shield]: https://img.shields.io/badge/License-CC%20BY--NC--SA%204.0-lightgrey.svg"
      ],
      "metadata": {
        "id": "PCnBfwHiY_Ol"
      },
      "id": "PCnBfwHiY_Ol"
    }
  ],
  "metadata": {
    "kernelspec": {
      "display_name": "Python 3 (ipykernel)",
      "language": "python",
      "name": "python3"
    },
    "language_info": {
      "codemirror_mode": {
        "name": "ipython",
        "version": 3
      },
      "file_extension": ".py",
      "mimetype": "text/x-python",
      "name": "python",
      "nbconvert_exporter": "python",
      "pygments_lexer": "ipython3",
      "version": "3.9.7"
    },
    "colab": {
      "provenance": [],
      "include_colab_link": true
    }
  },
  "nbformat": 4,
  "nbformat_minor": 5
}