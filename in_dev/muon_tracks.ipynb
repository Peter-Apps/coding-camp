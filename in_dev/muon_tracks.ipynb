{
 "cells": [
  {
   "cell_type": "markdown",
   "id": "5c0048fb",
   "metadata": {},
   "source": [
    "# Muon Tracks in CMS"
   ]
  },
  {
   "cell_type": "markdown",
   "id": "a439d697",
   "metadata": {},
   "source": [
    "## Pseudocode"
   ]
  },
  {
   "cell_type": "code",
   "execution_count": null,
   "id": "4d5528dc",
   "metadata": {},
   "outputs": [],
   "source": [
    "# fit a linear model \n",
    "# fit another function that might give better physics insight\n",
    "# compare the two models using chi-sq\n",
    "# preform analysis in both spreadsheet at Jupyter notebook\n",
    "# present using PPDAC framework"
   ]
  }
 ],
 "metadata": {
  "kernelspec": {
   "display_name": "Python 3 (ipykernel)",
   "language": "python",
   "name": "python3"
  },
  "language_info": {
   "codemirror_mode": {
    "name": "ipython",
    "version": 3
   },
   "file_extension": ".py",
   "mimetype": "text/x-python",
   "name": "python",
   "nbconvert_exporter": "python",
   "pygments_lexer": "ipython3",
   "version": "3.9.7"
  }
 },
 "nbformat": 4,
 "nbformat_minor": 5
}
