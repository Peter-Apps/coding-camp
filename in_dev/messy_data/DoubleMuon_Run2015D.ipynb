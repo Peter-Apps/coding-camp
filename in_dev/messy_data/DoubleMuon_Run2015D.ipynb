{
 "cells": [
  {
   "cell_type": "code",
   "execution_count": 3,
   "metadata": {},
   "outputs": [],
   "source": [
    "import uproot4\n",
    "import awkward as ak\n",
    "import vector\n",
    "\n",
    "import numpy as np\n",
    "import matplotlib.pyplot as plt\n",
    "\n",
    "import pandas as pd"
   ]
  },
  {
   "cell_type": "code",
   "execution_count": 5,
   "metadata": {},
   "outputs": [],
   "source": [
    "data = uproot4.open('DoubleMuon_Run2015D_miniAOD2nanoAOD.root:miniaod2nanoaod')"
   ]
  },
  {
   "cell_type": "code",
   "execution_count": 6,
   "metadata": {},
   "outputs": [
    {
     "name": "stdout",
     "output_type": "stream",
     "text": [
      "name                 | typename                 | interpretation                \n",
      "---------------------+--------------------------+-------------------------------\n",
      "run                  | int32_t                  | AsDtype('>i4')\n",
      "luminosityBlock      | uint32_t                 | AsDtype('>u4')\n",
      "event                | uint64_t                 | AsDtype('>u8')\n",
      "HLT_IsoMu24_eta2p1   | bool                     | AsDtype('bool')\n",
      "HLT_IsoMu24          | bool                     | AsDtype('bool')\n",
      "HLT_IsoMu17_eta2p... | bool                     | AsDtype('bool')\n",
      "nMuon                | uint32_t                 | AsDtype('>u4')\n",
      "Muon_pt              | float[]                  | AsJagged(AsDtype('>f4'))\n",
      "Muon_eta             | float[]                  | AsJagged(AsDtype('>f4'))\n",
      "Muon_phi             | float[]                  | AsJagged(AsDtype('>f4'))\n",
      "Muon_mass            | float[]                  | AsJagged(AsDtype('>f4'))\n",
      "Muon_charge          | int32_t[]                | AsJagged(AsDtype('>i4'))\n",
      "Muon_pfRelIso03_all  | float[]                  | AsJagged(AsDtype('>f4'))\n",
      "Muon_pfRelIso04_all  | float[]                  | AsJagged(AsDtype('>f4'))\n",
      "Muon_tightId         | bool[]                   | AsJagged(AsDtype('bool'))\n",
      "Muon_softId          | bool[]                   | AsJagged(AsDtype('bool'))\n",
      "Muon_dxy             | float[]                  | AsJagged(AsDtype('>f4'))\n",
      "Muon_dxyErr          | float[]                  | AsJagged(AsDtype('>f4'))\n",
      "Muon_dz              | float[]                  | AsJagged(AsDtype('>f4'))\n",
      "Muon_dzErr           | float[]                  | AsJagged(AsDtype('>f4'))\n",
      "Muon_jetIdx          | int32_t[]                | AsJagged(AsDtype('>i4'))\n",
      "Muon_genPartIdx      | int32_t[]                | AsJagged(AsDtype('>i4'))\n"
     ]
    }
   ],
   "source": [
    "data['Events'].show()"
   ]
  },
  {
   "cell_type": "code",
   "execution_count": 17,
   "metadata": {},
   "outputs": [
    {
     "data": {
      "text/plain": [
       "334143 * {\"run\": int32, \"luminosityBlock\": uint32, \"event\": uint64, \"HLT_IsoMu24_eta2p1\": bool, \"HLT_IsoMu24\": bool, \"HLT_IsoMu17_eta2p1_LooseIsoPFTau20\": bool, \"nMuon\": uint32, \"Muon\": var * {\"pt\": float32, \"eta\": float32, \"phi\": float32, \"mass\": float32, \"charge\": int32, \"pfRelIso03_all\": float32, \"pfRelIso04_all\": float32, \"tightId\": bool, \"softId\": bool, \"dxy\": float32, \"dxyErr\": float32, \"dz\": float32, \"dzErr\": float32, \"jetIdx\": int32, \"genPartIdx\": int32}}"
      ]
     },
     "execution_count": 17,
     "metadata": {},
     "output_type": "execute_result"
    }
   ],
   "source": [
    "events = data['Events'].arrays(library=\"ak\", how=\"zip\")\n",
    "ak.type(events)"
   ]
  },
  {
   "cell_type": "code",
   "execution_count": 8,
   "metadata": {},
   "outputs": [],
   "source": [
    "vector.register_awkward()"
   ]
  },
  {
   "cell_type": "code",
   "execution_count": 9,
   "metadata": {},
   "outputs": [],
   "source": [
    "muons = ak.zip({\n",
    "    \"pt\": events.Muon.pt,\n",
    "    \"eta\": events.Muon.eta,\n",
    "    \"phi\": events.Muon.phi,\n",
    "    \"mass\": events.Muon.mass,\n",
    "    \"charge\": events.Muon.charge\n",
    "})"
   ]
  },
  {
   "cell_type": "code",
   "execution_count": 10,
   "metadata": {},
   "outputs": [],
   "source": [
    "muon_pairs = ak.combinations(muons, 2)\n",
    "mu1, mu2 = ak.unzip(muon_pairs)"
   ]
  },
  {
   "cell_type": "code",
   "execution_count": 25,
   "metadata": {},
   "outputs": [
    {
     "data": {
      "text/plain": [
       "[[{'pt': 32.664642333984375,\n",
       "   'eta': -0.4782315790653229,\n",
       "   'phi': -2.6924209594726562,\n",
       "   'mass': 0.10570000112056732,\n",
       "   'charge': 1}],\n",
       " [{'pt': 28.894447326660156,\n",
       "   'eta': -1.5405164957046509,\n",
       "   'phi': 0.48678985238075256,\n",
       "   'mass': 0.10570000112056732,\n",
       "   'charge': 1}],\n",
       " [{'pt': 29.105161666870117,\n",
       "   'eta': 1.4080175161361694,\n",
       "   'phi': 0.5874678492546082,\n",
       "   'mass': 0.10565836727619171,\n",
       "   'charge': -1}],\n",
       " [{'pt': 18.39596939086914,\n",
       "   'eta': 1.8334213495254517,\n",
       "   'phi': -1.6022955179214478,\n",
       "   'mass': 0.10570000112056732,\n",
       "   'charge': 1}]]"
      ]
     },
     "execution_count": 25,
     "metadata": {},
     "output_type": "execute_result"
    }
   ],
   "source": [
    "listy = mu1.to_list()\n",
    "listy[0:4]"
   ]
  },
  {
   "cell_type": "code",
   "execution_count": 11,
   "metadata": {},
   "outputs": [],
   "source": [
    "mumu_mass = np.sqrt(2*mu1.pt*mu2.pt*(np.cosh(mu1.eta - mu2.eta) - np.cos(mu1.phi - mu2.phi)))\n",
    "mumu_mass = mumu_mass[mu1.charge != mu2.charge]\n",
    "\n",
    "masses = ak.ravel(mumu_mass)"
   ]
  },
  {
   "cell_type": "code",
   "execution_count": 12,
   "metadata": {},
   "outputs": [
    {
     "data": {
      "image/png": "[encoded data removed]",
      "text/plain": [
       "<Figure size 432x288 with 1 Axes>"
      ]
     },
     "metadata": {
      "needs_background": "light"
     },
     "output_type": "display_data"
    }
   ],
   "source": [
    "n,b,_ = plt.hist(\n",
    "    masses, \n",
    "    histtype='step', \n",
    "    bins=3000, range=(0.25,300)\n",
    ")\n",
    "\n",
    "plt.xlabel('M [GeV]')\n",
    "plt.xscale('log')\n",
    "plt.yscale('log')"
   ]
  },
  {
   "cell_type": "code",
   "execution_count": 13,
   "metadata": {},
   "outputs": [
    {
     "data": {
      "text/plain": [
       "185653"
      ]
     },
     "execution_count": 13,
     "metadata": {},
     "output_type": "execute_result"
    }
   ],
   "source": [
    "len(masses)"
   ]
  },
  {
   "cell_type": "code",
   "execution_count": 14,
   "metadata": {},
   "outputs": [
    {
     "name": "stderr",
     "output_type": "stream",
     "text": [
      "/opt/anaconda3/lib/python3.9/site-packages/awkward/operations/convert.py:5265: FutureWarning: merging between different levels is deprecated and will be removed in a future version. (1 levels on the left,2 on the right)\n",
      "  out = pandas.merge(out, df, how=how, left_index=True, right_index=True)\n"
     ]
    }
   ],
   "source": [
    "df = ak.to_pandas(events)"
   ]
  },
  {
   "cell_type": "code",
   "execution_count": 15,
   "metadata": {},
   "outputs": [
    {
     "data": {
      "text/plain": [
       "Index([                               'run',\n",
       "                          'luminosityBlock',\n",
       "                                    'event',\n",
       "                       'HLT_IsoMu24_eta2p1',\n",
       "                              'HLT_IsoMu24',\n",
       "       'HLT_IsoMu17_eta2p1_LooseIsoPFTau20',\n",
       "                                    'nMuon',\n",
       "                             ('Muon', 'pt'),\n",
       "                            ('Muon', 'eta'),\n",
       "                            ('Muon', 'phi'),\n",
       "                           ('Muon', 'mass'),\n",
       "                         ('Muon', 'charge'),\n",
       "                 ('Muon', 'pfRelIso03_all'),\n",
       "                 ('Muon', 'pfRelIso04_all'),\n",
       "                        ('Muon', 'tightId'),\n",
       "                         ('Muon', 'softId'),\n",
       "                            ('Muon', 'dxy'),\n",
       "                         ('Muon', 'dxyErr'),\n",
       "                             ('Muon', 'dz'),\n",
       "                          ('Muon', 'dzErr'),\n",
       "                         ('Muon', 'jetIdx'),\n",
       "                     ('Muon', 'genPartIdx')],\n",
       "      dtype='object')"
      ]
     },
     "execution_count": 15,
     "metadata": {},
     "output_type": "execute_result"
    }
   ],
   "source": [
    "df.columns"
   ]
  },
  {
   "cell_type": "code",
   "execution_count": 22,
   "metadata": {},
   "outputs": [],
   "source": [
    "df.rename(\n",
    "    columns={\n",
    "        (\"Muon\", \"pt\"): \"pt\",\n",
    "        (\"Muon\", \"eta\"): \"eta\",\n",
    "        (\"Muon\", \"phi\"): \"phi\",\n",
    "        (\"Muon\", \"mass\"): \"mass\",\n",
    "        (\"Muon\", \"charge\"): \"charge\",\n",
    "        (\"Muon\", \"pfRelIso03_all\"): \"pfRelIso03_all\",\n",
    "        (\"Muon\", \"pfRelIso04_all\"): \"pfRelIso04_all\",\n",
    "        (\"Muon\", \"tightId\"): \"tightId\",\n",
    "        (\"Muon\", \"softId\"): \"softId\",\n",
    "        (\"Muon\", \"dxy\"): \"dxy\", \n",
    "        (\"Muon\", \"dxyErr\"): \"dxyErr\",\n",
    "        (\"Muon\", \"dz\"): \"dz\",\n",
    "        (\"Muon\", \"dzErr\"): \"dzErr\",\n",
    "        (\"Muon\", \"jetIdx\"): \"jetIdx\",\n",
    "        (\"Muon\", \"genPartIdx\"): \"genPartIdx\"\n",
    "    }, \n",
    "    inplace=True\n",
    ")"
   ]
  },
  {
   "cell_type": "code",
   "execution_count": 23,
   "metadata": {},
   "outputs": [],
   "source": [
    "df.drop(\n",
    "    [\n",
    "        'HLT_IsoMu24_eta2p1',\n",
    "        'HLT_IsoMu24',\n",
    "        'HLT_IsoMu17_eta2p1_LooseIsoPFTau20',\n",
    "        'jetIdx',\n",
    "        'genPartIdx',\n",
    "    ], \n",
    "    inplace=True,\n",
    "    axis=1,\n",
    ")"
   ]
  },
  {
   "cell_type": "code",
   "execution_count": 24,
   "metadata": {},
   "outputs": [
    {
     "data": {
      "text/html": [
       "<div>\n",
       "<style scoped>\n",
       "    .dataframe tbody tr th:only-of-type {\n",
       "        vertical-align: middle;\n",
       "    }\n",
       "\n",
       "    .dataframe tbody tr th {\n",
       "        vertical-align: top;\n",
       "    }\n",
       "\n",
       "    .dataframe thead th {\n",
       "        text-align: right;\n",
       "    }\n",
       "</style>\n",
       "<table border=\"1\" class=\"dataframe\">\n",
       "  <thead>\n",
       "    <tr style=\"text-align: right;\">\n",
       "      <th></th>\n",
       "      <th></th>\n",
       "      <th>run</th>\n",
       "      <th>luminosityBlock</th>\n",
       "      <th>event</th>\n",
       "      <th>nMuon</th>\n",
       "      <th>pt</th>\n",
       "      <th>eta</th>\n",
       "      <th>phi</th>\n",
       "      <th>mass</th>\n",
       "      <th>charge</th>\n",
       "      <th>pfRelIso03_all</th>\n",
       "      <th>pfRelIso04_all</th>\n",
       "      <th>tightId</th>\n",
       "      <th>softId</th>\n",
       "      <th>dxy</th>\n",
       "      <th>dxyErr</th>\n",
       "      <th>dz</th>\n",
       "      <th>dzErr</th>\n",
       "    </tr>\n",
       "    <tr>\n",
       "      <th>entry</th>\n",
       "      <th>subentry</th>\n",
       "      <th></th>\n",
       "      <th></th>\n",
       "      <th></th>\n",
       "      <th></th>\n",
       "      <th></th>\n",
       "      <th></th>\n",
       "      <th></th>\n",
       "      <th></th>\n",
       "      <th></th>\n",
       "      <th></th>\n",
       "      <th></th>\n",
       "      <th></th>\n",
       "      <th></th>\n",
       "      <th></th>\n",
       "      <th></th>\n",
       "      <th></th>\n",
       "      <th></th>\n",
       "    </tr>\n",
       "  </thead>\n",
       "  <tbody>\n",
       "    <tr>\n",
       "      <th rowspan=\"2\" valign=\"top\">0</th>\n",
       "      <th>0</th>\n",
       "      <td>256676</td>\n",
       "      <td>1052</td>\n",
       "      <td>1433987112</td>\n",
       "      <td>2</td>\n",
       "      <td>32.664642</td>\n",
       "      <td>-0.478232</td>\n",
       "      <td>-2.692421</td>\n",
       "      <td>0.105700</td>\n",
       "      <td>1</td>\n",
       "      <td>1.009496</td>\n",
       "      <td>1.030894</td>\n",
       "      <td>True</td>\n",
       "      <td>True</td>\n",
       "      <td>0.010427</td>\n",
       "      <td>0.001131</td>\n",
       "      <td>0.006383</td>\n",
       "      <td>0.002373</td>\n",
       "    </tr>\n",
       "    <tr>\n",
       "      <th>1</th>\n",
       "      <td>256676</td>\n",
       "      <td>1052</td>\n",
       "      <td>1433987112</td>\n",
       "      <td>2</td>\n",
       "      <td>4.815899</td>\n",
       "      <td>-2.282161</td>\n",
       "      <td>-0.501225</td>\n",
       "      <td>0.105700</td>\n",
       "      <td>-1</td>\n",
       "      <td>1.191967</td>\n",
       "      <td>1.450307</td>\n",
       "      <td>True</td>\n",
       "      <td>True</td>\n",
       "      <td>0.028182</td>\n",
       "      <td>0.005242</td>\n",
       "      <td>0.025898</td>\n",
       "      <td>0.023694</td>\n",
       "    </tr>\n",
       "    <tr>\n",
       "      <th rowspan=\"2\" valign=\"top\">1</th>\n",
       "      <th>0</th>\n",
       "      <td>256676</td>\n",
       "      <td>1052</td>\n",
       "      <td>1433999435</td>\n",
       "      <td>2</td>\n",
       "      <td>28.894447</td>\n",
       "      <td>-1.540516</td>\n",
       "      <td>0.486790</td>\n",
       "      <td>0.105700</td>\n",
       "      <td>1</td>\n",
       "      <td>1.482681</td>\n",
       "      <td>1.552032</td>\n",
       "      <td>True</td>\n",
       "      <td>True</td>\n",
       "      <td>-0.000464</td>\n",
       "      <td>0.001059</td>\n",
       "      <td>0.000408</td>\n",
       "      <td>0.003900</td>\n",
       "    </tr>\n",
       "    <tr>\n",
       "      <th>1</th>\n",
       "      <td>256676</td>\n",
       "      <td>1052</td>\n",
       "      <td>1433999435</td>\n",
       "      <td>2</td>\n",
       "      <td>18.273682</td>\n",
       "      <td>1.629738</td>\n",
       "      <td>-2.872056</td>\n",
       "      <td>0.105700</td>\n",
       "      <td>1</td>\n",
       "      <td>1.901988</td>\n",
       "      <td>2.214382</td>\n",
       "      <td>True</td>\n",
       "      <td>True</td>\n",
       "      <td>0.001154</td>\n",
       "      <td>0.001371</td>\n",
       "      <td>-0.018171</td>\n",
       "      <td>0.004747</td>\n",
       "    </tr>\n",
       "    <tr>\n",
       "      <th>2</th>\n",
       "      <th>0</th>\n",
       "      <td>256676</td>\n",
       "      <td>1052</td>\n",
       "      <td>1433908571</td>\n",
       "      <td>2</td>\n",
       "      <td>29.105162</td>\n",
       "      <td>1.408018</td>\n",
       "      <td>0.587468</td>\n",
       "      <td>0.105658</td>\n",
       "      <td>-1</td>\n",
       "      <td>-999.000000</td>\n",
       "      <td>-999.000000</td>\n",
       "      <td>False</td>\n",
       "      <td>False</td>\n",
       "      <td>-999.000000</td>\n",
       "      <td>-999.000000</td>\n",
       "      <td>-999.000000</td>\n",
       "      <td>-999.000000</td>\n",
       "    </tr>\n",
       "  </tbody>\n",
       "</table>\n",
       "</div>"
      ],
      "text/plain": [
       "                   run  luminosityBlock       event  nMuon         pt  \\\n",
       "entry subentry                                                          \n",
       "0     0         256676             1052  1433987112      2  32.664642   \n",
       "      1         256676             1052  1433987112      2   4.815899   \n",
       "1     0         256676             1052  1433999435      2  28.894447   \n",
       "      1         256676             1052  1433999435      2  18.273682   \n",
       "2     0         256676             1052  1433908571      2  29.105162   \n",
       "\n",
       "                     eta       phi      mass  charge  pfRelIso03_all  \\\n",
       "entry subentry                                                         \n",
       "0     0        -0.478232 -2.692421  0.105700       1        1.009496   \n",
       "      1        -2.282161 -0.501225  0.105700      -1        1.191967   \n",
       "1     0        -1.540516  0.486790  0.105700       1        1.482681   \n",
       "      1         1.629738 -2.872056  0.105700       1        1.901988   \n",
       "2     0         1.408018  0.587468  0.105658      -1     -999.000000   \n",
       "\n",
       "                pfRelIso04_all  tightId  softId         dxy      dxyErr  \\\n",
       "entry subentry                                                            \n",
       "0     0               1.030894     True    True    0.010427    0.001131   \n",
       "      1               1.450307     True    True    0.028182    0.005242   \n",
       "1     0               1.552032     True    True   -0.000464    0.001059   \n",
       "      1               2.214382     True    True    0.001154    0.001371   \n",
       "2     0            -999.000000    False   False -999.000000 -999.000000   \n",
       "\n",
       "                        dz       dzErr  \n",
       "entry subentry                          \n",
       "0     0           0.006383    0.002373  \n",
       "      1           0.025898    0.023694  \n",
       "1     0           0.000408    0.003900  \n",
       "      1          -0.018171    0.004747  \n",
       "2     0        -999.000000 -999.000000  "
      ]
     },
     "execution_count": 24,
     "metadata": {},
     "output_type": "execute_result"
    }
   ],
   "source": [
    "df.head()"
   ]
  },
  {
   "cell_type": "code",
   "execution_count": 25,
   "metadata": {},
   "outputs": [],
   "source": [
    "df.to_csv('DoubleMuon.csv')"
   ]
  },
  {
   "cell_type": "code",
   "execution_count": null,
   "metadata": {},
   "outputs": [],
   "source": []
  },
  {
   "cell_type": "code",
   "execution_count": null,
   "metadata": {},
   "outputs": [],
   "source": []
  },
  {
   "cell_type": "code",
   "execution_count": null,
   "metadata": {},
   "outputs": [],
   "source": []
  }
 ],
 "metadata": {
  "kernelspec": {
   "display_name": "Python 3 (ipykernel)",
   "language": "python",
   "name": "python3"
  },
  "language_info": {
   "codemirror_mode": {
    "name": "ipython",
    "version": 3
   },
   "file_extension": ".py",
   "mimetype": "text/x-python",
   "name": "python",
   "nbconvert_exporter": "python",
   "pygments_lexer": "ipython3",
   "version": "3.9.7"
  }
 },
 "nbformat": 4,
 "nbformat_minor": 4
}
