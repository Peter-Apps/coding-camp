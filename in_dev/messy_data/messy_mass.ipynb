{
 "cells": [
  {
   "cell_type": "markdown",
   "metadata": {
    "id": "QCrUddJ5fL98"
   },
   "source": [
    "# Messy Data Sample Analysis"
   ]
  },
  {
   "cell_type": "code",
   "execution_count": null,
   "metadata": {
    "id": "kPqvLtyCfL-B"
   },
   "outputs": [],
   "source": [
    "import pandas as pd\n",
    "import numpy as np\n",
    "import matplotlib as mpl\n",
    "import matplotlib.pyplot as plt"
   ]
  },
  {
   "cell_type": "code",
   "execution_count": null,
   "metadata": {
    "id": "vltqdhSwfL-C"
   },
   "outputs": [],
   "source": [
    "data = pd.read_csv('./DoubleMuon.csv')\n",
    "data.head(10)"
   ]
  },
  {
   "cell_type": "code",
   "execution_count": null,
   "metadata": {
    "id": "-NSdypvQfL-E"
   },
   "outputs": [],
   "source": [
    "# The .shape command displays the (number of rows , number of columns) in a file.\n",
    "data.shape"
   ]
  },
  {
   "cell_type": "code",
   "execution_count": null,
   "metadata": {},
   "outputs": [],
   "source": [
    "# file has two muons from same event on separate lines.\n",
    "# to make each event on a single line, with both muon properties:\n",
    "zeros = data.loc[data['subentry'] == 0].head().copy()\n",
    "ones = data.loc[data['subentry'] == 1].head().copy()\n",
    "new_data = data.loc[data['subentry'] == 0].copy()\n",
    "new_data = new_data.merge(data.loc[data['subentry'] == 1].copy(), on='entry', how='left')\n",
    "\n",
    "# tidy up columns\n",
    "new_data = new_data.drop(columns=['entry', 'nMuon_x', 'nMuon_y', 'subentry_x', 'luminosityBlock_x',\n",
    "       'pfRelIso03_all_x', 'pfRelIso04_all_x', 'tightId_x', 'softId_x',\n",
    "       'dxy_x', 'dxyErr_x', 'dz_x', 'dzErr_x', 'subentry_y', 'run_y',\n",
    "       'luminosityBlock_y', 'event_y', 'pfRelIso03_all_y', 'pfRelIso04_all_y',\n",
    "       'tightId_y', 'softId_y', 'dxy_y', 'dxyErr_y', 'dz_y', 'dzErr_y'])\n",
    "\n",
    "# shorter dataframe name, calculate inv. mass and net charge\n",
    "df = new_data.copy()\n",
    "df['mass'] = np.sqrt(2*df.pt_x*df.pt_y*(np.cosh(df.eta_x - df.eta_y) - np.cos(df.phi_x - df.phi_y)))\n",
    "df['net_q'] = df['charge_x'] + df['charge_y']\n",
    "\n",
    "df.head()"
   ]
  },
  {
   "cell_type": "code",
   "execution_count": null,
   "metadata": {},
   "outputs": [],
   "source": [
    "# comparing cuts\n",
    "plotdata = df.loc[df['net_q'] == 0]\n",
    "plotdata2 = df.loc[(df['net_q'] == 0) & (np.abs(df['eta_x']) < 1) & (np.abs(df['eta_y']) < 1.5)]\n",
    "\n",
    "nbins = 80\n",
    "xrange = (8,16)\n",
    "plt.hist(df['mass'], histtype='step', bins=nbins, range=xrange, label=\"all events\")\n",
    "plt.hist(plotdata['mass'], histtype='step', bins=nbins, range=xrange, label=\"zero net Q\")\n",
    "plt.hist(plotdata2['mass'], histtype='step', bins=nbins, range=xrange, label=\"zero net Q & |eta| < 1.5\")\n",
    "\n",
    "plt.legend(framealpha=1, fancybox=True, loc='upper right')\n",
    "plt.xlabel('M [GeV]')\n",
    "plt.yscale('log')\n",
    "plt.show()"
   ]
  }
 ],
 "metadata": {
  "colab": {
   "name": "CMS_event_analysis.ipynb",
   "provenance": []
  },
  "kernelspec": {
   "display_name": "Python 3 (ipykernel)",
   "language": "python",
   "name": "python3"
  },
  "language_info": {
   "codemirror_mode": {
    "name": "ipython",
    "version": 3
   },
   "file_extension": ".py",
   "mimetype": "text/x-python",
   "name": "python",
   "nbconvert_exporter": "python",
   "pygments_lexer": "ipython3",
   "version": "3.9.7"
  }
 },
 "nbformat": 4,
 "nbformat_minor": 1
}
