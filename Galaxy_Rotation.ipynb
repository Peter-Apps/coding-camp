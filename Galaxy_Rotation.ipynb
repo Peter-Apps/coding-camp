{
  "nbformat": 4,
  "nbformat_minor": 0,
  "metadata": {
    "colab": {
      "provenance": [],
      "include_colab_link": true
    },
    "kernelspec": {
      "name": "python3",
      "display_name": "Python 3"
    },
    "language_info": {
      "name": "python"
    }
  },
  "cells": [
    {
      "cell_type": "markdown",
      "metadata": {
        "id": "view-in-github",
        "colab_type": "text"
      },
      "source": [
        "<a href=\"https://colab.research.google.com/github/fizzixprof/coding-camp/blob/main/Galaxy_Rotation.ipynb\" target=\"_parent\"><img src=\"https://colab.research.google.com/assets/colab-badge.svg\" alt=\"Open In Colab\"/></a>"
      ]
    },
    {
      "cell_type": "markdown",
      "source": [
        "##Graphing Galaxy Rotation Curves"
      ],
      "metadata": {
        "id": "bBMtptXIG8nr"
      }
    },
    {
      "cell_type": "code",
      "execution_count": null,
      "metadata": {
        "id": "kgtp_ETKNGGR"
      },
      "outputs": [],
      "source": [
        "# import libraries\n",
        "import pandas as pd\n",
        "import numpy as np\n",
        "import matplotlib as mpl\n",
        "import matplotlib.pyplot as plt"
      ]
    },
    {
      "cell_type": "markdown",
      "source": [
        "We need to import data so we can make our graphs. The website has 2 files for you to download to your computer. Once they are downloaded, look to the left of this screen where you have 4 icons. The last one is a file folder, click on that to open up your files. You should see one folder titled \"sample_data\". Drag and drop the 2 downloaded files underneath the \"sample_data\" folder (not in it) and continue."
      ],
      "metadata": {
        "id": "x2kgZvcOY8WL"
      }
    },
    {
      "cell_type": "markdown",
      "source": [
        "Once you see your files in that space, you can hover the cursor over the Planets file and see the three dots on the right. Click on those three dots and click on the \"Copy path\" option. You can now paste that path below."
      ],
      "metadata": {
        "id": "fpmxhSA3DhOA"
      }
    },
    {
      "cell_type": "code",
      "source": [
        "# read in a datafile with the distances of planets from the sun and their orbital velocities\n",
        "dataSS = pd.read_csv(\"paste your copy path here\")"
      ],
      "metadata": {
        "id": "2TeB_VbDzRQM"
      },
      "execution_count": null,
      "outputs": []
    },
    {
      "cell_type": "code",
      "source": [
        "# check that the dataset loaded by looking at the first 3 rows\n",
        "dataSS.head(3)"
      ],
      "metadata": {
        "id": "tr3MkrT7zo8d"
      },
      "execution_count": null,
      "outputs": []
    },
    {
      "cell_type": "code",
      "source": [
        "# what would you type in below to look at the first 5 rows? Try it!\n"
      ],
      "metadata": {
        "id": "WrI3Q33QDooe"
      },
      "execution_count": null,
      "outputs": []
    },
    {
      "cell_type": "code",
      "source": [
        "# is Pluto in this dataset? What would you type in below to look at the last 3 rows? Try it!\n"
      ],
      "metadata": {
        "id": "i8eDIka7EXj2"
      },
      "execution_count": null,
      "outputs": []
    },
    {
      "cell_type": "code",
      "source": [
        "# graph the distance from the Sun vs. orbital velocity for each planet\n",
        "# Capitalization matters! Copy the column title or be sure to type it\n",
        "# exactly as you see it above\n",
        "a=dataSS.Radius\n",
        "b=dataSS.Velocity\n",
        "plt.scatter(a,b)\n",
        "plt.xlabel('Label me!')\n",
        "plt.ylabel('Label me!')\n",
        "plt.title('Title me!')\n",
        "plt.show()"
      ],
      "metadata": {
        "id": "lX1n5W95zxN5"
      },
      "execution_count": null,
      "outputs": []
    },
    {
      "cell_type": "code",
      "source": [
        "# add the planet names for each data point\n",
        "c=dataSS.Name\n",
        "plt.scatter(a,b)\n",
        "for i, txt in enumerate(c):\n",
        "    plt.annotate(txt, (a[i], b[i]))\n",
        "\n",
        "plt.show()"
      ],
      "metadata": {
        "id": "zsy5DzNt7vOD"
      },
      "execution_count": null,
      "outputs": []
    },
    {
      "cell_type": "markdown",
      "source": [
        "Go back to the file folder on the left and click on the Copy path option for the Galaxy file to paste below."
      ],
      "metadata": {
        "id": "gSwqu6iDEpun"
      }
    },
    {
      "cell_type": "code",
      "source": [
        "# read in data from a file with the velocities of stars at different distances\n",
        "# from the center of a galaxy\n",
        "dataGal = pd.read_csv(\"paste your copy path here\")"
      ],
      "metadata": {
        "id": "WU-FyPvPuxEK"
      },
      "execution_count": null,
      "outputs": []
    },
    {
      "cell_type": "code",
      "source": [
        "# check that the dataset loaded by looking at the first 3 rows\n",
        "dataGal.head(3)"
      ],
      "metadata": {
        "id": "utfCJBkFvOSj"
      },
      "execution_count": null,
      "outputs": []
    },
    {
      "cell_type": "markdown",
      "source": [
        "This dataset has units of arcseconds for the radius, km/s for velocity and km/s for error.\n",
        "The dataset came from a University of Maryland astronomy website that no longer exists."
      ],
      "metadata": {
        "id": "WQ1msyUlxa_w"
      }
    },
    {
      "cell_type": "code",
      "source": [
        "# determine how many rows and columns are in the dataset\n",
        "dataGal.shape"
      ],
      "metadata": {
        "id": "znqoQtcbvc5e"
      },
      "execution_count": null,
      "outputs": []
    },
    {
      "cell_type": "markdown",
      "source": [
        "Now you want to create a similar graph, so you can use the same code and change a few things.\n",
        "You want to change the variables - use x and y for the axes. DO NOT use a and b! Those are currently set up for the planets file, don't override those definitions.\n",
        "Change all the SS to Gal so change a=dataSS.Radius to x=dataGal.Radius, etc."
      ],
      "metadata": {
        "id": "W7D8MZVOE1rd"
      }
    },
    {
      "cell_type": "code",
      "source": [
        "# graph the distance from the center (radius) vs. the velocity\n",
        "# cut and paste from above, change to Gal file from SS file\n",
        "# Change the x and y axis lables and the graph title\n"
      ],
      "metadata": {
        "id": "G2KLrqlqvtJ5"
      },
      "execution_count": null,
      "outputs": []
    },
    {
      "cell_type": "code",
      "source": [
        "# cut off the negative numbers so it looks more like the solar system graph\n",
        "# graph the distance from the center (radius) vs. the velocity\n",
        "\n",
        "plt.axis([-5, 30, -5, 140])\n",
        "plt.scatter(x,y)\n",
        "plt.show()"
      ],
      "metadata": {
        "id": "e0UwpbBp01oD"
      },
      "execution_count": null,
      "outputs": []
    },
    {
      "cell_type": "code",
      "source": [
        "# add error bars for the velocities\n",
        "\n",
        "z=dataGal.Error\n",
        "plt.scatter(x,y)\n",
        "plt.errorbar(x, y, yerr=z, fmt=\"o\")\n",
        "plt.show()"
      ],
      "metadata": {
        "id": "0n7N7LES5nD6"
      },
      "execution_count": null,
      "outputs": []
    },
    {
      "cell_type": "code",
      "source": [
        "# plot the two graphs next to each other to compare them\n",
        "\n",
        "plt.subplot(1, 2, 1)\n",
        "plt.scatter(a, b)\n",
        "plt.title('Solar System')\n",
        "plt.xlabel('Distance from the sun in millions of km')\n",
        "plt.ylabel('Velocity (km/s)')\n",
        "c=dataSS.Name\n",
        "for i, txt in enumerate(c):\n",
        "    plt.annotate(txt, (a[i], b[i]))\n",
        "\n",
        "\n",
        "plt.subplot(1, 2, 2)\n",
        "plt.scatter(x, y)\n",
        "plt.title('Galaxy F579-V1')\n",
        "plt.xlabel('Distance from Center in arcseconds')\n",
        "plt.ylabel('Velocity in km/s')\n",
        "plt.axis([-5, 30, -5, 140])\n",
        "plt.errorbar(x, y, yerr=z, fmt=\"o\")\n",
        "\n",
        "plt.tight_layout() #keep the two graphs from overlapping\n",
        "plt.show()"
      ],
      "metadata": {
        "id": "Ku7bpToQ1xch"
      },
      "execution_count": null,
      "outputs": []
    },
    {
      "cell_type": "markdown",
      "source": [
        "Based on your two graphs, do you think that stars in galaxies that rotate around the massive center act similarly to planets in the solar system that rotate around our massive sun?\n",
        "\n",
        "What is happening?"
      ],
      "metadata": {
        "id": "pJHUq1QP6H2Y"
      }
    },
    {
      "cell_type": "markdown",
      "source": [
        "##Acknowledgements and License\n",
        "This notebook was designed by Quarknet coding fellow Tiffany Coke.\n",
        "\n",
        "The development and implementation of these materials and workshop were additionally funded by generous support from IRIS-HEP, the [Institute for Research and Innovation in Software for High Energy Physics](https://iris-hep.org/).\n",
        "\n",
        "This work is licensed under a\n",
        "[Creative Commons Attribution-NonCommercial-ShareAlike 4.0 International License][cc-by-nc-sa].\n",
        "\n",
        "[![CC BY-NC-SA 4.0][cc-by-nc-sa-image]][cc-by-nc-sa]\n",
        "\n",
        "[cc-by-nc-sa]: http://creativecommons.org/licenses/by-nc-sa/4.0/\n",
        "[cc-by-nc-sa-image]: https://licensebuttons.net/l/by-nc-sa/4.0/88x31.png\n",
        "[cc-by-nc-sa-shield]: https://img.shields.io/badge/License-CC%20BY--NC--SA%204.0-lightgrey.svg"
      ],
      "metadata": {
        "id": "IP1uuLMrG1pn"
      }
    }
  ]
}