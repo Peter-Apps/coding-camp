{
 "cells": [
  {
   "cell_type": "markdown",
   "id": "68f763af",
   "metadata": {},
   "source": [
    "# Describing data with statistics and a graphs  \n",
    "\n",
    "This activity uses data from the [CMS detector](https://cms.cern/detector) at CERN in Geneva, Switzerland as an example. To get started,\n",
    "- You won't hurt anything by experimenting. If you break it, close the tab and open the activity again to start over.\n",
    "- Is this your first time? Need a refresher? Try the 5-minute [Intro to Coding activity](./intro.ipynb) and come back here. "
   ]
  },
  {
   "cell_type": "code",
   "execution_count": null,
   "id": "0ea01eab",
   "metadata": {},
   "outputs": [],
   "source": [
    "# imports some software packages we'll use\n",
    "import pandas as pd\n",
    "import numpy as np\n",
    "import matplotlib as mpl\n",
    "import matplotlib.pyplot as plt"
   ]
  },
  {
   "cell_type": "code",
   "execution_count": null,
   "id": "fcd7f378",
   "metadata": {},
   "outputs": [],
   "source": [
    "# read in a data file.\n",
    "data = pd.read_csv('https://github.com/QuarkNet-HEP/coding-camp/raw/main/data/Double_Muon_Run2011A.csv')\n",
    "data.head()"
   ]
  },
  {
   "cell_type": "markdown",
   "id": "e27080df",
   "metadata": {},
   "source": [
    "## Descriptive statistics  \n",
    "For numerical data, useful descriptive statistics include number of values, mean, median, min/max, etc."
   ]
  },
  {
   "cell_type": "code",
   "execution_count": null,
   "id": "e9ec5c44",
   "metadata": {},
   "outputs": [],
   "source": [
    "# describe can show useful quantities for a single column\n",
    "data['E1'].describe()"
   ]
  },
  {
   "cell_type": "code",
   "execution_count": null,
   "id": "bc2a6925",
   "metadata": {},
   "outputs": [],
   "source": [
    "# or get just the quantity you need\n",
    "data['E1'].mean()"
   ]
  },
  {
   "cell_type": "code",
   "execution_count": null,
   "id": "2daa4605",
   "metadata": {},
   "outputs": [],
   "source": [
    "med = data['E1'].median()"
   ]
  },
  {
   "cell_type": "markdown",
   "id": "8fb58820",
   "metadata": {},
   "source": [
    "For for a column of categorical data, describe( ) calculates different quantities."
   ]
  },
  {
   "cell_type": "code",
   "execution_count": null,
   "id": "509288cd",
   "metadata": {},
   "outputs": [],
   "source": [
    "# this is a column of catergorical values\n",
    "data['Type2'].describe()"
   ]
  },
  {
   "cell_type": "code",
   "execution_count": null,
   "id": "6c9dc3af",
   "metadata": {},
   "outputs": [],
   "source": [
    "# shows all the different values in that column\n",
    "data['Type2'].unique()"
   ]
  },
  {
   "cell_type": "markdown",
   "id": "599ec1d1",
   "metadata": {},
   "source": [
    "Describe( ) can also show descriptive statistics for the entire dataframe, *but* by default it omits categorical columns."
   ]
  },
  {
   "cell_type": "code",
   "execution_count": null,
   "id": "da9f53de",
   "metadata": {},
   "outputs": [],
   "source": [
    "data.describe()"
   ]
  },
  {
   "cell_type": "code",
   "execution_count": null,
   "id": "df9edeab",
   "metadata": {},
   "outputs": [],
   "source": [
    "# to analyze all columns, even categorical ones\n",
    "data.describe(include='all')"
   ]
  },
  {
   "cell_type": "markdown",
   "id": "ff992bc6",
   "metadata": {},
   "source": [
    "## Vizualizing a single column of values  "
   ]
  },
  {
   "cell_type": "code",
   "execution_count": null,
   "id": "800a41a5",
   "metadata": {},
   "outputs": [],
   "source": [
    "# you can specify the number of bins, range of values to plot, and more.\n",
    "plt.hist(data['E1'], bins=10, range=(100,400), histtype='step')\n",
    "plt.show()"
   ]
  },
  {
   "cell_type": "markdown",
   "id": "5344372e",
   "metadata": {},
   "source": [
    "## Credits\n",
    "This notebook was designed by [Quarknet](https://quarknet.org/) Teaching and Learning Fellow [Adam LaMee](https://adamlamee.github.io/). The handy csv files were created from the CMS Run2011A primary datasets and converted from ROOT format by the masterful [Tom McCauley](https://github.com/tpmccauley). More can be found on the [CERN OpenData](http://opendata.cern.ch/?ln=en) site, like [here](http://opendata.cern.ch/record/545). The 3D vector image can be found on [WikiMedia Commons](https://commons.wikimedia.org/wiki/File:Coord_XYZ.svg). Finally, thanks to the great folks at [Binder](https://mybinder.org/) and [Google Colaboratory](https://colab.research.google.com/notebooks/intro.ipynb) for making this notebook interactive without you needing to download it or install [Jupyter](https://jupyter.org/) on your own device. Find more activities and license info at [CODINGinK12.org](http://www.codingink12.org)."
   ]
  }
 ],
 "metadata": {
  "kernelspec": {
   "display_name": "Python 3 (ipykernel)",
   "language": "python",
   "name": "python3"
  },
  "language_info": {
   "codemirror_mode": {
    "name": "ipython",
    "version": 3
   },
   "file_extension": ".py",
   "mimetype": "text/x-python",
   "name": "python",
   "nbconvert_exporter": "python",
   "pygments_lexer": "ipython3",
   "version": "3.9.7"
  }
 },
 "nbformat": 4,
 "nbformat_minor": 5
}
