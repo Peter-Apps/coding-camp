{
 "cells": [
  {
   "cell_type": "markdown",
   "metadata": {},
   "source": [
    "# Ploting to show uncertainties\n",
    "A **scatterplot** is pretty standard when your test (or independent) variable has levels that are numeric, like distances or lengths. Want to customize this type of plot even more? See matplotlib's [scatter](https://matplotlib.org/stable/api/_as_gen/matplotlib.pyplot.scatter.html) and [errorbar](https://matplotlib.org/stable/api/_as_gen/matplotlib.pyplot.errorbar.html) pages."
   ]
  },
  {
   "cell_type": "code",
   "execution_count": null,
   "metadata": {},
   "outputs": [],
   "source": [
    "import matplotlib.pyplot as plt\n",
    "\n",
    "# some made up values\n",
    "a_level = 1\n",
    "b_level = 2\n",
    "a_mean = 7.5\n",
    "b_mean = 10.2\n",
    "a_unc = .03\n",
    "b_unc = .05\n",
    "\n",
    "# the values that get plotted\n",
    "x_values = [a_level, b_level]\n",
    "y_values = [a_mean, b_mean]\n",
    "errorbars = [2*a_unc, 2*b_unc]   # state what your errorbars represent; 2x unc. is common\n",
    "\n",
    "# make the plot\n",
    "fig, ax = plt.subplots()\n",
    "ax.scatter(x_values, y_values)\n",
    "ax.errorbar(x_values, y_values, yerr=errorbars, ecolor='black', capsize=10, fmt='o')\n",
    "plt.show()"
   ]
  },
  {
   "cell_type": "markdown",
   "metadata": {},
   "source": [
    "A **barplot** is more appropriate when your independent variable has levels that aren't numeric, like \"facing left\" and \"facing right\". Want to customize this type of plot even more? See matplotlib's [barplot](https://matplotlib.org/stable/api/_as_gen/matplotlib.pyplot.bar.html) page."
   ]
  },
  {
   "cell_type": "code",
   "execution_count": null,
   "metadata": {},
   "outputs": [],
   "source": [
    "import matplotlib.pyplot as plt\n",
    "\n",
    "# some made up values\n",
    "a_level = \"high\"\n",
    "b_level = \"low\"\n",
    "a_mean = 7.5\n",
    "b_mean = 10.2\n",
    "a_unc = .3\n",
    "b_unc = .5\n",
    "\n",
    "# set up the values that get plotted\n",
    "bar_labels = [\"a_level\", \"b_level\"]\n",
    "bar_heights = [a_mean, b_mean]\n",
    "errorbars = [2*a_unc, 2*b_unc]   # state what your errorbars represent; 2x unc. is common\n",
    "\n",
    "# make the plot\n",
    "fig, ax = plt.subplots()\n",
    "ax.bar(bar_labels, bar_heights, yerr=errorbars, align='center', alpha=0.5, color='green', ecolor='black', capsize=10)\n",
    "plt.show()"
   ]
  }
 ],
 "metadata": {
  "kernelspec": {
   "display_name": "Python 3 (ipykernel)",
   "language": "python",
   "name": "python3"
  },
  "language_info": {
   "codemirror_mode": {
    "name": "ipython",
    "version": 3
   },
   "file_extension": ".py",
   "mimetype": "text/x-python",
   "name": "python",
   "nbconvert_exporter": "python",
   "pygments_lexer": "ipython3",
   "version": "3.9.7"
  }
 },
 "nbformat": 4,
 "nbformat_minor": 4
}
