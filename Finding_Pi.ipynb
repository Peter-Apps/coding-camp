{
  "nbformat": 4,
  "nbformat_minor": 0,
  "metadata": {
    "colab": {
      "name": "Finding Pi",
      "private_outputs": true,
      "provenance": [],
      "collapsed_sections": [],
      "authorship_tag": "ABX9TyMiw1b3q/emya2NcI7MVMn9",
      "include_colab_link": true
    },
    "kernelspec": {
      "name": "python3",
      "display_name": "Python 3"
    },
    "language_info": {
      "name": "python"
    }
  },
  "cells": [
    {
      "cell_type": "markdown",
      "metadata": {
        "id": "view-in-github",
        "colab_type": "text"
      },
      "source": [
        "<a href=\"https://colab.research.google.com/github/Peter-Apps/coding-camp/blob/main/Finding_Pi.ipynb\" target=\"_parent\"><img src=\"https://colab.research.google.com/assets/colab-badge.svg\" alt=\"Open In Colab\"/></a>"
      ]
    },
    {
      "cell_type": "code",
      "metadata": {
        "id": "9V2JkSXDlEjU"
      },
      "source": [
        "from random import random\n",
        "from matplotlib import pyplot as plt\n",
        "from matplotlib.patches import Rectangle, Circle\n",
        "from matplotlib import animation\n",
        "import numpy as np\n",
        "\n",
        "# Not sure if these are needed since I can't get the animation to work\n",
        "from matplotlib import rc\n",
        "rc('animation', html='jshtml')\n"
      ],
      "execution_count": null,
      "outputs": []
    },
    {
      "cell_type": "code",
      "metadata": {
        "id": "ACo05buxld59"
      },
      "source": [
        "def throw_dart(side = 2):\n",
        "    # Generate two points on the square. \n",
        "    # (0,0) is in the center of the square\n",
        "    x = side * random() - (0.5 * side)\n",
        "    y = side * random() - (0.5 * side)\n",
        "    return (x, y)"
      ],
      "execution_count": null,
      "outputs": []
    },
    {
      "cell_type": "code",
      "metadata": {
        "id": "PLbBRSIuliiU"
      },
      "source": [
        "radius = 1\n",
        "darts_per_trial = 10\n",
        "num_trials = 100\n",
        "\n",
        "hits = 0\n",
        "x_pos = []\n",
        "y_pos = []\n",
        "approx_pi = []\n",
        "\n",
        "for trial in range(1, num_trials + 1):\n",
        "    for dart in range(1, darts_per_trial + 1):\n",
        "        x, y = throw_dart()\n",
        "        x_pos.append(x)\n",
        "        y_pos.append(y)\n",
        "        if x ** 2 + y ** 2 <= radius ** 2:\n",
        "            hits += 1\n",
        "        \n",
        "        # Calculate pi\n",
        "        pi = 4 * hits / len(x_pos)\n",
        "\n",
        "          \n",
        "        approx_pi.append(pi)\n"
      ],
      "execution_count": null,
      "outputs": []
    },
    {
      "cell_type": "markdown",
      "metadata": {
        "id": "dhuK2gOMibY4"
      },
      "source": [
        "### Let's See the Results!"
      ]
    },
    {
      "cell_type": "code",
      "metadata": {
        "id": "UFSScOYNuL8m"
      },
      "source": [
        "# Dart Simulation - Not working yet, it just prints infinitely many graphs\n",
        "'''\n",
        "x_values, y_values = [], []\n",
        "radius = 1\n",
        "\n",
        "theta = np.linspace(0, 2*np.pi, 100)\n",
        "c_x = radius*np.cos(theta)\n",
        "c_y = radius*np.sin(theta)\n",
        "for i in range(len(x_pos)):\n",
        "  plt.plot(c_x, c_y, color = \"green\")\n",
        "  x_values.append(x_pos[i])\n",
        "  y_values.append(y_pos[i])\n",
        "  plt.scatter(x_values, y_values, color = \"blue\")\n",
        "  plt.pause(0.0001)\n",
        "  plt.close()\n",
        "  '''"
      ],
      "execution_count": null,
      "outputs": []
    },
    {
      "cell_type": "code",
      "metadata": {
        "id": "sc3SLlBQlkl0"
      },
      "source": [
        "# Create the dart positions graph\n",
        "fig, ax = plt.subplots()\n",
        "\n",
        "# Draw the square\n",
        "square = Rectangle((-1,-1), 2,2, alpha = 0.5, color = 'blue', clip_on=False)\n",
        "\n",
        "# Draw the circle\n",
        "circle = Circle((0,0), 1, alpha = 0.5, color = 'green', clip_on=False)\n",
        "#ax.add_patch(square)\n",
        "ax.add_patch(circle)\n",
        "ax.axis(\"off\")\n",
        "plt.xlim([-1,1])\n",
        "plt.ylim([-1,1])\n",
        "plt.scatter(x_pos, y_pos)\n",
        "plt.show()\n"
      ],
      "execution_count": null,
      "outputs": []
    },
    {
      "cell_type": "code",
      "metadata": {
        "id": "8yWFA2tiPBs2"
      },
      "source": [
        "fig, ax = plt.subplots()\n",
        "plt.plot([i for i in range(len(x_pos))], approx_pi)\n",
        "plt.xlabel(\"Number of Darts Thrown\")\n",
        "plt.ylabel(\"Approximate Value of Pi\")\n",
        "textstr = \"\\n\".join(['The Approximate Value of Pi is:', f'{approx_pi[-1]}'])\n",
        "props = dict(boxstyle='round', facecolor='lightblue', alpha=0.5)\n",
        "ax.text(0.64, 0.95, textstr, transform=ax.transAxes, fontsize=14, ha='center',va='top', bbox=props)\n",
        "plt.show()"
      ],
      "execution_count": null,
      "outputs": []
    }
  ]
}